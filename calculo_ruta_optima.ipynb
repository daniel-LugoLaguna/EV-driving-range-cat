{
  "cells": [
    {
      "cell_type": "markdown",
      "source": [
        "# Cálculo de ruta óptima entre puntos "
      ],
      "metadata": {
        "id": "BZWw7cLhgdtT"
      }
    },
    {
      "cell_type": "markdown",
      "source": [
        "## 1. Carga de librerias y ficheros de entrada"
      ],
      "metadata": {
        "id": "wB1LAHzvgfxj"
      }
    },
    {
      "cell_type": "markdown",
      "source": [
        "Se cargan inicialmente las librerías y ficheros necesarios para el análisis. En este caso se parte del fichero de distancias entre puntos ya filtrado y limpiado previamente."
      ],
      "metadata": {
        "id": "-uyp7eR3grZv"
      }
    },
    {
      "cell_type": "code",
      "execution_count": 4,
      "metadata": {
        "id": "EGVKBmi1f5pS"
      },
      "outputs": [],
      "source": [
        "import requests\n",
        "import json\n",
        "from datetime import datetime\n",
        "from itertools import combinations\n",
        "import pandas as pd\n",
        "import numpy as np\n",
        "import time\n",
        "import folium\n",
        "from folium.plugins import HeatMap\n",
        "import os\n",
        "import joblib\n",
        "from sklearn.ensemble import RandomForestRegressor\n",
        "%matplotlib inline"
      ]
    },
    {
      "cell_type": "code",
      "source": [
        "from google.colab import drive\n",
        "drive.mount('/content/drive')"
      ],
      "metadata": {
        "colab": {
          "base_uri": "https://localhost:8080/"
        },
        "id": "uxK_Z4KdgCef",
        "outputId": "da0ea7fb-af10-4e05-d952-0cac7dc9d426"
      },
      "execution_count": 5,
      "outputs": [
        {
          "output_type": "stream",
          "name": "stdout",
          "text": [
            "Drive already mounted at /content/drive; to attempt to forcibly remount, call drive.mount(\"/content/drive\", force_remount=True).\n"
          ]
        }
      ]
    },
    {
      "cell_type": "code",
      "source": [
        "import os\n",
        "os.chdir(\"drive/My Drive\")\n",
        "df_dist = pd.read_csv('df_grafo_desc_fin.csv',delimiter=\",\")"
      ],
      "metadata": {
        "id": "gxeKLqtpgHLp"
      },
      "execution_count": 6,
      "outputs": []
    },
    {
      "cell_type": "code",
      "execution_count": 7,
      "metadata": {
        "id": "sJHjvjssf5pT"
      },
      "outputs": [],
      "source": [
        "df_dist_espejo = df_dist.iloc[:, [6,7,8,9,10,11,0,1,2,3,4,5,12,13,16,17,14,15]]"
      ]
    },
    {
      "cell_type": "code",
      "source": [
        "df_dist_espejo = df_dist_espejo.rename({'punto_fin': 'punto_ini', 'denom_fin': 'denom_ini','tipo_carg_fin': 'tipo_carg_ini', 'provincia_fin': 'provincia_ini','municipio_fin': 'municipio_ini', 'tipo_vehic_fin': 'tipo_vehic_ini','lat_fin': 'lat_ini', 'lon_fin': 'lon_ini',\n",
        "                       'punto_ini': 'punto_fin', 'denom_ini': 'denom_fin','tipo_carg_ini': 'tipo_carg_fin', 'provincia_ini': 'provincia_fin','municipio_ini': 'municipio_fin', 'tipo_vehic_ini': 'tipo_vehic_fin','lat_ini': 'lat_fin', 'lon_ini': 'lon_fin'}, axis=1)"
      ],
      "metadata": {
        "id": "KHUVU_2ElZSP"
      },
      "execution_count": 8,
      "outputs": []
    },
    {
      "cell_type": "code",
      "source": [
        "df_dist = pd.concat([df_dist, df_dist_espejo])"
      ],
      "metadata": {
        "id": "JwhwSkimpn92"
      },
      "execution_count": 9,
      "outputs": []
    },
    {
      "cell_type": "markdown",
      "source": [
        "## 2. Estimación de consumo energético para trayectos"
      ],
      "metadata": {
        "id": "fLnx70qsgwnG"
      }
    },
    {
      "cell_type": "markdown",
      "source": [
        "Antes de proceder a la estimación de la ruta óptima, es necesario añadir los datos de consumo energético durante cada uno de los trayectos entre todos los puntos del grafo. (Recordemos que cada registro del dataset cargado es un trayecto entre dos puntos cualesquiera del grafo)"
      ],
      "metadata": {
        "id": "DxvEdUZbhUhM"
      }
    },
    {
      "cell_type": "markdown",
      "source": [
        "## 2.1 Preparación de las variables de entrada y carga del modelo"
      ],
      "metadata": {
        "id": "YWdjm9DmooC9"
      }
    },
    {
      "cell_type": "markdown",
      "source": [
        "En primer lugar se cargará el modelo ya generado y ajustado previamente con los datos de trayectos de vehículos disponibles públicamente a través del repositorio de datos abiertos del gobierno australiano. Fuente: https://data.gov.au/data/dataset/smart-grid-smart-city-electric-vehicle-trial-data "
      ],
      "metadata": {
        "id": "HCxf1BgwsDPu"
      }
    },
    {
      "cell_type": "code",
      "execution_count": 10,
      "metadata": {
        "id": "tugY1A_bf5pU"
      },
      "outputs": [],
      "source": [
        "EV_rf = joblib.load(\"random_forest_EV.joblib\")"
      ]
    },
    {
      "cell_type": "markdown",
      "source": [
        "Para predecir los datos de consumo, es necesario proporcionar las variables utilizadas durante la construcción del algoritmo.\n",
        "\n",
        "- **Velocidad**:Velocidad promedio durante del trayecto en km/h.\n",
        "\n",
        "- **Distancia**: distancia de conducción entre dos puntos medida en km.\n",
        "\n",
        "- **Tiempo encendido faros delanteros**: tiempo en minutos durante el cual los faros delanteros del vehículo han estado conectados durante el trayecto.\n",
        "\n",
        "- **Tiempo encendido aire acondicionado**: tiempo en minutos durante el cual el aire acondicionado del vehículo ha estado conectados durante el trayecto."
      ],
      "metadata": {
        "id": "K6HifXXk5UFt"
      }
    },
    {
      "cell_type": "markdown",
      "source": [
        "### 2.1.1 Distancia"
      ],
      "metadata": {
        "id": "Q6jMxucx9kUi"
      }
    },
    {
      "cell_type": "markdown",
      "source": [
        "La variable distancia medida en Km ha sido extraida directamente a través de la API de Google Maps y no requiere ninguna transformación adicional."
      ],
      "metadata": {
        "id": "Hj4K4q369vbg"
      }
    },
    {
      "cell_type": "markdown",
      "source": [
        "### 2.1.2 Velocidad"
      ],
      "metadata": {
        "id": "uhlC25e67cpk"
      }
    },
    {
      "cell_type": "markdown",
      "source": [
        "La velocidad promedio del trayecto es factible estimarla a partir de los datos proporcionados por la API de Google Maps. En el presente dataset de trayectos se dispone tanto de la distancia entre puntos en km como la duración del trayecto en segundos dependiendo de la velocidad máxima de las vías de circulación y el estado del tráfico. Dado que los datos se extrajeron un día entresemana no festivo, a las 19:00, se asumirá que los datos de tiempo de trayecto son lo suficientemente representativos de un trayecto tipo. \n",
        "\n",
        "Para calcular la velocidad promedio en km/h se procederá de la siguiente forma:\n",
        "\n",
        "# $v = \\frac{dist \\,}{duracion/3600}$"
      ],
      "metadata": {
        "id": "j9cuqqg47otE"
      }
    },
    {
      "cell_type": "code",
      "source": [
        "df_dist[\"vel_promedio\"] = df_dist[\"distancia\"]/(df_dist[\"duracion\"]/3600)"
      ],
      "metadata": {
        "id": "jqnMw0JXoM8Y"
      },
      "execution_count": 11,
      "outputs": []
    },
    {
      "cell_type": "markdown",
      "source": [
        "### 2.1.3 Tiempo encendido faros delanteros"
      ],
      "metadata": {
        "id": "uw7NkFcQAWwp"
      }
    },
    {
      "cell_type": "markdown",
      "source": [
        "En una primera aproximación se tendrán en cuenta trayectos diurnos y por tanto un tiempo de uso promedio de faros delanteros de un 15 % de la duración total del trayecto (posibles garajes o túneles durante el trayecto o en caso de lluvia o niebla)"
      ],
      "metadata": {
        "id": "winZLbzZAegs"
      }
    },
    {
      "cell_type": "code",
      "source": [
        "df_dist[\"dur_headlights\"] = (df_dist[\"duracion\"]*0.15/60)"
      ],
      "metadata": {
        "id": "cTDIHyocBd7A"
      },
      "execution_count": 12,
      "outputs": []
    },
    {
      "cell_type": "markdown",
      "source": [
        "### 2.1.4 Tiempo encendido aire acondicionado"
      ],
      "metadata": {
        "id": "5gS15XP0AzPy"
      }
    },
    {
      "cell_type": "markdown",
      "source": [
        "Se asumirá como día estándar para la utilización del aire acondicionado, un día primaveral con temperaturas moderadas, con un uso bajo de climatización interior. Se define un porcentaje de uso del aire acondicionado equivalente a una cuarta parte del trayecto (25 %)."
      ],
      "metadata": {
        "id": "2p-j4_HtCh9D"
      }
    },
    {
      "cell_type": "code",
      "source": [
        "df_dist[\"dur_clim\"] = (df_dist[\"duracion\"]*0.25/60)"
      ],
      "metadata": {
        "id": "DjdpCxPAC2Zu"
      },
      "execution_count": 13,
      "outputs": []
    },
    {
      "cell_type": "code",
      "source": [
        "df_dist.head()"
      ],
      "metadata": {
        "colab": {
          "base_uri": "https://localhost:8080/",
          "height": 337
        },
        "id": "-B8NCzO0DRcK",
        "outputId": "d1214a85-61f5-4f02-d902-edb53ff4bfff"
      },
      "execution_count": 14,
      "outputs": [
        {
          "output_type": "execute_result",
          "data": {
            "text/html": [
              "\n",
              "  <div id=\"df-247b593b-e095-4678-92aa-ca56bf7162e5\">\n",
              "    <div class=\"colab-df-container\">\n",
              "      <div>\n",
              "<style scoped>\n",
              "    .dataframe tbody tr th:only-of-type {\n",
              "        vertical-align: middle;\n",
              "    }\n",
              "\n",
              "    .dataframe tbody tr th {\n",
              "        vertical-align: top;\n",
              "    }\n",
              "\n",
              "    .dataframe thead th {\n",
              "        text-align: right;\n",
              "    }\n",
              "</style>\n",
              "<table border=\"1\" class=\"dataframe\">\n",
              "  <thead>\n",
              "    <tr style=\"text-align: right;\">\n",
              "      <th></th>\n",
              "      <th>punto_ini</th>\n",
              "      <th>denom_ini</th>\n",
              "      <th>tipo_carg_ini</th>\n",
              "      <th>provincia_ini</th>\n",
              "      <th>municipio_ini</th>\n",
              "      <th>tipo_vehic_ini</th>\n",
              "      <th>punto_fin</th>\n",
              "      <th>denom_fin</th>\n",
              "      <th>tipo_carg_fin</th>\n",
              "      <th>provincia_fin</th>\n",
              "      <th>municipio_fin</th>\n",
              "      <th>tipo_vehic_fin</th>\n",
              "      <th>distancia</th>\n",
              "      <th>duracion</th>\n",
              "      <th>lat_ini</th>\n",
              "      <th>lon_ini</th>\n",
              "      <th>lat_fin</th>\n",
              "      <th>lon_fin</th>\n",
              "      <th>vel_promedio</th>\n",
              "      <th>dur_headlights</th>\n",
              "      <th>dur_clim</th>\n",
              "    </tr>\n",
              "  </thead>\n",
              "  <tbody>\n",
              "    <tr>\n",
              "      <th>0</th>\n",
              "      <td>(41.321165, 2.027702)</td>\n",
              "      <td>CC ALDI</td>\n",
              "      <td>NORMAL</td>\n",
              "      <td>Barcelona</td>\n",
              "      <td>Viladecans</td>\n",
              "      <td>cotxe</td>\n",
              "      <td>(40.80762, 0.52007)</td>\n",
              "      <td>EdRsR Tortosa (AC22kW) PIRVEC-24</td>\n",
              "      <td>semiRAPID</td>\n",
              "      <td>Tarragona</td>\n",
              "      <td>Tortosa</td>\n",
              "      <td>NaN</td>\n",
              "      <td>164.0</td>\n",
              "      <td>6091</td>\n",
              "      <td>41.321165</td>\n",
              "      <td>2.027702</td>\n",
              "      <td>40.807620</td>\n",
              "      <td>0.520070</td>\n",
              "      <td>96.929897</td>\n",
              "      <td>15.2275</td>\n",
              "      <td>25.379167</td>\n",
              "    </tr>\n",
              "    <tr>\n",
              "      <th>1</th>\n",
              "      <td>(41.321165, 2.027702)</td>\n",
              "      <td>CC ALDI</td>\n",
              "      <td>NORMAL</td>\n",
              "      <td>Barcelona</td>\n",
              "      <td>Viladecans</td>\n",
              "      <td>cotxe</td>\n",
              "      <td>(41.38455, 2.1376713)</td>\n",
              "      <td>HOTEL NH NUMANCIA</td>\n",
              "      <td>NORMAL</td>\n",
              "      <td>Barcelona</td>\n",
              "      <td>Barcelona</td>\n",
              "      <td>NaN</td>\n",
              "      <td>15.1</td>\n",
              "      <td>1150</td>\n",
              "      <td>41.321165</td>\n",
              "      <td>2.027702</td>\n",
              "      <td>41.384550</td>\n",
              "      <td>2.137671</td>\n",
              "      <td>47.269565</td>\n",
              "      <td>2.8750</td>\n",
              "      <td>4.791667</td>\n",
              "    </tr>\n",
              "    <tr>\n",
              "      <th>2</th>\n",
              "      <td>(41.321165, 2.027702)</td>\n",
              "      <td>CC ALDI</td>\n",
              "      <td>NORMAL</td>\n",
              "      <td>Barcelona</td>\n",
              "      <td>Viladecans</td>\n",
              "      <td>cotxe</td>\n",
              "      <td>(41.394009000000004, 2.115265)</td>\n",
              "      <td>B:SM 20 - Marques de Mulhacen</td>\n",
              "      <td>NORMAL</td>\n",
              "      <td>Barcelona</td>\n",
              "      <td>Barcelona</td>\n",
              "      <td>cotxe i moto</td>\n",
              "      <td>13.8</td>\n",
              "      <td>933</td>\n",
              "      <td>41.321165</td>\n",
              "      <td>2.027702</td>\n",
              "      <td>41.394009</td>\n",
              "      <td>2.115265</td>\n",
              "      <td>53.247588</td>\n",
              "      <td>2.3325</td>\n",
              "      <td>3.887500</td>\n",
              "    </tr>\n",
              "    <tr>\n",
              "      <th>3</th>\n",
              "      <td>(41.321165, 2.027702)</td>\n",
              "      <td>CC ALDI</td>\n",
              "      <td>NORMAL</td>\n",
              "      <td>Barcelona</td>\n",
              "      <td>Viladecans</td>\n",
              "      <td>cotxe</td>\n",
              "      <td>(41.4047, 2.1896)</td>\n",
              "      <td>B:SM 24 - Ona Glòries</td>\n",
              "      <td>NORMAL</td>\n",
              "      <td>Barcelona</td>\n",
              "      <td>Barcelona</td>\n",
              "      <td>cotxe</td>\n",
              "      <td>22.5</td>\n",
              "      <td>1644</td>\n",
              "      <td>41.321165</td>\n",
              "      <td>2.027702</td>\n",
              "      <td>41.404700</td>\n",
              "      <td>2.189600</td>\n",
              "      <td>49.270073</td>\n",
              "      <td>4.1100</td>\n",
              "      <td>6.850000</td>\n",
              "    </tr>\n",
              "    <tr>\n",
              "      <th>4</th>\n",
              "      <td>(41.321165, 2.027702)</td>\n",
              "      <td>CC ALDI</td>\n",
              "      <td>NORMAL</td>\n",
              "      <td>Barcelona</td>\n",
              "      <td>Viladecans</td>\n",
              "      <td>cotxe</td>\n",
              "      <td>(41.66519, 1.86011)</td>\n",
              "      <td>EdRsR Sant Vicenç de Castellet (AC22kW)</td>\n",
              "      <td>semiRAPID</td>\n",
              "      <td>Barcelona</td>\n",
              "      <td>Sant Vicenç de Castellet</td>\n",
              "      <td>NaN</td>\n",
              "      <td>52.1</td>\n",
              "      <td>2512</td>\n",
              "      <td>41.321165</td>\n",
              "      <td>2.027702</td>\n",
              "      <td>41.665190</td>\n",
              "      <td>1.860110</td>\n",
              "      <td>74.665605</td>\n",
              "      <td>6.2800</td>\n",
              "      <td>10.466667</td>\n",
              "    </tr>\n",
              "  </tbody>\n",
              "</table>\n",
              "</div>\n",
              "      <button class=\"colab-df-convert\" onclick=\"convertToInteractive('df-247b593b-e095-4678-92aa-ca56bf7162e5')\"\n",
              "              title=\"Convert this dataframe to an interactive table.\"\n",
              "              style=\"display:none;\">\n",
              "        \n",
              "  <svg xmlns=\"http://www.w3.org/2000/svg\" height=\"24px\"viewBox=\"0 0 24 24\"\n",
              "       width=\"24px\">\n",
              "    <path d=\"M0 0h24v24H0V0z\" fill=\"none\"/>\n",
              "    <path d=\"M18.56 5.44l.94 2.06.94-2.06 2.06-.94-2.06-.94-.94-2.06-.94 2.06-2.06.94zm-11 1L8.5 8.5l.94-2.06 2.06-.94-2.06-.94L8.5 2.5l-.94 2.06-2.06.94zm10 10l.94 2.06.94-2.06 2.06-.94-2.06-.94-.94-2.06-.94 2.06-2.06.94z\"/><path d=\"M17.41 7.96l-1.37-1.37c-.4-.4-.92-.59-1.43-.59-.52 0-1.04.2-1.43.59L10.3 9.45l-7.72 7.72c-.78.78-.78 2.05 0 2.83L4 21.41c.39.39.9.59 1.41.59.51 0 1.02-.2 1.41-.59l7.78-7.78 2.81-2.81c.8-.78.8-2.07 0-2.86zM5.41 20L4 18.59l7.72-7.72 1.47 1.35L5.41 20z\"/>\n",
              "  </svg>\n",
              "      </button>\n",
              "      \n",
              "  <style>\n",
              "    .colab-df-container {\n",
              "      display:flex;\n",
              "      flex-wrap:wrap;\n",
              "      gap: 12px;\n",
              "    }\n",
              "\n",
              "    .colab-df-convert {\n",
              "      background-color: #E8F0FE;\n",
              "      border: none;\n",
              "      border-radius: 50%;\n",
              "      cursor: pointer;\n",
              "      display: none;\n",
              "      fill: #1967D2;\n",
              "      height: 32px;\n",
              "      padding: 0 0 0 0;\n",
              "      width: 32px;\n",
              "    }\n",
              "\n",
              "    .colab-df-convert:hover {\n",
              "      background-color: #E2EBFA;\n",
              "      box-shadow: 0px 1px 2px rgba(60, 64, 67, 0.3), 0px 1px 3px 1px rgba(60, 64, 67, 0.15);\n",
              "      fill: #174EA6;\n",
              "    }\n",
              "\n",
              "    [theme=dark] .colab-df-convert {\n",
              "      background-color: #3B4455;\n",
              "      fill: #D2E3FC;\n",
              "    }\n",
              "\n",
              "    [theme=dark] .colab-df-convert:hover {\n",
              "      background-color: #434B5C;\n",
              "      box-shadow: 0px 1px 3px 1px rgba(0, 0, 0, 0.15);\n",
              "      filter: drop-shadow(0px 1px 2px rgba(0, 0, 0, 0.3));\n",
              "      fill: #FFFFFF;\n",
              "    }\n",
              "  </style>\n",
              "\n",
              "      <script>\n",
              "        const buttonEl =\n",
              "          document.querySelector('#df-247b593b-e095-4678-92aa-ca56bf7162e5 button.colab-df-convert');\n",
              "        buttonEl.style.display =\n",
              "          google.colab.kernel.accessAllowed ? 'block' : 'none';\n",
              "\n",
              "        async function convertToInteractive(key) {\n",
              "          const element = document.querySelector('#df-247b593b-e095-4678-92aa-ca56bf7162e5');\n",
              "          const dataTable =\n",
              "            await google.colab.kernel.invokeFunction('convertToInteractive',\n",
              "                                                     [key], {});\n",
              "          if (!dataTable) return;\n",
              "\n",
              "          const docLinkHtml = 'Like what you see? Visit the ' +\n",
              "            '<a target=\"_blank\" href=https://colab.research.google.com/notebooks/data_table.ipynb>data table notebook</a>'\n",
              "            + ' to learn more about interactive tables.';\n",
              "          element.innerHTML = '';\n",
              "          dataTable['output_type'] = 'display_data';\n",
              "          await google.colab.output.renderOutput(dataTable, element);\n",
              "          const docLink = document.createElement('div');\n",
              "          docLink.innerHTML = docLinkHtml;\n",
              "          element.appendChild(docLink);\n",
              "        }\n",
              "      </script>\n",
              "    </div>\n",
              "  </div>\n",
              "  "
            ],
            "text/plain": [
              "               punto_ini denom_ini  ... dur_headlights   dur_clim\n",
              "0  (41.321165, 2.027702)   CC ALDI  ...        15.2275  25.379167\n",
              "1  (41.321165, 2.027702)   CC ALDI  ...         2.8750   4.791667\n",
              "2  (41.321165, 2.027702)   CC ALDI  ...         2.3325   3.887500\n",
              "3  (41.321165, 2.027702)   CC ALDI  ...         4.1100   6.850000\n",
              "4  (41.321165, 2.027702)   CC ALDI  ...         6.2800  10.466667\n",
              "\n",
              "[5 rows x 21 columns]"
            ]
          },
          "metadata": {},
          "execution_count": 14
        }
      ]
    },
    {
      "cell_type": "markdown",
      "source": [
        "### 2.1.5 Dataset de entrada del modelo"
      ],
      "metadata": {
        "id": "C84m52ZxDBlF"
      }
    },
    {
      "cell_type": "markdown",
      "source": [
        "Para el dataset de entrada al modelo, se utilizarán las variables anteriormente mencionadas. Se eliminarán previamente todas los registros con duración igual a 0, ya que pueden introducir valores infinitos de velocidad que provocarían un error en las predicciones. Los nombres de las variables para este dataset de entrada x, se cambiarán a los nombres de los campos del conjunto de datos original, ya que el modelo fue construido con esta configuración."
      ],
      "metadata": {
        "id": "1hvEJE8JK8Aj"
      }
    },
    {
      "cell_type": "code",
      "source": [
        "df_dist = df_dist[df_dist['duracion']>0]"
      ],
      "metadata": {
        "id": "Y4Ao5HDRGXHY"
      },
      "execution_count": 15,
      "outputs": []
    },
    {
      "cell_type": "code",
      "source": [
        "#Selección de variables de entrada al modelo.\n",
        "x = df_dist.iloc[:, [18,20,19,12]]"
      ],
      "metadata": {
        "id": "StAEC-2LDBRl"
      },
      "execution_count": 16,
      "outputs": []
    },
    {
      "cell_type": "code",
      "source": [
        "x.rename(columns = {'distancia':'TOTAL_TRIP_DISTANCE','dur_clim':'AC_ON_DURATION','dur_headlights':'HEADLAMP_ON_DURATION','vel_promedio':'TEL_AVG_VELOCITY'}, inplace = True)"
      ],
      "metadata": {
        "colab": {
          "base_uri": "https://localhost:8080/"
        },
        "id": "G176BBNQEsB0",
        "outputId": "5c5d6e6f-5ce1-4aaa-de1b-e122799b2698"
      },
      "execution_count": 17,
      "outputs": [
        {
          "output_type": "stream",
          "name": "stderr",
          "text": [
            "/usr/local/lib/python3.7/dist-packages/pandas/core/frame.py:4308: SettingWithCopyWarning: \n",
            "A value is trying to be set on a copy of a slice from a DataFrame\n",
            "\n",
            "See the caveats in the documentation: https://pandas.pydata.org/pandas-docs/stable/user_guide/indexing.html#returning-a-view-versus-a-copy\n",
            "  errors=errors,\n"
          ]
        }
      ]
    },
    {
      "cell_type": "markdown",
      "source": [
        "## 2.2 Estimación del consumo energético"
      ],
      "metadata": {
        "id": "8XXXJKJuLsb9"
      }
    },
    {
      "cell_type": "markdown",
      "source": [
        "A continuación se estima el consumo energético para cada trayecto con las variables de entrada en las unidades definidas y posteriormente se añade como columna al dataset general en estudio."
      ],
      "metadata": {
        "id": "P5HIt2acL4_r"
      }
    },
    {
      "cell_type": "code",
      "source": [
        "y = EV_rf.predict(x)"
      ],
      "metadata": {
        "id": "1IOFiVmoEELI"
      },
      "execution_count": 18,
      "outputs": []
    },
    {
      "cell_type": "code",
      "source": [
        "df_dist[\"cons_energ\"] = y"
      ],
      "metadata": {
        "id": "z6z0D5VcJO8e"
      },
      "execution_count": 19,
      "outputs": []
    },
    {
      "cell_type": "code",
      "source": [
        "df_dist"
      ],
      "metadata": {
        "id": "LSmWHmDgJacQ",
        "outputId": "21c04b28-259a-4158-d6af-f3acfe4f7649",
        "colab": {
          "base_uri": "https://localhost:8080/",
          "height": 710
        }
      },
      "execution_count": 20,
      "outputs": [
        {
          "output_type": "execute_result",
          "data": {
            "text/html": [
              "\n",
              "  <div id=\"df-61084518-e0ce-4053-a6c2-57f6b60674b4\">\n",
              "    <div class=\"colab-df-container\">\n",
              "      <div>\n",
              "<style scoped>\n",
              "    .dataframe tbody tr th:only-of-type {\n",
              "        vertical-align: middle;\n",
              "    }\n",
              "\n",
              "    .dataframe tbody tr th {\n",
              "        vertical-align: top;\n",
              "    }\n",
              "\n",
              "    .dataframe thead th {\n",
              "        text-align: right;\n",
              "    }\n",
              "</style>\n",
              "<table border=\"1\" class=\"dataframe\">\n",
              "  <thead>\n",
              "    <tr style=\"text-align: right;\">\n",
              "      <th></th>\n",
              "      <th>punto_ini</th>\n",
              "      <th>denom_ini</th>\n",
              "      <th>tipo_carg_ini</th>\n",
              "      <th>provincia_ini</th>\n",
              "      <th>municipio_ini</th>\n",
              "      <th>tipo_vehic_ini</th>\n",
              "      <th>punto_fin</th>\n",
              "      <th>denom_fin</th>\n",
              "      <th>tipo_carg_fin</th>\n",
              "      <th>provincia_fin</th>\n",
              "      <th>municipio_fin</th>\n",
              "      <th>tipo_vehic_fin</th>\n",
              "      <th>distancia</th>\n",
              "      <th>duracion</th>\n",
              "      <th>lat_ini</th>\n",
              "      <th>lon_ini</th>\n",
              "      <th>lat_fin</th>\n",
              "      <th>lon_fin</th>\n",
              "      <th>vel_promedio</th>\n",
              "      <th>dur_headlights</th>\n",
              "      <th>dur_clim</th>\n",
              "      <th>cons_energ</th>\n",
              "    </tr>\n",
              "  </thead>\n",
              "  <tbody>\n",
              "    <tr>\n",
              "      <th>0</th>\n",
              "      <td>(41.321165, 2.027702)</td>\n",
              "      <td>CC ALDI</td>\n",
              "      <td>NORMAL</td>\n",
              "      <td>Barcelona</td>\n",
              "      <td>Viladecans</td>\n",
              "      <td>cotxe</td>\n",
              "      <td>(40.80762, 0.52007)</td>\n",
              "      <td>EdRsR Tortosa (AC22kW) PIRVEC-24</td>\n",
              "      <td>semiRAPID</td>\n",
              "      <td>Tarragona</td>\n",
              "      <td>Tortosa</td>\n",
              "      <td>NaN</td>\n",
              "      <td>164.0</td>\n",
              "      <td>6091</td>\n",
              "      <td>41.321165</td>\n",
              "      <td>2.027702</td>\n",
              "      <td>40.807620</td>\n",
              "      <td>0.520070</td>\n",
              "      <td>96.929897</td>\n",
              "      <td>15.2275</td>\n",
              "      <td>25.379167</td>\n",
              "      <td>64.079472</td>\n",
              "    </tr>\n",
              "    <tr>\n",
              "      <th>1</th>\n",
              "      <td>(41.321165, 2.027702)</td>\n",
              "      <td>CC ALDI</td>\n",
              "      <td>NORMAL</td>\n",
              "      <td>Barcelona</td>\n",
              "      <td>Viladecans</td>\n",
              "      <td>cotxe</td>\n",
              "      <td>(41.38455, 2.1376713)</td>\n",
              "      <td>HOTEL NH NUMANCIA</td>\n",
              "      <td>NORMAL</td>\n",
              "      <td>Barcelona</td>\n",
              "      <td>Barcelona</td>\n",
              "      <td>NaN</td>\n",
              "      <td>15.1</td>\n",
              "      <td>1150</td>\n",
              "      <td>41.321165</td>\n",
              "      <td>2.027702</td>\n",
              "      <td>41.384550</td>\n",
              "      <td>2.137671</td>\n",
              "      <td>47.269565</td>\n",
              "      <td>2.8750</td>\n",
              "      <td>4.791667</td>\n",
              "      <td>14.642674</td>\n",
              "    </tr>\n",
              "    <tr>\n",
              "      <th>2</th>\n",
              "      <td>(41.321165, 2.027702)</td>\n",
              "      <td>CC ALDI</td>\n",
              "      <td>NORMAL</td>\n",
              "      <td>Barcelona</td>\n",
              "      <td>Viladecans</td>\n",
              "      <td>cotxe</td>\n",
              "      <td>(41.394009000000004, 2.115265)</td>\n",
              "      <td>B:SM 20 - Marques de Mulhacen</td>\n",
              "      <td>NORMAL</td>\n",
              "      <td>Barcelona</td>\n",
              "      <td>Barcelona</td>\n",
              "      <td>cotxe i moto</td>\n",
              "      <td>13.8</td>\n",
              "      <td>933</td>\n",
              "      <td>41.321165</td>\n",
              "      <td>2.027702</td>\n",
              "      <td>41.394009</td>\n",
              "      <td>2.115265</td>\n",
              "      <td>53.247588</td>\n",
              "      <td>2.3325</td>\n",
              "      <td>3.887500</td>\n",
              "      <td>15.294823</td>\n",
              "    </tr>\n",
              "    <tr>\n",
              "      <th>3</th>\n",
              "      <td>(41.321165, 2.027702)</td>\n",
              "      <td>CC ALDI</td>\n",
              "      <td>NORMAL</td>\n",
              "      <td>Barcelona</td>\n",
              "      <td>Viladecans</td>\n",
              "      <td>cotxe</td>\n",
              "      <td>(41.4047, 2.1896)</td>\n",
              "      <td>B:SM 24 - Ona Glòries</td>\n",
              "      <td>NORMAL</td>\n",
              "      <td>Barcelona</td>\n",
              "      <td>Barcelona</td>\n",
              "      <td>cotxe</td>\n",
              "      <td>22.5</td>\n",
              "      <td>1644</td>\n",
              "      <td>41.321165</td>\n",
              "      <td>2.027702</td>\n",
              "      <td>41.404700</td>\n",
              "      <td>2.189600</td>\n",
              "      <td>49.270073</td>\n",
              "      <td>4.1100</td>\n",
              "      <td>6.850000</td>\n",
              "      <td>22.628382</td>\n",
              "    </tr>\n",
              "    <tr>\n",
              "      <th>4</th>\n",
              "      <td>(41.321165, 2.027702)</td>\n",
              "      <td>CC ALDI</td>\n",
              "      <td>NORMAL</td>\n",
              "      <td>Barcelona</td>\n",
              "      <td>Viladecans</td>\n",
              "      <td>cotxe</td>\n",
              "      <td>(41.66519, 1.86011)</td>\n",
              "      <td>EdRsR Sant Vicenç de Castellet (AC22kW)</td>\n",
              "      <td>semiRAPID</td>\n",
              "      <td>Barcelona</td>\n",
              "      <td>Sant Vicenç de Castellet</td>\n",
              "      <td>NaN</td>\n",
              "      <td>52.1</td>\n",
              "      <td>2512</td>\n",
              "      <td>41.321165</td>\n",
              "      <td>2.027702</td>\n",
              "      <td>41.665190</td>\n",
              "      <td>1.860110</td>\n",
              "      <td>74.665605</td>\n",
              "      <td>6.2800</td>\n",
              "      <td>10.466667</td>\n",
              "      <td>56.458578</td>\n",
              "    </tr>\n",
              "    <tr>\n",
              "      <th>...</th>\n",
              "      <td>...</td>\n",
              "      <td>...</td>\n",
              "      <td>...</td>\n",
              "      <td>...</td>\n",
              "      <td>...</td>\n",
              "      <td>...</td>\n",
              "      <td>...</td>\n",
              "      <td>...</td>\n",
              "      <td>...</td>\n",
              "      <td>...</td>\n",
              "      <td>...</td>\n",
              "      <td>...</td>\n",
              "      <td>...</td>\n",
              "      <td>...</td>\n",
              "      <td>...</td>\n",
              "      <td>...</td>\n",
              "      <td>...</td>\n",
              "      <td>...</td>\n",
              "      <td>...</td>\n",
              "      <td>...</td>\n",
              "      <td>...</td>\n",
              "      <td>...</td>\n",
              "    </tr>\n",
              "    <tr>\n",
              "      <th>70493</th>\n",
              "      <td>(41.372299, 2.153134)</td>\n",
              "      <td>B:SM 35 - Rius i Taulet</td>\n",
              "      <td>NORMAL</td>\n",
              "      <td>Barcelona</td>\n",
              "      <td>Barcelona</td>\n",
              "      <td>cotxe i moto</td>\n",
              "      <td>(42.426809999999996, 1.9292200000000002)</td>\n",
              "      <td>EdRR Puigcerdà (DC50kW AC43kW) PIRVEC-20</td>\n",
              "      <td>RAPID</td>\n",
              "      <td>Girona</td>\n",
              "      <td>Puigcerdà</td>\n",
              "      <td>NaN</td>\n",
              "      <td>151.0</td>\n",
              "      <td>6972</td>\n",
              "      <td>41.372299</td>\n",
              "      <td>2.153134</td>\n",
              "      <td>42.426810</td>\n",
              "      <td>1.929220</td>\n",
              "      <td>77.969019</td>\n",
              "      <td>17.4300</td>\n",
              "      <td>29.050000</td>\n",
              "      <td>67.533215</td>\n",
              "    </tr>\n",
              "    <tr>\n",
              "      <th>70494</th>\n",
              "      <td>(41.56064, 2.0059)</td>\n",
              "      <td>Aparcament Plaça Progrés</td>\n",
              "      <td>NORMAL</td>\n",
              "      <td>Barcelona</td>\n",
              "      <td>Terrassa</td>\n",
              "      <td>cotxe i moto</td>\n",
              "      <td>(42.426809999999996, 1.9292200000000002)</td>\n",
              "      <td>EdRR Puigcerdà (DC50kW AC43kW) PIRVEC-20</td>\n",
              "      <td>RAPID</td>\n",
              "      <td>Girona</td>\n",
              "      <td>Puigcerdà</td>\n",
              "      <td>NaN</td>\n",
              "      <td>124.0</td>\n",
              "      <td>5497</td>\n",
              "      <td>41.560640</td>\n",
              "      <td>2.005900</td>\n",
              "      <td>42.426810</td>\n",
              "      <td>1.929220</td>\n",
              "      <td>81.207932</td>\n",
              "      <td>13.7425</td>\n",
              "      <td>22.904167</td>\n",
              "      <td>66.950116</td>\n",
              "    </tr>\n",
              "    <tr>\n",
              "      <th>70495</th>\n",
              "      <td>(41.372299, 2.153134)</td>\n",
              "      <td>B:SM 35 - Rius i Taulet</td>\n",
              "      <td>NORMAL</td>\n",
              "      <td>Barcelona</td>\n",
              "      <td>Barcelona</td>\n",
              "      <td>cotxe i moto</td>\n",
              "      <td>(41.613690000000005, 2.3454900000000003)</td>\n",
              "      <td>CC La Roca Village Aparcament (11kW)</td>\n",
              "      <td>semiRAPID i NORMAL</td>\n",
              "      <td>Barcelona</td>\n",
              "      <td>La Roca del Vallès</td>\n",
              "      <td>cotxe i moto</td>\n",
              "      <td>52.0</td>\n",
              "      <td>2635</td>\n",
              "      <td>41.372299</td>\n",
              "      <td>2.153134</td>\n",
              "      <td>41.613690</td>\n",
              "      <td>2.345490</td>\n",
              "      <td>71.043643</td>\n",
              "      <td>6.5875</td>\n",
              "      <td>10.979167</td>\n",
              "      <td>56.614270</td>\n",
              "    </tr>\n",
              "    <tr>\n",
              "      <th>70496</th>\n",
              "      <td>(41.56064, 2.0059)</td>\n",
              "      <td>Aparcament Plaça Progrés</td>\n",
              "      <td>NORMAL</td>\n",
              "      <td>Barcelona</td>\n",
              "      <td>Terrassa</td>\n",
              "      <td>cotxe i moto</td>\n",
              "      <td>(41.613690000000005, 2.3454900000000003)</td>\n",
              "      <td>CC La Roca Village Aparcament (11kW)</td>\n",
              "      <td>semiRAPID i NORMAL</td>\n",
              "      <td>Barcelona</td>\n",
              "      <td>La Roca del Vallès</td>\n",
              "      <td>cotxe i moto</td>\n",
              "      <td>40.8</td>\n",
              "      <td>1960</td>\n",
              "      <td>41.560640</td>\n",
              "      <td>2.005900</td>\n",
              "      <td>41.613690</td>\n",
              "      <td>2.345490</td>\n",
              "      <td>74.938776</td>\n",
              "      <td>4.9000</td>\n",
              "      <td>8.166667</td>\n",
              "      <td>42.887716</td>\n",
              "    </tr>\n",
              "    <tr>\n",
              "      <th>70497</th>\n",
              "      <td>(41.56064, 2.0059)</td>\n",
              "      <td>Aparcament Plaça Progrés</td>\n",
              "      <td>NORMAL</td>\n",
              "      <td>Barcelona</td>\n",
              "      <td>Terrassa</td>\n",
              "      <td>cotxe i moto</td>\n",
              "      <td>(41.372299, 2.153134)</td>\n",
              "      <td>B:SM 35 - Rius i Taulet</td>\n",
              "      <td>NORMAL</td>\n",
              "      <td>Barcelona</td>\n",
              "      <td>Barcelona</td>\n",
              "      <td>cotxe i moto</td>\n",
              "      <td>41.0</td>\n",
              "      <td>2285</td>\n",
              "      <td>41.560640</td>\n",
              "      <td>2.005900</td>\n",
              "      <td>41.372299</td>\n",
              "      <td>2.153134</td>\n",
              "      <td>64.595186</td>\n",
              "      <td>5.7125</td>\n",
              "      <td>9.520833</td>\n",
              "      <td>43.384779</td>\n",
              "    </tr>\n",
              "  </tbody>\n",
              "</table>\n",
              "<p>140978 rows × 22 columns</p>\n",
              "</div>\n",
              "      <button class=\"colab-df-convert\" onclick=\"convertToInteractive('df-61084518-e0ce-4053-a6c2-57f6b60674b4')\"\n",
              "              title=\"Convert this dataframe to an interactive table.\"\n",
              "              style=\"display:none;\">\n",
              "        \n",
              "  <svg xmlns=\"http://www.w3.org/2000/svg\" height=\"24px\"viewBox=\"0 0 24 24\"\n",
              "       width=\"24px\">\n",
              "    <path d=\"M0 0h24v24H0V0z\" fill=\"none\"/>\n",
              "    <path d=\"M18.56 5.44l.94 2.06.94-2.06 2.06-.94-2.06-.94-.94-2.06-.94 2.06-2.06.94zm-11 1L8.5 8.5l.94-2.06 2.06-.94-2.06-.94L8.5 2.5l-.94 2.06-2.06.94zm10 10l.94 2.06.94-2.06 2.06-.94-2.06-.94-.94-2.06-.94 2.06-2.06.94z\"/><path d=\"M17.41 7.96l-1.37-1.37c-.4-.4-.92-.59-1.43-.59-.52 0-1.04.2-1.43.59L10.3 9.45l-7.72 7.72c-.78.78-.78 2.05 0 2.83L4 21.41c.39.39.9.59 1.41.59.51 0 1.02-.2 1.41-.59l7.78-7.78 2.81-2.81c.8-.78.8-2.07 0-2.86zM5.41 20L4 18.59l7.72-7.72 1.47 1.35L5.41 20z\"/>\n",
              "  </svg>\n",
              "      </button>\n",
              "      \n",
              "  <style>\n",
              "    .colab-df-container {\n",
              "      display:flex;\n",
              "      flex-wrap:wrap;\n",
              "      gap: 12px;\n",
              "    }\n",
              "\n",
              "    .colab-df-convert {\n",
              "      background-color: #E8F0FE;\n",
              "      border: none;\n",
              "      border-radius: 50%;\n",
              "      cursor: pointer;\n",
              "      display: none;\n",
              "      fill: #1967D2;\n",
              "      height: 32px;\n",
              "      padding: 0 0 0 0;\n",
              "      width: 32px;\n",
              "    }\n",
              "\n",
              "    .colab-df-convert:hover {\n",
              "      background-color: #E2EBFA;\n",
              "      box-shadow: 0px 1px 2px rgba(60, 64, 67, 0.3), 0px 1px 3px 1px rgba(60, 64, 67, 0.15);\n",
              "      fill: #174EA6;\n",
              "    }\n",
              "\n",
              "    [theme=dark] .colab-df-convert {\n",
              "      background-color: #3B4455;\n",
              "      fill: #D2E3FC;\n",
              "    }\n",
              "\n",
              "    [theme=dark] .colab-df-convert:hover {\n",
              "      background-color: #434B5C;\n",
              "      box-shadow: 0px 1px 3px 1px rgba(0, 0, 0, 0.15);\n",
              "      filter: drop-shadow(0px 1px 2px rgba(0, 0, 0, 0.3));\n",
              "      fill: #FFFFFF;\n",
              "    }\n",
              "  </style>\n",
              "\n",
              "      <script>\n",
              "        const buttonEl =\n",
              "          document.querySelector('#df-61084518-e0ce-4053-a6c2-57f6b60674b4 button.colab-df-convert');\n",
              "        buttonEl.style.display =\n",
              "          google.colab.kernel.accessAllowed ? 'block' : 'none';\n",
              "\n",
              "        async function convertToInteractive(key) {\n",
              "          const element = document.querySelector('#df-61084518-e0ce-4053-a6c2-57f6b60674b4');\n",
              "          const dataTable =\n",
              "            await google.colab.kernel.invokeFunction('convertToInteractive',\n",
              "                                                     [key], {});\n",
              "          if (!dataTable) return;\n",
              "\n",
              "          const docLinkHtml = 'Like what you see? Visit the ' +\n",
              "            '<a target=\"_blank\" href=https://colab.research.google.com/notebooks/data_table.ipynb>data table notebook</a>'\n",
              "            + ' to learn more about interactive tables.';\n",
              "          element.innerHTML = '';\n",
              "          dataTable['output_type'] = 'display_data';\n",
              "          await google.colab.output.renderOutput(dataTable, element);\n",
              "          const docLink = document.createElement('div');\n",
              "          docLink.innerHTML = docLinkHtml;\n",
              "          element.appendChild(docLink);\n",
              "        }\n",
              "      </script>\n",
              "    </div>\n",
              "  </div>\n",
              "  "
            ],
            "text/plain": [
              "                   punto_ini                 denom_ini  ...   dur_clim cons_energ\n",
              "0      (41.321165, 2.027702)                   CC ALDI  ...  25.379167  64.079472\n",
              "1      (41.321165, 2.027702)                   CC ALDI  ...   4.791667  14.642674\n",
              "2      (41.321165, 2.027702)                   CC ALDI  ...   3.887500  15.294823\n",
              "3      (41.321165, 2.027702)                   CC ALDI  ...   6.850000  22.628382\n",
              "4      (41.321165, 2.027702)                   CC ALDI  ...  10.466667  56.458578\n",
              "...                      ...                       ...  ...        ...        ...\n",
              "70493  (41.372299, 2.153134)   B:SM 35 - Rius i Taulet  ...  29.050000  67.533215\n",
              "70494     (41.56064, 2.0059)  Aparcament Plaça Progrés  ...  22.904167  66.950116\n",
              "70495  (41.372299, 2.153134)   B:SM 35 - Rius i Taulet  ...  10.979167  56.614270\n",
              "70496     (41.56064, 2.0059)  Aparcament Plaça Progrés  ...   8.166667  42.887716\n",
              "70497     (41.56064, 2.0059)  Aparcament Plaça Progrés  ...   9.520833  43.384779\n",
              "\n",
              "[140978 rows x 22 columns]"
            ]
          },
          "metadata": {},
          "execution_count": 20
        }
      ]
    },
    {
      "cell_type": "markdown",
      "source": [
        "En este punto es conveniente introducir una corrección sobre el consumo debido al avance en la tecnología del vehículo eléctrico en los últimos años.\n",
        "\n",
        "Las estimaciones de consumo del modelo, han sido generadas en base a trayectos reales realizados por un vehículo eléctrico Mitsubishi iMiEV, Modelo 2010. Este vehículo además de ser más antigua su tecnología, también tiene un tamaño más reducido, siendo su batería de menor capacidad.\n",
        "\n",
        "Dado que los consumos entre trayectos se han generado en porcentaje de carga total de la batería, de cara a este estudio es necesario comprobar que este consumo relativo es similar a los modelos actuales de vehículos presentes en el mercado español de características similares. Atendiendo a ev-database, la capacidad real de la batería del Mitsubishi iMiEV es de  145 Wh/km. Si comparamos con uno de los modelos actuales más vendidos en el mercado español en el año 2021, el Fiat 500e,su consumo real promedio en un entorno mixto urbano/autopista es de 138 Wh/km.\n",
        "\n",
        "https://ev-database.org/car/1285/Fiat-500e-Hatchback-42-kWh\n",
        "\n",
        "https://ev-database.org/car/1029/Mitsubishi-i-MiEV\n",
        "\n",
        "Dada la similitud entre consumos promedio, se mantendrán los valores iniciales.\n"
      ],
      "metadata": {
        "id": "pxNa9p9OMIN-"
      }
    },
    {
      "cell_type": "markdown",
      "source": [
        "Revisando la autonomía real del modelo seleccionado, el Mitsubishi iMiEV modelo 2010 tiene una autonomía real de un promedio de 100 km para un entorno combinado autopista y urbano. Se eliminarán todos los trayectos de distancia superior a 90 km."
      ],
      "metadata": {
        "id": "fmHRCU0vrsaN"
      }
    },
    {
      "cell_type": "code",
      "source": [
        "#df_dist[\"cons_energ\"] = df_dist[\"cons_energ\"]*(14.5/37.3)*(138/145)"
      ],
      "metadata": {
        "id": "_yWNB4QU0Zlt"
      },
      "execution_count": 21,
      "outputs": []
    },
    {
      "cell_type": "code",
      "source": [
        "df_dist = df_dist[df_dist[\"distancia\"]<90]\n",
        "df_dist = df_dist[df_dist[\"tipo_carg_ini\"]!=\"NORMAL\"]\n",
        "df_dist = df_dist[df_dist[\"tipo_carg_fin\"]!=\"NORMAL\"]\n",
        "df_dist = df_dist[df_dist[\"tipo_carg_ini\"]!=\"FORA DE SERVEI\"]\n",
        "df_dist = df_dist[df_dist[\"tipo_carg_fin\"]!=\"FORA DE SERVEI\"]"
      ],
      "metadata": {
        "id": "g86dQgU81qnN"
      },
      "execution_count": 22,
      "outputs": []
    },
    {
      "cell_type": "code",
      "source": [
        "len(list(set([*df_dist[\"denom_ini\"], *df_dist[\"denom_fin\"]])))"
      ],
      "metadata": {
        "colab": {
          "base_uri": "https://localhost:8080/"
        },
        "id": "-YIQ1vEGdF8x",
        "outputId": "40d72f99-0b28-49d4-b511-2a50b61819cc"
      },
      "execution_count": 23,
      "outputs": [
        {
          "output_type": "execute_result",
          "data": {
            "text/plain": [
              "183"
            ]
          },
          "metadata": {},
          "execution_count": 23
        }
      ]
    },
    {
      "cell_type": "code",
      "source": [
        "df_dist"
      ],
      "metadata": {
        "colab": {
          "base_uri": "https://localhost:8080/",
          "height": 953
        },
        "id": "tFIICIP7ciid",
        "outputId": "507b3f66-5597-4173-e804-9fe933fe0fb3"
      },
      "execution_count": 24,
      "outputs": [
        {
          "output_type": "execute_result",
          "data": {
            "text/html": [
              "\n",
              "  <div id=\"df-7403f6f3-51f0-42cf-9879-60ba0da76635\">\n",
              "    <div class=\"colab-df-container\">\n",
              "      <div>\n",
              "<style scoped>\n",
              "    .dataframe tbody tr th:only-of-type {\n",
              "        vertical-align: middle;\n",
              "    }\n",
              "\n",
              "    .dataframe tbody tr th {\n",
              "        vertical-align: top;\n",
              "    }\n",
              "\n",
              "    .dataframe thead th {\n",
              "        text-align: right;\n",
              "    }\n",
              "</style>\n",
              "<table border=\"1\" class=\"dataframe\">\n",
              "  <thead>\n",
              "    <tr style=\"text-align: right;\">\n",
              "      <th></th>\n",
              "      <th>punto_ini</th>\n",
              "      <th>denom_ini</th>\n",
              "      <th>tipo_carg_ini</th>\n",
              "      <th>provincia_ini</th>\n",
              "      <th>municipio_ini</th>\n",
              "      <th>tipo_vehic_ini</th>\n",
              "      <th>punto_fin</th>\n",
              "      <th>denom_fin</th>\n",
              "      <th>tipo_carg_fin</th>\n",
              "      <th>provincia_fin</th>\n",
              "      <th>municipio_fin</th>\n",
              "      <th>tipo_vehic_fin</th>\n",
              "      <th>distancia</th>\n",
              "      <th>duracion</th>\n",
              "      <th>lat_ini</th>\n",
              "      <th>lon_ini</th>\n",
              "      <th>lat_fin</th>\n",
              "      <th>lon_fin</th>\n",
              "      <th>vel_promedio</th>\n",
              "      <th>dur_headlights</th>\n",
              "      <th>dur_clim</th>\n",
              "      <th>cons_energ</th>\n",
              "    </tr>\n",
              "  </thead>\n",
              "  <tbody>\n",
              "    <tr>\n",
              "      <th>390</th>\n",
              "      <td>(40.80762, 0.52007)</td>\n",
              "      <td>EdRsR Tortosa (AC22kW) PIRVEC-24</td>\n",
              "      <td>semiRAPID</td>\n",
              "      <td>Tarragona</td>\n",
              "      <td>Tortosa</td>\n",
              "      <td>NaN</td>\n",
              "      <td>(41.15188, 1.2143700000000002)</td>\n",
              "      <td>EdRsR Constantí (AC22kW)</td>\n",
              "      <td>semiRAPID i NORMAL</td>\n",
              "      <td>Tarragona</td>\n",
              "      <td>Constantí</td>\n",
              "      <td>cotxe i moto</td>\n",
              "      <td>86.4</td>\n",
              "      <td>3473</td>\n",
              "      <td>40.807620</td>\n",
              "      <td>0.520070</td>\n",
              "      <td>41.151880</td>\n",
              "      <td>1.214370</td>\n",
              "      <td>89.559459</td>\n",
              "      <td>8.6825</td>\n",
              "      <td>14.470833</td>\n",
              "      <td>72.605373</td>\n",
              "    </tr>\n",
              "    <tr>\n",
              "      <th>391</th>\n",
              "      <td>(40.80762, 0.52007)</td>\n",
              "      <td>EdRsR Tortosa (AC22kW) PIRVEC-24</td>\n",
              "      <td>semiRAPID</td>\n",
              "      <td>Tarragona</td>\n",
              "      <td>Tortosa</td>\n",
              "      <td>NaN</td>\n",
              "      <td>(40.99197, 0.9214700000000001)</td>\n",
              "      <td>EdRR Vandellòs i Hospitalet de l'Infant (DC50k...</td>\n",
              "      <td>RAPID</td>\n",
              "      <td>Tarragona</td>\n",
              "      <td>Vandellòs i l'Hospitalet i l'infant</td>\n",
              "      <td>NaN</td>\n",
              "      <td>51.3</td>\n",
              "      <td>2159</td>\n",
              "      <td>40.807620</td>\n",
              "      <td>0.520070</td>\n",
              "      <td>40.991970</td>\n",
              "      <td>0.921470</td>\n",
              "      <td>85.539602</td>\n",
              "      <td>5.3975</td>\n",
              "      <td>8.995833</td>\n",
              "      <td>57.841226</td>\n",
              "    </tr>\n",
              "    <tr>\n",
              "      <th>434</th>\n",
              "      <td>(40.80762, 0.52007)</td>\n",
              "      <td>EdRsR Tortosa (AC22kW) PIRVEC-24</td>\n",
              "      <td>semiRAPID</td>\n",
              "      <td>Tarragona</td>\n",
              "      <td>Tortosa</td>\n",
              "      <td>NaN</td>\n",
              "      <td>(41.08598, 1.03674)</td>\n",
              "      <td>EdRR CEPSA Cambrils (DC50kW AC43kW+AC22kW)</td>\n",
              "      <td>RAPID i semiRAPID</td>\n",
              "      <td>Tarragona</td>\n",
              "      <td>Cambrils</td>\n",
              "      <td>NaN</td>\n",
              "      <td>64.3</td>\n",
              "      <td>2569</td>\n",
              "      <td>40.807620</td>\n",
              "      <td>0.520070</td>\n",
              "      <td>41.085980</td>\n",
              "      <td>1.036740</td>\n",
              "      <td>90.105099</td>\n",
              "      <td>6.4225</td>\n",
              "      <td>10.704167</td>\n",
              "      <td>77.180981</td>\n",
              "    </tr>\n",
              "    <tr>\n",
              "      <th>456</th>\n",
              "      <td>(40.80762, 0.52007)</td>\n",
              "      <td>EdRsR Tortosa (AC22kW) PIRVEC-24</td>\n",
              "      <td>semiRAPID</td>\n",
              "      <td>Tarragona</td>\n",
              "      <td>Tortosa</td>\n",
              "      <td>NaN</td>\n",
              "      <td>(41.11432, 1.15586)</td>\n",
              "      <td>IBIL ES REPSOL-Vilaseca (DC50kW AC43kW)</td>\n",
              "      <td>RAPID</td>\n",
              "      <td>Tarragona</td>\n",
              "      <td>Vilaseca</td>\n",
              "      <td>cotxe</td>\n",
              "      <td>76.2</td>\n",
              "      <td>2968</td>\n",
              "      <td>40.807620</td>\n",
              "      <td>0.520070</td>\n",
              "      <td>41.114320</td>\n",
              "      <td>1.155860</td>\n",
              "      <td>92.425876</td>\n",
              "      <td>7.4200</td>\n",
              "      <td>12.366667</td>\n",
              "      <td>75.684150</td>\n",
              "    </tr>\n",
              "    <tr>\n",
              "      <th>459</th>\n",
              "      <td>(40.80762, 0.52007)</td>\n",
              "      <td>EdRsR Tortosa (AC22kW) PIRVEC-24</td>\n",
              "      <td>semiRAPID</td>\n",
              "      <td>Tarragona</td>\n",
              "      <td>Tortosa</td>\n",
              "      <td>NaN</td>\n",
              "      <td>(40.88558, 0.80385)</td>\n",
              "      <td>EdRsR L'Ametlla de Mar (AC22kW)</td>\n",
              "      <td>semiRAPID i NORMAL</td>\n",
              "      <td>Tarragona</td>\n",
              "      <td>L'Ametlla de Mar</td>\n",
              "      <td>NaN</td>\n",
              "      <td>34.3</td>\n",
              "      <td>1617</td>\n",
              "      <td>40.807620</td>\n",
              "      <td>0.520070</td>\n",
              "      <td>40.885580</td>\n",
              "      <td>0.803850</td>\n",
              "      <td>76.363636</td>\n",
              "      <td>4.0425</td>\n",
              "      <td>6.737500</td>\n",
              "      <td>32.958483</td>\n",
              "    </tr>\n",
              "    <tr>\n",
              "      <th>...</th>\n",
              "      <td>...</td>\n",
              "      <td>...</td>\n",
              "      <td>...</td>\n",
              "      <td>...</td>\n",
              "      <td>...</td>\n",
              "      <td>...</td>\n",
              "      <td>...</td>\n",
              "      <td>...</td>\n",
              "      <td>...</td>\n",
              "      <td>...</td>\n",
              "      <td>...</td>\n",
              "      <td>...</td>\n",
              "      <td>...</td>\n",
              "      <td>...</td>\n",
              "      <td>...</td>\n",
              "      <td>...</td>\n",
              "      <td>...</td>\n",
              "      <td>...</td>\n",
              "      <td>...</td>\n",
              "      <td>...</td>\n",
              "      <td>...</td>\n",
              "      <td>...</td>\n",
              "    </tr>\n",
              "    <tr>\n",
              "      <th>70465</th>\n",
              "      <td>(41.508264000000004, 2.138665)</td>\n",
              "      <td>IBIL-CC Baricentro (11kW)</td>\n",
              "      <td>semiRAPID i NORMAL</td>\n",
              "      <td>Barcelona</td>\n",
              "      <td>Barberà del Vallès</td>\n",
              "      <td>cotxe i moto</td>\n",
              "      <td>(41.884890000000006, 2.8747599999999998)</td>\n",
              "      <td>EdRsR Cassà de la Selva (AC22kW)</td>\n",
              "      <td>NaN</td>\n",
              "      <td>Girona</td>\n",
              "      <td>Cassà de la Selva</td>\n",
              "      <td>NaN</td>\n",
              "      <td>85.7</td>\n",
              "      <td>3471</td>\n",
              "      <td>41.508264</td>\n",
              "      <td>2.138665</td>\n",
              "      <td>41.884890</td>\n",
              "      <td>2.874760</td>\n",
              "      <td>88.885048</td>\n",
              "      <td>8.6775</td>\n",
              "      <td>14.462500</td>\n",
              "      <td>72.835587</td>\n",
              "    </tr>\n",
              "    <tr>\n",
              "      <th>70467</th>\n",
              "      <td>(41.613690000000005, 2.3454900000000003)</td>\n",
              "      <td>CC La Roca Village Aparcament (11kW)</td>\n",
              "      <td>semiRAPID i NORMAL</td>\n",
              "      <td>Barcelona</td>\n",
              "      <td>La Roca del Vallès</td>\n",
              "      <td>cotxe i moto</td>\n",
              "      <td>(41.884890000000006, 2.8747599999999998)</td>\n",
              "      <td>EdRsR Cassà de la Selva (AC22kW)</td>\n",
              "      <td>NaN</td>\n",
              "      <td>Girona</td>\n",
              "      <td>Cassà de la Selva</td>\n",
              "      <td>NaN</td>\n",
              "      <td>62.8</td>\n",
              "      <td>2581</td>\n",
              "      <td>41.613690</td>\n",
              "      <td>2.345490</td>\n",
              "      <td>41.884890</td>\n",
              "      <td>2.874760</td>\n",
              "      <td>87.593956</td>\n",
              "      <td>6.4525</td>\n",
              "      <td>10.754167</td>\n",
              "      <td>79.291470</td>\n",
              "    </tr>\n",
              "    <tr>\n",
              "      <th>70472</th>\n",
              "      <td>(41.508264000000004, 2.138665)</td>\n",
              "      <td>IBIL-CC Baricentro (11kW)</td>\n",
              "      <td>semiRAPID i NORMAL</td>\n",
              "      <td>Barcelona</td>\n",
              "      <td>Barberà del Vallès</td>\n",
              "      <td>cotxe i moto</td>\n",
              "      <td>(41.5379, 2.45285)</td>\n",
              "      <td>EdRsR Marítim Mataró (DC25kW AC25kW)</td>\n",
              "      <td>semiRAPID</td>\n",
              "      <td>Barcelona</td>\n",
              "      <td>Mataró</td>\n",
              "      <td>NaN</td>\n",
              "      <td>34.9</td>\n",
              "      <td>1777</td>\n",
              "      <td>41.508264</td>\n",
              "      <td>2.138665</td>\n",
              "      <td>41.537900</td>\n",
              "      <td>2.452850</td>\n",
              "      <td>70.703433</td>\n",
              "      <td>4.4425</td>\n",
              "      <td>7.404167</td>\n",
              "      <td>33.868589</td>\n",
              "    </tr>\n",
              "    <tr>\n",
              "      <th>70474</th>\n",
              "      <td>(41.613690000000005, 2.3454900000000003)</td>\n",
              "      <td>CC La Roca Village Aparcament (11kW)</td>\n",
              "      <td>semiRAPID i NORMAL</td>\n",
              "      <td>Barcelona</td>\n",
              "      <td>La Roca del Vallès</td>\n",
              "      <td>cotxe i moto</td>\n",
              "      <td>(41.5379, 2.45285)</td>\n",
              "      <td>EdRsR Marítim Mataró (DC25kW AC25kW)</td>\n",
              "      <td>semiRAPID</td>\n",
              "      <td>Barcelona</td>\n",
              "      <td>Mataró</td>\n",
              "      <td>NaN</td>\n",
              "      <td>21.0</td>\n",
              "      <td>1167</td>\n",
              "      <td>41.613690</td>\n",
              "      <td>2.345490</td>\n",
              "      <td>41.537900</td>\n",
              "      <td>2.452850</td>\n",
              "      <td>64.781491</td>\n",
              "      <td>2.9175</td>\n",
              "      <td>4.862500</td>\n",
              "      <td>20.784942</td>\n",
              "    </tr>\n",
              "    <tr>\n",
              "      <th>70489</th>\n",
              "      <td>(41.613690000000005, 2.3454900000000003)</td>\n",
              "      <td>CC La Roca Village Aparcament (11kW)</td>\n",
              "      <td>semiRAPID i NORMAL</td>\n",
              "      <td>Barcelona</td>\n",
              "      <td>La Roca del Vallès</td>\n",
              "      <td>cotxe i moto</td>\n",
              "      <td>(41.508264000000004, 2.138665)</td>\n",
              "      <td>IBIL-CC Baricentro (11kW)</td>\n",
              "      <td>semiRAPID i NORMAL</td>\n",
              "      <td>Barcelona</td>\n",
              "      <td>Barberà del Vallès</td>\n",
              "      <td>cotxe i moto</td>\n",
              "      <td>25.2</td>\n",
              "      <td>1189</td>\n",
              "      <td>41.613690</td>\n",
              "      <td>2.345490</td>\n",
              "      <td>41.508264</td>\n",
              "      <td>2.138665</td>\n",
              "      <td>76.299411</td>\n",
              "      <td>2.9725</td>\n",
              "      <td>4.954167</td>\n",
              "      <td>24.037760</td>\n",
              "    </tr>\n",
              "  </tbody>\n",
              "</table>\n",
              "<p>15494 rows × 22 columns</p>\n",
              "</div>\n",
              "      <button class=\"colab-df-convert\" onclick=\"convertToInteractive('df-7403f6f3-51f0-42cf-9879-60ba0da76635')\"\n",
              "              title=\"Convert this dataframe to an interactive table.\"\n",
              "              style=\"display:none;\">\n",
              "        \n",
              "  <svg xmlns=\"http://www.w3.org/2000/svg\" height=\"24px\"viewBox=\"0 0 24 24\"\n",
              "       width=\"24px\">\n",
              "    <path d=\"M0 0h24v24H0V0z\" fill=\"none\"/>\n",
              "    <path d=\"M18.56 5.44l.94 2.06.94-2.06 2.06-.94-2.06-.94-.94-2.06-.94 2.06-2.06.94zm-11 1L8.5 8.5l.94-2.06 2.06-.94-2.06-.94L8.5 2.5l-.94 2.06-2.06.94zm10 10l.94 2.06.94-2.06 2.06-.94-2.06-.94-.94-2.06-.94 2.06-2.06.94z\"/><path d=\"M17.41 7.96l-1.37-1.37c-.4-.4-.92-.59-1.43-.59-.52 0-1.04.2-1.43.59L10.3 9.45l-7.72 7.72c-.78.78-.78 2.05 0 2.83L4 21.41c.39.39.9.59 1.41.59.51 0 1.02-.2 1.41-.59l7.78-7.78 2.81-2.81c.8-.78.8-2.07 0-2.86zM5.41 20L4 18.59l7.72-7.72 1.47 1.35L5.41 20z\"/>\n",
              "  </svg>\n",
              "      </button>\n",
              "      \n",
              "  <style>\n",
              "    .colab-df-container {\n",
              "      display:flex;\n",
              "      flex-wrap:wrap;\n",
              "      gap: 12px;\n",
              "    }\n",
              "\n",
              "    .colab-df-convert {\n",
              "      background-color: #E8F0FE;\n",
              "      border: none;\n",
              "      border-radius: 50%;\n",
              "      cursor: pointer;\n",
              "      display: none;\n",
              "      fill: #1967D2;\n",
              "      height: 32px;\n",
              "      padding: 0 0 0 0;\n",
              "      width: 32px;\n",
              "    }\n",
              "\n",
              "    .colab-df-convert:hover {\n",
              "      background-color: #E2EBFA;\n",
              "      box-shadow: 0px 1px 2px rgba(60, 64, 67, 0.3), 0px 1px 3px 1px rgba(60, 64, 67, 0.15);\n",
              "      fill: #174EA6;\n",
              "    }\n",
              "\n",
              "    [theme=dark] .colab-df-convert {\n",
              "      background-color: #3B4455;\n",
              "      fill: #D2E3FC;\n",
              "    }\n",
              "\n",
              "    [theme=dark] .colab-df-convert:hover {\n",
              "      background-color: #434B5C;\n",
              "      box-shadow: 0px 1px 3px 1px rgba(0, 0, 0, 0.15);\n",
              "      filter: drop-shadow(0px 1px 2px rgba(0, 0, 0, 0.3));\n",
              "      fill: #FFFFFF;\n",
              "    }\n",
              "  </style>\n",
              "\n",
              "      <script>\n",
              "        const buttonEl =\n",
              "          document.querySelector('#df-7403f6f3-51f0-42cf-9879-60ba0da76635 button.colab-df-convert');\n",
              "        buttonEl.style.display =\n",
              "          google.colab.kernel.accessAllowed ? 'block' : 'none';\n",
              "\n",
              "        async function convertToInteractive(key) {\n",
              "          const element = document.querySelector('#df-7403f6f3-51f0-42cf-9879-60ba0da76635');\n",
              "          const dataTable =\n",
              "            await google.colab.kernel.invokeFunction('convertToInteractive',\n",
              "                                                     [key], {});\n",
              "          if (!dataTable) return;\n",
              "\n",
              "          const docLinkHtml = 'Like what you see? Visit the ' +\n",
              "            '<a target=\"_blank\" href=https://colab.research.google.com/notebooks/data_table.ipynb>data table notebook</a>'\n",
              "            + ' to learn more about interactive tables.';\n",
              "          element.innerHTML = '';\n",
              "          dataTable['output_type'] = 'display_data';\n",
              "          await google.colab.output.renderOutput(dataTable, element);\n",
              "          const docLink = document.createElement('div');\n",
              "          docLink.innerHTML = docLinkHtml;\n",
              "          element.appendChild(docLink);\n",
              "        }\n",
              "      </script>\n",
              "    </div>\n",
              "  </div>\n",
              "  "
            ],
            "text/plain": [
              "                                      punto_ini  ... cons_energ\n",
              "390                         (40.80762, 0.52007)  ...  72.605373\n",
              "391                         (40.80762, 0.52007)  ...  57.841226\n",
              "434                         (40.80762, 0.52007)  ...  77.180981\n",
              "456                         (40.80762, 0.52007)  ...  75.684150\n",
              "459                         (40.80762, 0.52007)  ...  32.958483\n",
              "...                                         ...  ...        ...\n",
              "70465            (41.508264000000004, 2.138665)  ...  72.835587\n",
              "70467  (41.613690000000005, 2.3454900000000003)  ...  79.291470\n",
              "70472            (41.508264000000004, 2.138665)  ...  33.868589\n",
              "70474  (41.613690000000005, 2.3454900000000003)  ...  20.784942\n",
              "70489  (41.613690000000005, 2.3454900000000003)  ...  24.037760\n",
              "\n",
              "[15494 rows x 22 columns]"
            ]
          },
          "metadata": {},
          "execution_count": 24
        }
      ]
    },
    {
      "cell_type": "code",
      "source": [
        "import sys\n",
        " \n",
        "class Graph(object):\n",
        "    def __init__(self, nodes, init_graph):\n",
        "        self.nodes = nodes\n",
        "        self.graph = self.construct_graph(nodes, init_graph)\n",
        "        \n",
        "    def construct_graph(self, nodes, init_graph):\n",
        "        '''\n",
        "        Este método se asegura de que el grafo es simétrico, por tanto si existe una ruta de A a B con distancia n, tiene que existir un camino de B a A con distancia n.\n",
        "        '''\n",
        "        graph = {}\n",
        "        for node in nodes:\n",
        "            graph[node] = {}\n",
        "        \n",
        "        graph.update(init_graph)\n",
        "        \n",
        "        for node, edges in graph.items():\n",
        "            for adjacent_node, value in edges.items():\n",
        "                if graph[adjacent_node].get(node, False) == False:\n",
        "                    graph[adjacent_node][node] = value\n",
        "                    \n",
        "        return graph\n",
        "    \n",
        "    def get_nodes(self):\n",
        "        \"Devuelve los nodos del grafo.\"\n",
        "        return self.nodes\n",
        "    \n",
        "    def get_outgoing_edges(self, node):\n",
        "        \"Devuelve los vecinos de un nodo.\"\n",
        "        connections = []\n",
        "        for out_node in self.nodes:\n",
        "            if self.graph[node].get(out_node, False) != False:\n",
        "                connections.append(out_node)\n",
        "        return connections\n",
        "    \n",
        "    def value(self, node1, node2):\n",
        "        \"Devuelve la distancia entre nodos.\"\n",
        "        return self.graph[node1][node2]"
      ],
      "metadata": {
        "id": "r1dnk1sI47ws"
      },
      "execution_count": 25,
      "outputs": []
    },
    {
      "cell_type": "code",
      "source": [
        "def print_result(previous_nodes, shortest_path, start_node, target_node):\n",
        "    path = []\n",
        "    consumo = []\n",
        "    duracion = []\n",
        "    tipo_carga = []\n",
        "    nodo_carga = []\n",
        "    node = target_node\n",
        "    \n",
        "    while node != start_node:\n",
        "        path.append(node)\n",
        "        consumo.append(graph.value(node, previous_nodes[node])[1])\n",
        "        duracion.append(graph.value(node, previous_nodes[node])[2])\n",
        "        node = previous_nodes[node]\n",
        "        \n",
        "    # Add the start node manually\n",
        "    path.append(start_node)\n",
        "    \n",
        "    SOC_status = 100\n",
        "    n_cargas = 0\n",
        "    dur = 0\n",
        "    cont = 0\n",
        "    lista_ruta = list(reversed(path))\n",
        "    for gasto in consumo:\n",
        "      if SOC_status < 25:\n",
        "        SOC_status = 100\n",
        "        n_cargas = n_cargas + 1\n",
        "        tipo_carga.append(df_dist[df_dist[\"denom_ini\"]==node][\"tipo_carg_ini\"].values[0])\n",
        "        nodo_carga.append(lista_ruta[cont])\n",
        "      SOC_status = SOC_status - gasto\n",
        "      cont = cont + 1\n",
        "\n",
        "    for tem in duracion:\n",
        "      dur = dur + tem \n",
        "    for carga in tipo_carga:\n",
        "      if (\"RAPID\" not in carga) and (\"semiRAPID\" in carga):\n",
        "        dur = dur + (3*3600)  \n",
        "      elif (\"RAPID\" in carga) and (\"semiRAPID\" not in carga):\n",
        "        dur = dur + (1*3600)\n",
        "      elif (\"RAPID\" in carga) and (\"semiRAPID\" in carga):\n",
        "        dur = dur + (1*3600)\n",
        "      elif carga == \"superRAPID\":\n",
        "        dur = dur + (0.5*3600)\n",
        "\n",
        "    dur = dur/3600\n",
        "    print(\"La ruta óptima para alcanzar el punto destino es: {}.\".format(shortest_path[target_node]))\n",
        "    print(\" -> \".join(reversed(path)))\n",
        "    print(tipo_carga)\n",
        "    print(\"Durante el trayecto se han realizado {n} cargas y queda un {s} por ciento de batería.\".format(n = n_cargas,s = SOC_status))\n",
        "    print(\"\\n\")\n",
        "    print(\"Se ha realizado una carga en los siguientes puntos {p}\".format(p = nodo_carga))\n",
        "    print(\"El tipo de carga ha sido {t}\".format(t = tipo_carga))\n",
        "    print(\"La duración total del trayecto incluyendo tiempo de carga ha sido de {d} horas\".format(d = dur))\n",
        "    #print(\"El estado de carga final de la batería es: {}.\".format(soc))\n",
        "    print(consumo)"
      ],
      "metadata": {
        "id": "Qc8hyYww5K3F"
      },
      "execution_count": 26,
      "outputs": []
    },
    {
      "cell_type": "code",
      "source": [
        "def dijkstra_algorithm_EV(graph, start_node):\n",
        "    unvisited_nodes = list(graph.get_nodes())\n",
        " \n",
        "    # We'll use this dict to save the cost of visiting each node and update it as we move along the graph   \n",
        "    shortest_path = {}\n",
        "    # We'll use this dict to save the shortest known path to a node found so far\n",
        "    previous_nodes = {}\n",
        "    # We'll use max_value to initialize the \"infinity\" value of the unvisited nodes   \n",
        "    max_value = sys.maxsize\n",
        "    for node in unvisited_nodes:\n",
        "        shortest_path[node] = [max_value,max_value,max_value]\n",
        "    # However, we initialize the starting node's value with 0   \n",
        "    shortest_path[start_node] = [0,0,0]\n",
        "    \n",
        "    # The algorithm executes until we visit all nodes\n",
        "    while unvisited_nodes:\n",
        "        # The code block below finds the node with the lowest score\n",
        "        current_min_node = None\n",
        "\n",
        "        for node in unvisited_nodes: # Iterate over the nodes\n",
        "            if current_min_node == None:\n",
        "                current_min_node = node\n",
        "\n",
        "            elif (shortest_path[node][0] < shortest_path[current_min_node][0]):\n",
        "                current_min_node = node\n",
        "\n",
        "        # The code block below retrieves the current node's neighbors and updates their distances\n",
        "        neighbors = graph.get_outgoing_edges(current_min_node)\n",
        "        for neighbor in neighbors:\n",
        "            tentative_value = shortest_path[current_min_node][0] + graph.value(current_min_node, neighbor)[0]\n",
        "            tentative_value_SOC = shortest_path[current_min_node][1] + graph.value(current_min_node, neighbor)[1]\n",
        "            tentative_value_duration = shortest_path[current_min_node][2] + graph.value(current_min_node, neighbor)[2]\n",
        "            if tentative_value < shortest_path[neighbor][0]:\n",
        "                shortest_path[neighbor][0] = tentative_value\n",
        "                shortest_path[neighbor][1] = tentative_value_SOC\n",
        "                shortest_path[neighbor][2] = tentative_value_duration\n",
        "                # We also update the best path to the current node\n",
        "                previous_nodes[neighbor] = current_min_node\n",
        "        # After visiting its neighbors, we mark the node as \"visited\"\n",
        "        unvisited_nodes.remove(current_min_node)\n",
        "    return previous_nodes,shortest_path\n",
        "#fuente: https://www.udacity.com/blog/2021/10/implementing-dijkstras-algorithm-in-python.html con modificaciones"
      ],
      "metadata": {
        "id": "dGRidB0X6AZC"
      },
      "execution_count": 27,
      "outputs": []
    },
    {
      "cell_type": "code",
      "source": [
        "nodes = df_dist[\"denom_ini\"].unique()\n",
        " \n",
        "init_graph = {}\n",
        "for node in nodes:\n",
        "    init_graph[node] = {}\n",
        "\n",
        "for index, row in df_dist.iterrows():\n",
        "    init_graph[row[\"denom_ini\"]][row[\"denom_fin\"]] = [row[\"distancia\"],row[\"cons_energ\"],row[\"duracion\"]]"
      ],
      "metadata": {
        "id": "I4_jePGm5udj"
      },
      "execution_count": 28,
      "outputs": []
    },
    {
      "cell_type": "code",
      "source": [
        "graph = Graph(nodes, init_graph)"
      ],
      "metadata": {
        "id": "kI8-rGoH5x4L"
      },
      "execution_count": 29,
      "outputs": []
    },
    {
      "cell_type": "code",
      "source": [
        "previous_nodes, shortest_path = dijkstra_algorithm_EV(graph=graph, start_node=\"EdRsR Tortosa (AC22kW) PIRVEC-24\")"
      ],
      "metadata": {
        "id": "zBYFPUe95189"
      },
      "execution_count": 30,
      "outputs": []
    },
    {
      "cell_type": "code",
      "source": [
        "print_result(previous_nodes, shortest_path, start_node=\"EdRsR Tortosa (AC22kW) PIRVEC-24\", target_node=\"EdRsR Balaguer (AC11kW)\")"
      ],
      "metadata": {
        "colab": {
          "base_uri": "https://localhost:8080/"
        },
        "id": "E_iF7zk554wU",
        "outputId": "2350f639-125d-4801-cc47-0e8fc499ae4b"
      },
      "execution_count": 31,
      "outputs": [
        {
          "output_type": "stream",
          "name": "stdout",
          "text": [
            "La ruta óptima para alcanzar el punto destino es: [153.1, 169.18683463454175, 8031].\n",
            "EdRsR Tortosa (AC22kW) PIRVEC-24 -> EdRsR Ascó-Unió (AC22kW) -> EdRsR Lleida (AC22kW) -> EdRsR Balaguer (AC11kW)\n",
            "['semiRAPID']\n",
            "Durante el trayecto se han realizado 1 cargas y queda un 28.75017745386863 por ciento de batería.\n",
            "\n",
            "\n",
            "Se ha realizado una carga en los siguientes puntos ['EdRsR Lleida (AC22kW)']\n",
            "El tipo de carga ha sido ['semiRAPID']\n",
            "La duración total del trayecto incluyendo tiempo de carga ha sido de 2.2308333333333334 horas\n",
            "[26.623156770746796, 71.3138553176636, 71.24982254613137]\n"
          ]
        }
      ]
    },
    {
      "cell_type": "code",
      "source": [
        "#df_dist[(df_dist[\"denom_ini\"] == \"77 SABA Rambla Catalunya\") & (df_dist[\"denom_fin\"] == \"B:SM 24 - Ona Glòries\")]\n",
        "#df_dist[(df_dist[\"denom_ini\"] == \"EdRsR Tortosa (AC22kW) PIRVEC-24\")]\n",
        "#previous_nodes[\"Boï-Taull Resort\"]"
      ],
      "metadata": {
        "id": "sc0nziaq3SDi"
      },
      "execution_count": 32,
      "outputs": []
    }
  ],
  "metadata": {
    "kernelspec": {
      "display_name": "Python 3",
      "language": "python",
      "name": "python3"
    },
    "language_info": {
      "codemirror_mode": {
        "name": "ipython",
        "version": 3
      },
      "file_extension": ".py",
      "mimetype": "text/x-python",
      "name": "python",
      "nbconvert_exporter": "python",
      "pygments_lexer": "ipython3",
      "version": "3.7.4"
    },
    "colab": {
      "name": "calculo_ruta_optima.ipynb",
      "provenance": []
    }
  },
  "nbformat": 4,
  "nbformat_minor": 0
}