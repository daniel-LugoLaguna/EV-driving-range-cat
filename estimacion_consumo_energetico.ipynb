{
 "cells": [
  {
   "cell_type": "markdown",
   "metadata": {},
   "source": [
    "# Análisis multivariable de consumo energético del vehículo eléctrico"
   ]
  },
  {
   "cell_type": "markdown",
   "metadata": {},
   "source": [
    "### Alumno: Daniel Lugo Laguna"
   ]
  },
  {
   "cell_type": "markdown",
   "metadata": {},
   "source": [
    "## 1. Introducción"
   ]
  },
  {
   "cell_type": "markdown",
   "metadata": {},
   "source": [
    "En este estudio se analizan los datos de un conjunto de trayectos realizados por 20 vehículos eléctricos del mismo modelo (Mitsubishi iMiEV, Modelo 2010) en distintos puntos de Australia, con el objetivo de estudiar el impacto de distintas características y factores externos del trayecto sobre el consumo energético de la batería del mismo. A partir del modelo construido, se extrapolan los resultados al estado actual del sector en España y se presentan las conclusiones correspondientes."
   ]
  },
  {
   "cell_type": "markdown",
   "metadata": {},
   "source": [
    "## 2. Descripción del Dataset"
   ]
  },
  {
   "cell_type": "markdown",
   "metadata": {},
   "source": [
    "El dataset utilizado en este trabajo está publicado en el repositorio de datos abiertos del gobierno de Australia. Se puede encontrar en el siguiente enlace: https://data.gov.au/data/dataset/smart-grid-smart-city-electric-vehicle-trial-data \n",
    "\n",
    "Este conjunto de datos muestra información de rutas (tanto de particulares como empresas) realizadas por 20 vehículos eléctricos modelo Mitsubishi iMiEV 2010, como parte del proyecto Smart Grid Smart City (SGSC). **El principal aliciente de este dataset es que, además de características específicas del trayecto como la distancia total recorrida, número de pasajeros o la velocidad promedio, también permite incluir en el análisis el uso de sistemas auxiliares del vehículo** (aire acondicionado, calefacción, faros del vehículo)."
   ]
  },
  {
   "cell_type": "markdown",
   "metadata": {},
   "source": [
    "Se realiza en primer lugar una inicialización de las librerías necesarias para el análisis"
   ]
  },
  {
   "cell_type": "code",
   "execution_count": 3,
   "metadata": {},
   "outputs": [],
   "source": [
    "import pandas as pd\n",
    "import numpy as np\n",
    "import seaborn as sns\n",
    "import matplotlib.pyplot as plt\n",
    "\n",
    "from numpy import mean\n",
    "from numpy import std\n",
    "\n",
    "import sklearn\n",
    "from sklearn.datasets import make_classification\n",
    "from sklearn.model_selection import train_test_split\n",
    "from sklearn.preprocessing import MinMaxScaler\n",
    "from sklearn.linear_model import LinearRegression\n",
    "\n",
    "from sklearn.ensemble import RandomForestRegressor\n",
    "\n",
    "from sklearn.model_selection import cross_val_score\n",
    "from sklearn.model_selection import cross_validate\n",
    "from sklearn.model_selection import cross_val_predict\n",
    "from sklearn.model_selection import RepeatedKFold\n",
    "from sklearn.model_selection import KFold\n",
    "from sklearn.model_selection import GridSearchCV\n",
    "from sklearn.pipeline import make_pipeline\n",
    "\n",
    "\n",
    "from keras.callbacks import ModelCheckpoint\n",
    "from keras.models import Sequential\n",
    "from keras.layers import Dense, Activation, Flatten\n",
    "from keras.callbacks import EarlyStopping"
   ]
  },
  {
   "cell_type": "markdown",
   "metadata": {},
   "source": [
    "## 3. Análisis exploratorio de las variables y preparación del Dataset"
   ]
  },
  {
   "cell_type": "markdown",
   "metadata": {},
   "source": [
    "### 3.1 Carga del Dataset inicial"
   ]
  },
  {
   "cell_type": "markdown",
   "metadata": {},
   "source": [
    "Se procede a cargar el fichero de trabajo. El mismo está en formato csv con separador el caracter separador coma."
   ]
  },
  {
   "cell_type": "code",
   "execution_count": 4,
   "metadata": {},
   "outputs": [],
   "source": [
    "import pandas as pd\n",
    "df_EV_raw = pd.read_csv(r'C:\\Users\\Usuario\\Desktop\\Master UOC\\Master ciencia de datos\\TFM\\sgsc-ev-electric-vehicles-data.csv',\n",
    "                        delimiter=\",\")"
   ]
  },
  {
   "cell_type": "markdown",
   "metadata": {},
   "source": [
    "### 3.2 Estudio de variables para el análisis"
   ]
  },
  {
   "cell_type": "markdown",
   "metadata": {},
   "source": [
    "Se comprobarán en primer lugar las dimensiones del Dataset."
   ]
  },
  {
   "cell_type": "code",
   "execution_count": 5,
   "metadata": {},
   "outputs": [
    {
     "name": "stdout",
     "output_type": "stream",
     "text": [
      "El numero de filas del dataset es: 26155\n",
      "El numero de columnas del dataset es: 50\n"
     ]
    }
   ],
   "source": [
    "shape = df_EV_raw.shape\n",
    "print('El numero de filas del dataset es: %d' % (shape[0]))\n",
    "print('El numero de columnas del dataset es: %d' % (shape[1]))"
   ]
  },
  {
   "cell_type": "markdown",
   "metadata": {},
   "source": [
    "Se tiene por tanto, a priori, una tabla con 26.155 trayectos y 50 variables asociadas. Se visualiza a continuación una muestra de 5 trayectos del conjunto."
   ]
  },
  {
   "cell_type": "code",
   "execution_count": 6,
   "metadata": {},
   "outputs": [
    {
     "data": {
      "text/html": [
       "<div>\n",
       "<style scoped>\n",
       "    .dataframe tbody tr th:only-of-type {\n",
       "        vertical-align: middle;\n",
       "    }\n",
       "\n",
       "    .dataframe tbody tr th {\n",
       "        vertical-align: top;\n",
       "    }\n",
       "\n",
       "    .dataframe thead th {\n",
       "        text-align: right;\n",
       "    }\n",
       "</style>\n",
       "<table border=\"1\" class=\"dataframe\">\n",
       "  <thead>\n",
       "    <tr style=\"text-align: right;\">\n",
       "      <th></th>\n",
       "      <th>TEL_TRIPSTART</th>\n",
       "      <th>TEL_STARTODO</th>\n",
       "      <th>TEL_TRIPEND</th>\n",
       "      <th>TEL_ENDODO</th>\n",
       "      <th>TEL_SOC_START</th>\n",
       "      <th>TEL_SOC_END</th>\n",
       "      <th>TEL_AVG_VELOCITY</th>\n",
       "      <th>AC_ON_DURATION</th>\n",
       "      <th>AC_ON_PCT</th>\n",
       "      <th>HEADLAMP_ON_DURATION</th>\n",
       "      <th>...</th>\n",
       "      <th>TRIP_DISTANCE</th>\n",
       "      <th>DISTANCE_GPS</th>\n",
       "      <th>TEL_DISTANCE</th>\n",
       "      <th>CALC_DISTANCE</th>\n",
       "      <th>NO_PASSENGERS</th>\n",
       "      <th>ACCESSORIES</th>\n",
       "      <th>LOG_AVG_VELOCITY</th>\n",
       "      <th>GPS_AVG_VELOCITY</th>\n",
       "      <th>START_ALTITUDE</th>\n",
       "      <th>END_ALTITUDE</th>\n",
       "    </tr>\n",
       "  </thead>\n",
       "  <tbody>\n",
       "    <tr>\n",
       "      <td>0</td>\n",
       "      <td>01:51.8</td>\n",
       "      <td>9681.0</td>\n",
       "      <td>04:50.8</td>\n",
       "      <td>9682.0</td>\n",
       "      <td>86.0</td>\n",
       "      <td>86.0</td>\n",
       "      <td>20.00</td>\n",
       "      <td>0.00</td>\n",
       "      <td>0.0</td>\n",
       "      <td>2.98</td>\n",
       "      <td>...</td>\n",
       "      <td>NaN</td>\n",
       "      <td>NaN</td>\n",
       "      <td>1.0</td>\n",
       "      <td>1</td>\n",
       "      <td>NaN</td>\n",
       "      <td>NaN</td>\n",
       "      <td>NaN</td>\n",
       "      <td>NaN</td>\n",
       "      <td>NaN</td>\n",
       "      <td>NaN</td>\n",
       "    </tr>\n",
       "    <tr>\n",
       "      <td>1</td>\n",
       "      <td>57:29.2</td>\n",
       "      <td>17784.0</td>\n",
       "      <td>12:46.2</td>\n",
       "      <td>17785.0</td>\n",
       "      <td>79.0</td>\n",
       "      <td>77.0</td>\n",
       "      <td>4.00</td>\n",
       "      <td>15.28</td>\n",
       "      <td>NaN</td>\n",
       "      <td>0.00</td>\n",
       "      <td>...</td>\n",
       "      <td>NaN</td>\n",
       "      <td>NaN</td>\n",
       "      <td>1.0</td>\n",
       "      <td>1</td>\n",
       "      <td>NaN</td>\n",
       "      <td>NaN</td>\n",
       "      <td>NaN</td>\n",
       "      <td>NaN</td>\n",
       "      <td>NaN</td>\n",
       "      <td>NaN</td>\n",
       "    </tr>\n",
       "    <tr>\n",
       "      <td>2</td>\n",
       "      <td>54:51.9</td>\n",
       "      <td>9776.0</td>\n",
       "      <td>04:31.9</td>\n",
       "      <td>9782.0</td>\n",
       "      <td>78.0</td>\n",
       "      <td>74.0</td>\n",
       "      <td>36.00</td>\n",
       "      <td>0.00</td>\n",
       "      <td>0.0</td>\n",
       "      <td>9.67</td>\n",
       "      <td>...</td>\n",
       "      <td>5.0</td>\n",
       "      <td>NaN</td>\n",
       "      <td>6.0</td>\n",
       "      <td>6</td>\n",
       "      <td>1.0</td>\n",
       "      <td>[NONE]</td>\n",
       "      <td>37.50</td>\n",
       "      <td>0.0</td>\n",
       "      <td>NaN</td>\n",
       "      <td>NaN</td>\n",
       "    </tr>\n",
       "    <tr>\n",
       "      <td>3</td>\n",
       "      <td>01:26.8</td>\n",
       "      <td>12362.0</td>\n",
       "      <td>34:27.9</td>\n",
       "      <td>12393.0</td>\n",
       "      <td>97.0</td>\n",
       "      <td>69.0</td>\n",
       "      <td>56.36</td>\n",
       "      <td>0.00</td>\n",
       "      <td>0.0</td>\n",
       "      <td>0.00</td>\n",
       "      <td>...</td>\n",
       "      <td>31.0</td>\n",
       "      <td>NaN</td>\n",
       "      <td>31.0</td>\n",
       "      <td>31</td>\n",
       "      <td>1.0</td>\n",
       "      <td>[NONE]</td>\n",
       "      <td>66.43</td>\n",
       "      <td>0.0</td>\n",
       "      <td>NaN</td>\n",
       "      <td>NaN</td>\n",
       "    </tr>\n",
       "    <tr>\n",
       "      <td>4</td>\n",
       "      <td>07:59.3</td>\n",
       "      <td>25665.0</td>\n",
       "      <td>44:42.4</td>\n",
       "      <td>25699.0</td>\n",
       "      <td>103.0</td>\n",
       "      <td>78.0</td>\n",
       "      <td>55.14</td>\n",
       "      <td>0.00</td>\n",
       "      <td>0.0</td>\n",
       "      <td>0.00</td>\n",
       "      <td>...</td>\n",
       "      <td>33.0</td>\n",
       "      <td>NaN</td>\n",
       "      <td>34.0</td>\n",
       "      <td>34</td>\n",
       "      <td>1.0</td>\n",
       "      <td>[NONE]</td>\n",
       "      <td>55.00</td>\n",
       "      <td>0.0</td>\n",
       "      <td>NaN</td>\n",
       "      <td>NaN</td>\n",
       "    </tr>\n",
       "  </tbody>\n",
       "</table>\n",
       "<p>5 rows × 50 columns</p>\n",
       "</div>"
      ],
      "text/plain": [
       "  TEL_TRIPSTART  TEL_STARTODO TEL_TRIPEND  TEL_ENDODO  TEL_SOC_START  \\\n",
       "0       01:51.8        9681.0     04:50.8      9682.0           86.0   \n",
       "1       57:29.2       17784.0     12:46.2     17785.0           79.0   \n",
       "2       54:51.9        9776.0     04:31.9      9782.0           78.0   \n",
       "3       01:26.8       12362.0     34:27.9     12393.0           97.0   \n",
       "4       07:59.3       25665.0     44:42.4     25699.0          103.0   \n",
       "\n",
       "   TEL_SOC_END  TEL_AVG_VELOCITY  AC_ON_DURATION  AC_ON_PCT  \\\n",
       "0         86.0             20.00            0.00        0.0   \n",
       "1         77.0              4.00           15.28        NaN   \n",
       "2         74.0             36.00            0.00        0.0   \n",
       "3         69.0             56.36            0.00        0.0   \n",
       "4         78.0             55.14            0.00        0.0   \n",
       "\n",
       "   HEADLAMP_ON_DURATION  ...  TRIP_DISTANCE DISTANCE_GPS TEL_DISTANCE  \\\n",
       "0                  2.98  ...            NaN          NaN          1.0   \n",
       "1                  0.00  ...            NaN          NaN          1.0   \n",
       "2                  9.67  ...            5.0          NaN          6.0   \n",
       "3                  0.00  ...           31.0          NaN         31.0   \n",
       "4                  0.00  ...           33.0          NaN         34.0   \n",
       "\n",
       "   CALC_DISTANCE NO_PASSENGERS ACCESSORIES LOG_AVG_VELOCITY GPS_AVG_VELOCITY  \\\n",
       "0              1           NaN         NaN              NaN              NaN   \n",
       "1              1           NaN         NaN              NaN              NaN   \n",
       "2              6           1.0      [NONE]            37.50              0.0   \n",
       "3             31           1.0      [NONE]            66.43              0.0   \n",
       "4             34           1.0      [NONE]            55.00              0.0   \n",
       "\n",
       "  START_ALTITUDE  END_ALTITUDE  \n",
       "0            NaN           NaN  \n",
       "1            NaN           NaN  \n",
       "2            NaN           NaN  \n",
       "3            NaN           NaN  \n",
       "4            NaN           NaN  \n",
       "\n",
       "[5 rows x 50 columns]"
      ]
     },
     "execution_count": 6,
     "metadata": {},
     "output_type": "execute_result"
    }
   ],
   "source": [
    "df_EV_raw.head()"
   ]
  },
  {
   "cell_type": "markdown",
   "metadata": {},
   "source": [
    "Dado el alto número de variables que contiene el Dataset, se realizará en primer lugar una segregación de aquellas que pueden resultar a priori relevantes para la estimación del vehículo, usando como apoyo el diccionario de variables proporcionado como complemento en el repositorio original del Gobierno Australiano (https://data.gov.au/data/dataset/smart-grid-smart-city-electric-vehicle-trial-data/resource/b8adbdda-b4f2-4f1b-895d-f585477200af).\n",
    "\n",
    "Se comentarán por tanto cada una de las variables, atendiendo a la tipología de las mismas."
   ]
  },
  {
   "cell_type": "markdown",
   "metadata": {},
   "source": [
    "#### 3.2.1 Variables espaciales y temporales del trayecto"
   ]
  },
  {
   "cell_type": "markdown",
   "metadata": {},
   "source": [
    "Se muestra un subconjunto del dataset original con las variables de tipo **fecha**:"
   ]
  },
  {
   "cell_type": "code",
   "execution_count": 7,
   "metadata": {},
   "outputs": [
    {
     "data": {
      "text/html": [
       "<div>\n",
       "<style scoped>\n",
       "    .dataframe tbody tr th:only-of-type {\n",
       "        vertical-align: middle;\n",
       "    }\n",
       "\n",
       "    .dataframe tbody tr th {\n",
       "        vertical-align: top;\n",
       "    }\n",
       "\n",
       "    .dataframe thead th {\n",
       "        text-align: right;\n",
       "    }\n",
       "</style>\n",
       "<table border=\"1\" class=\"dataframe\">\n",
       "  <thead>\n",
       "    <tr style=\"text-align: right;\">\n",
       "      <th></th>\n",
       "      <th>TEL_TRIPSTART</th>\n",
       "      <th>TEL_TRIPEND</th>\n",
       "      <th>CALENDAR_KEY</th>\n",
       "      <th>RECSTARTDATE</th>\n",
       "      <th>RECENDDATE</th>\n",
       "      <th>START_DATE</th>\n",
       "      <th>END_DATE</th>\n",
       "    </tr>\n",
       "  </thead>\n",
       "  <tbody>\n",
       "    <tr>\n",
       "      <td>0</td>\n",
       "      <td>01:51.8</td>\n",
       "      <td>04:50.8</td>\n",
       "      <td>270742</td>\n",
       "      <td>01:51.8</td>\n",
       "      <td>04:50.8</td>\n",
       "      <td>NaN</td>\n",
       "      <td>NaN</td>\n",
       "    </tr>\n",
       "    <tr>\n",
       "      <td>1</td>\n",
       "      <td>57:29.2</td>\n",
       "      <td>12:46.2</td>\n",
       "      <td>270747</td>\n",
       "      <td>57:29.2</td>\n",
       "      <td>12:46.2</td>\n",
       "      <td>NaN</td>\n",
       "      <td>NaN</td>\n",
       "    </tr>\n",
       "    <tr>\n",
       "      <td>2</td>\n",
       "      <td>54:51.9</td>\n",
       "      <td>04:31.9</td>\n",
       "      <td>270747</td>\n",
       "      <td>54:53.0</td>\n",
       "      <td>02:44.0</td>\n",
       "      <td>54:53.0</td>\n",
       "      <td>02:44.0</td>\n",
       "    </tr>\n",
       "    <tr>\n",
       "      <td>3</td>\n",
       "      <td>01:26.8</td>\n",
       "      <td>34:27.9</td>\n",
       "      <td>270748</td>\n",
       "      <td>02:06.0</td>\n",
       "      <td>30:26.0</td>\n",
       "      <td>02:06.0</td>\n",
       "      <td>30:26.0</td>\n",
       "    </tr>\n",
       "    <tr>\n",
       "      <td>4</td>\n",
       "      <td>07:59.3</td>\n",
       "      <td>44:42.4</td>\n",
       "      <td>270748</td>\n",
       "      <td>07:46.0</td>\n",
       "      <td>43:18.0</td>\n",
       "      <td>07:46.0</td>\n",
       "      <td>43:18.0</td>\n",
       "    </tr>\n",
       "  </tbody>\n",
       "</table>\n",
       "</div>"
      ],
      "text/plain": [
       "  TEL_TRIPSTART TEL_TRIPEND  CALENDAR_KEY RECSTARTDATE RECENDDATE START_DATE  \\\n",
       "0       01:51.8     04:50.8        270742      01:51.8    04:50.8        NaN   \n",
       "1       57:29.2     12:46.2        270747      57:29.2    12:46.2        NaN   \n",
       "2       54:51.9     04:31.9        270747      54:53.0    02:44.0    54:53.0   \n",
       "3       01:26.8     34:27.9        270748      02:06.0    30:26.0    02:06.0   \n",
       "4       07:59.3     44:42.4        270748      07:46.0    43:18.0    07:46.0   \n",
       "\n",
       "  END_DATE  \n",
       "0      NaN  \n",
       "1      NaN  \n",
       "2  02:44.0  \n",
       "3  30:26.0  \n",
       "4  43:18.0  "
      ]
     },
     "execution_count": 7,
     "metadata": {},
     "output_type": "execute_result"
    }
   ],
   "source": [
    "df_EV_raw.iloc[:, [0,2,27,29,30,31,35]].head()"
   ]
  },
  {
   "cell_type": "markdown",
   "metadata": {},
   "source": [
    "Se revisan en primer lugar las variables de fecha de inicio y fin del trayecto. Esta información no viene asociada a un día concreto, ya que la información está anonimizada previamente en el Dataset. **Dado que se posee la longitud del trayecto en kilómetros, así como la velocidad promedio del mismo, todos estos campos se excluirán del análisis**. Se ha tomado esta decisión dado que las referencias temporales de estas fechas no están claras (la referencia de inicio del trayecto, a veces es superior a la finalización). Además no aportan información adicional, pudiendo añadir en su lugar los campos anteriormente mencionados, sin perder por ello calidad el análisis."
   ]
  },
  {
   "cell_type": "markdown",
   "metadata": {},
   "source": [
    "A continuación se muestran las variables de distancia, **localización y velocidad de los vehículos**:"
   ]
  },
  {
   "cell_type": "code",
   "execution_count": 8,
   "metadata": {},
   "outputs": [
    {
     "data": {
      "text/html": [
       "<div>\n",
       "<style scoped>\n",
       "    .dataframe tbody tr th:only-of-type {\n",
       "        vertical-align: middle;\n",
       "    }\n",
       "\n",
       "    .dataframe tbody tr th {\n",
       "        vertical-align: top;\n",
       "    }\n",
       "\n",
       "    .dataframe thead th {\n",
       "        text-align: right;\n",
       "    }\n",
       "</style>\n",
       "<table border=\"1\" class=\"dataframe\">\n",
       "  <thead>\n",
       "    <tr style=\"text-align: right;\">\n",
       "      <th></th>\n",
       "      <th>TEL_AVG_VELOCITY</th>\n",
       "      <th>LOG_AVG_VELOCITY</th>\n",
       "      <th>GPS_AVG_VELOCITY</th>\n",
       "      <th>START_ALTITUDE</th>\n",
       "      <th>END_ALTITUDE</th>\n",
       "    </tr>\n",
       "  </thead>\n",
       "  <tbody>\n",
       "    <tr>\n",
       "      <td>0</td>\n",
       "      <td>20.00</td>\n",
       "      <td>NaN</td>\n",
       "      <td>NaN</td>\n",
       "      <td>NaN</td>\n",
       "      <td>NaN</td>\n",
       "    </tr>\n",
       "    <tr>\n",
       "      <td>1</td>\n",
       "      <td>4.00</td>\n",
       "      <td>NaN</td>\n",
       "      <td>NaN</td>\n",
       "      <td>NaN</td>\n",
       "      <td>NaN</td>\n",
       "    </tr>\n",
       "    <tr>\n",
       "      <td>2</td>\n",
       "      <td>36.00</td>\n",
       "      <td>37.50</td>\n",
       "      <td>0.0</td>\n",
       "      <td>NaN</td>\n",
       "      <td>NaN</td>\n",
       "    </tr>\n",
       "    <tr>\n",
       "      <td>3</td>\n",
       "      <td>56.36</td>\n",
       "      <td>66.43</td>\n",
       "      <td>0.0</td>\n",
       "      <td>NaN</td>\n",
       "      <td>NaN</td>\n",
       "    </tr>\n",
       "    <tr>\n",
       "      <td>4</td>\n",
       "      <td>55.14</td>\n",
       "      <td>55.00</td>\n",
       "      <td>0.0</td>\n",
       "      <td>NaN</td>\n",
       "      <td>NaN</td>\n",
       "    </tr>\n",
       "  </tbody>\n",
       "</table>\n",
       "</div>"
      ],
      "text/plain": [
       "   TEL_AVG_VELOCITY  LOG_AVG_VELOCITY  GPS_AVG_VELOCITY  START_ALTITUDE  \\\n",
       "0             20.00               NaN               NaN             NaN   \n",
       "1              4.00               NaN               NaN             NaN   \n",
       "2             36.00             37.50               0.0             NaN   \n",
       "3             56.36             66.43               0.0             NaN   \n",
       "4             55.14             55.00               0.0             NaN   \n",
       "\n",
       "   END_ALTITUDE  \n",
       "0           NaN  \n",
       "1           NaN  \n",
       "2           NaN  \n",
       "3           NaN  \n",
       "4           NaN  "
      ]
     },
     "execution_count": 8,
     "metadata": {},
     "output_type": "execute_result"
    }
   ],
   "source": [
    "df_EV_raw.iloc[:, [6,46,47,48,49]].head()"
   ]
  },
  {
   "cell_type": "code",
   "execution_count": 9,
   "metadata": {},
   "outputs": [
    {
     "data": {
      "text/html": [
       "<div>\n",
       "<style scoped>\n",
       "    .dataframe tbody tr th:only-of-type {\n",
       "        vertical-align: middle;\n",
       "    }\n",
       "\n",
       "    .dataframe tbody tr th {\n",
       "        vertical-align: top;\n",
       "    }\n",
       "\n",
       "    .dataframe thead th {\n",
       "        text-align: right;\n",
       "    }\n",
       "</style>\n",
       "<table border=\"1\" class=\"dataframe\">\n",
       "  <thead>\n",
       "    <tr style=\"text-align: right;\">\n",
       "      <th></th>\n",
       "      <th>TEL_STARTODO</th>\n",
       "      <th>TEL_ENDODO</th>\n",
       "      <th>START_ODO_ACTUAL</th>\n",
       "      <th>END_ODO_EST</th>\n",
       "      <th>END_ODO_ACTUAL</th>\n",
       "      <th>TRIP_DISTANCE</th>\n",
       "      <th>DISTANCE_GPS</th>\n",
       "      <th>TEL_DISTANCE</th>\n",
       "      <th>CALC_DISTANCE</th>\n",
       "    </tr>\n",
       "  </thead>\n",
       "  <tbody>\n",
       "    <tr>\n",
       "      <td>0</td>\n",
       "      <td>9681.0</td>\n",
       "      <td>9682.0</td>\n",
       "      <td>NaN</td>\n",
       "      <td>NaN</td>\n",
       "      <td>NaN</td>\n",
       "      <td>NaN</td>\n",
       "      <td>NaN</td>\n",
       "      <td>1.0</td>\n",
       "      <td>1</td>\n",
       "    </tr>\n",
       "    <tr>\n",
       "      <td>1</td>\n",
       "      <td>17784.0</td>\n",
       "      <td>17785.0</td>\n",
       "      <td>NaN</td>\n",
       "      <td>NaN</td>\n",
       "      <td>NaN</td>\n",
       "      <td>NaN</td>\n",
       "      <td>NaN</td>\n",
       "      <td>1.0</td>\n",
       "      <td>1</td>\n",
       "    </tr>\n",
       "    <tr>\n",
       "      <td>2</td>\n",
       "      <td>9776.0</td>\n",
       "      <td>9782.0</td>\n",
       "      <td>9776.0</td>\n",
       "      <td>9781.0</td>\n",
       "      <td>9782.0</td>\n",
       "      <td>5.0</td>\n",
       "      <td>NaN</td>\n",
       "      <td>6.0</td>\n",
       "      <td>6</td>\n",
       "    </tr>\n",
       "    <tr>\n",
       "      <td>3</td>\n",
       "      <td>12362.0</td>\n",
       "      <td>12393.0</td>\n",
       "      <td>12362.0</td>\n",
       "      <td>12393.0</td>\n",
       "      <td>12393.0</td>\n",
       "      <td>31.0</td>\n",
       "      <td>NaN</td>\n",
       "      <td>31.0</td>\n",
       "      <td>31</td>\n",
       "    </tr>\n",
       "    <tr>\n",
       "      <td>4</td>\n",
       "      <td>25665.0</td>\n",
       "      <td>25699.0</td>\n",
       "      <td>25665.0</td>\n",
       "      <td>25698.0</td>\n",
       "      <td>25699.0</td>\n",
       "      <td>33.0</td>\n",
       "      <td>NaN</td>\n",
       "      <td>34.0</td>\n",
       "      <td>34</td>\n",
       "    </tr>\n",
       "  </tbody>\n",
       "</table>\n",
       "</div>"
      ],
      "text/plain": [
       "   TEL_STARTODO  TEL_ENDODO  START_ODO_ACTUAL  END_ODO_EST  END_ODO_ACTUAL  \\\n",
       "0        9681.0      9682.0               NaN          NaN             NaN   \n",
       "1       17784.0     17785.0               NaN          NaN             NaN   \n",
       "2        9776.0      9782.0            9776.0       9781.0          9782.0   \n",
       "3       12362.0     12393.0           12362.0      12393.0         12393.0   \n",
       "4       25665.0     25699.0           25665.0      25698.0         25699.0   \n",
       "\n",
       "   TRIP_DISTANCE  DISTANCE_GPS  TEL_DISTANCE  CALC_DISTANCE  \n",
       "0            NaN           NaN           1.0              1  \n",
       "1            NaN           NaN           1.0              1  \n",
       "2            5.0           NaN           6.0              6  \n",
       "3           31.0           NaN          31.0             31  \n",
       "4           33.0           NaN          34.0             34  "
      ]
     },
     "execution_count": 9,
     "metadata": {},
     "output_type": "execute_result"
    }
   ],
   "source": [
    "df_EV_raw.iloc[:, [1,3,32,36,37,40,41,42,43]].head()"
   ]
  },
  {
   "cell_type": "markdown",
   "metadata": {},
   "source": [
    "- **Velocidad y altitud**: TEL_AVG_VELOCITY Y LOG_AVG_VELOCITY representan ambas la velocidad promedio del trayecto pero medidas de distinta forma. Estas variables pueden ser interesantes para el análisis, pero antes será necesario identificar si las medidas son congruentes entre sí y decidir cuál de ellas formará parte del dataset final. La variable GPS_AVG_VELOCITY aparece a 0 o con valor perdido en todos los casos, se excluirá la misma por tanto del estudio. Las variables de altitud inicial y final del trayecto contienen también valores perdidos en todos los registros. Serán por tanto excluídos del análisis.\n",
    "\n",
    "\n",
    "- **Distancia**: En el Dataset aparecen diferentes variables para medir el kilometraje inicial y final, tomadas con distintos medidores. Uno de los campos TRIP_DISTANCE, de acuerdo al diccionario, contiene la distancia total del trayecto tomada de la fuente disponible más fiable (DISTANCE_GPS aperece como valor perdido en todos los registros.). Sin embargo como se verá más adelante, existen valores perdidos. Se mantienen por tanto las mediciones de telemetría TEL_STARTODO y TEL_ENDODO para completar valores perdidos de distancia total. Se excluyen las variables de kilometraje duplicadas (START_ODO_ACTUAL, END_ODO_EST, END_ODO_ACTUAL), así como las distancias calculadas excepto TRIP_DISTANCE (TEL_DISTANCE,CALC_DISTANCE)"
   ]
  },
  {
   "cell_type": "markdown",
   "metadata": {},
   "source": [
    "#### 3.2.2 Variables de tipología e identificación de trayecto y vehículo"
   ]
  },
  {
   "cell_type": "markdown",
   "metadata": {},
   "source": [
    "Se muestra a continuación un subconjunto del dataset original con las variables relacionadas con la **tipología e identificación de trayecto y vehículo**:"
   ]
  },
  {
   "cell_type": "code",
   "execution_count": 10,
   "metadata": {},
   "outputs": [
    {
     "data": {
      "text/html": [
       "<div>\n",
       "<style scoped>\n",
       "    .dataframe tbody tr th:only-of-type {\n",
       "        vertical-align: middle;\n",
       "    }\n",
       "\n",
       "    .dataframe tbody tr th {\n",
       "        vertical-align: top;\n",
       "    }\n",
       "\n",
       "    .dataframe thead th {\n",
       "        text-align: right;\n",
       "    }\n",
       "</style>\n",
       "<table border=\"1\" class=\"dataframe\">\n",
       "  <thead>\n",
       "    <tr style=\"text-align: right;\">\n",
       "      <th></th>\n",
       "      <th>TRIPSTART_LOCN</th>\n",
       "      <th>TRIPEND_LOCN</th>\n",
       "      <th>TRIP_ID</th>\n",
       "      <th>VEHICLE_ID</th>\n",
       "    </tr>\n",
       "  </thead>\n",
       "  <tbody>\n",
       "    <tr>\n",
       "      <td>0</td>\n",
       "      <td>Other</td>\n",
       "      <td>Other</td>\n",
       "      <td>15809</td>\n",
       "      <td>9</td>\n",
       "    </tr>\n",
       "    <tr>\n",
       "      <td>1</td>\n",
       "      <td>Other</td>\n",
       "      <td>Other</td>\n",
       "      <td>18751</td>\n",
       "      <td>10</td>\n",
       "    </tr>\n",
       "    <tr>\n",
       "      <td>2</td>\n",
       "      <td>Home</td>\n",
       "      <td>Other</td>\n",
       "      <td>8529</td>\n",
       "      <td>7</td>\n",
       "    </tr>\n",
       "    <tr>\n",
       "      <td>3</td>\n",
       "      <td>Home</td>\n",
       "      <td>Work</td>\n",
       "      <td>12108</td>\n",
       "      <td>8</td>\n",
       "    </tr>\n",
       "    <tr>\n",
       "      <td>4</td>\n",
       "      <td>Home</td>\n",
       "      <td>Work</td>\n",
       "      <td>39702</td>\n",
       "      <td>17</td>\n",
       "    </tr>\n",
       "  </tbody>\n",
       "</table>\n",
       "</div>"
      ],
      "text/plain": [
       "  TRIPSTART_LOCN TRIPEND_LOCN  TRIP_ID  VEHICLE_ID\n",
       "0          Other        Other    15809           9\n",
       "1          Other        Other    18751          10\n",
       "2           Home        Other     8529           7\n",
       "3           Home         Work    12108           8\n",
       "4           Home         Work    39702          17"
      ]
     },
     "execution_count": 10,
     "metadata": {},
     "output_type": "execute_result"
    }
   ],
   "source": [
    "df_EV_raw.iloc[:, [11,12,26,28]].head()"
   ]
  },
  {
   "cell_type": "markdown",
   "metadata": {},
   "source": [
    "Las variables de esta tipología permiten, por un lado, obtener más información sobre el trayecto realizado y por otro, identificar únivocamente los mismos a través de un identificador tanto del coche como del propio trayecto. El campo TRIP_ID se mantendrá a efectos de detección de duplicados. El campo VEHICLE_ID se mantendrá con el objetivo de detectar posibles consumos anómalos de energía para un vehículo concreto durante las pruebas, lo cual podría sesgar los datos durante el proceso de estimación del consumo energético."
   ]
  },
  {
   "cell_type": "markdown",
   "metadata": {},
   "source": [
    "#### 3.2.3 Sistemas auxiliares, ocupación del vehículo y temperatura exterior"
   ]
  },
  {
   "cell_type": "markdown",
   "metadata": {},
   "source": [
    "Otro aspecto importante consisten en el uso de sistemas auxiliares del vehículo durante el trayecto, así como la ocupación del mismo. Se muestran a continuación las variables relacionadas con esta tipología."
   ]
  },
  {
   "cell_type": "code",
   "execution_count": 11,
   "metadata": {},
   "outputs": [
    {
     "data": {
      "text/html": [
       "<div>\n",
       "<style scoped>\n",
       "    .dataframe tbody tr th:only-of-type {\n",
       "        vertical-align: middle;\n",
       "    }\n",
       "\n",
       "    .dataframe tbody tr th {\n",
       "        vertical-align: top;\n",
       "    }\n",
       "\n",
       "    .dataframe thead th {\n",
       "        text-align: right;\n",
       "    }\n",
       "</style>\n",
       "<table border=\"1\" class=\"dataframe\">\n",
       "  <thead>\n",
       "    <tr style=\"text-align: right;\">\n",
       "      <th></th>\n",
       "      <th>AC_ON_DURATION</th>\n",
       "      <th>AC_ON_PCT</th>\n",
       "      <th>HEADLAMP_ON_DURATION</th>\n",
       "      <th>HEADLAMP_ON_PCT</th>\n",
       "      <th>TEMPERATURE</th>\n",
       "      <th>NO_PASSENGERS</th>\n",
       "      <th>ACCESSORIES</th>\n",
       "    </tr>\n",
       "  </thead>\n",
       "  <tbody>\n",
       "    <tr>\n",
       "      <td>0</td>\n",
       "      <td>0.00</td>\n",
       "      <td>0.0</td>\n",
       "      <td>2.98</td>\n",
       "      <td>NaN</td>\n",
       "      <td>NaN</td>\n",
       "      <td>NaN</td>\n",
       "      <td>NaN</td>\n",
       "    </tr>\n",
       "    <tr>\n",
       "      <td>1</td>\n",
       "      <td>15.28</td>\n",
       "      <td>NaN</td>\n",
       "      <td>0.00</td>\n",
       "      <td>0.0</td>\n",
       "      <td>NaN</td>\n",
       "      <td>NaN</td>\n",
       "      <td>NaN</td>\n",
       "    </tr>\n",
       "    <tr>\n",
       "      <td>2</td>\n",
       "      <td>0.00</td>\n",
       "      <td>0.0</td>\n",
       "      <td>9.67</td>\n",
       "      <td>NaN</td>\n",
       "      <td>NaN</td>\n",
       "      <td>1.0</td>\n",
       "      <td>[NONE]</td>\n",
       "    </tr>\n",
       "    <tr>\n",
       "      <td>3</td>\n",
       "      <td>0.00</td>\n",
       "      <td>0.0</td>\n",
       "      <td>0.00</td>\n",
       "      <td>0.0</td>\n",
       "      <td>NaN</td>\n",
       "      <td>1.0</td>\n",
       "      <td>[NONE]</td>\n",
       "    </tr>\n",
       "    <tr>\n",
       "      <td>4</td>\n",
       "      <td>0.00</td>\n",
       "      <td>0.0</td>\n",
       "      <td>0.00</td>\n",
       "      <td>0.0</td>\n",
       "      <td>NaN</td>\n",
       "      <td>1.0</td>\n",
       "      <td>[NONE]</td>\n",
       "    </tr>\n",
       "  </tbody>\n",
       "</table>\n",
       "</div>"
      ],
      "text/plain": [
       "   AC_ON_DURATION  AC_ON_PCT  HEADLAMP_ON_DURATION  HEADLAMP_ON_PCT  \\\n",
       "0            0.00        0.0                  2.98              NaN   \n",
       "1           15.28        NaN                  0.00              0.0   \n",
       "2            0.00        0.0                  9.67              NaN   \n",
       "3            0.00        0.0                  0.00              0.0   \n",
       "4            0.00        0.0                  0.00              0.0   \n",
       "\n",
       "   TEMPERATURE  NO_PASSENGERS ACCESSORIES  \n",
       "0          NaN            NaN         NaN  \n",
       "1          NaN            NaN         NaN  \n",
       "2          NaN            1.0      [NONE]  \n",
       "3          NaN            1.0      [NONE]  \n",
       "4          NaN            1.0      [NONE]  "
      ]
     },
     "execution_count": 11,
     "metadata": {},
     "output_type": "execute_result"
    }
   ],
   "source": [
    "df_EV_raw.iloc[:, [7,8,9,10,13,44,45]].head()"
   ]
  },
  {
   "cell_type": "markdown",
   "metadata": {},
   "source": [
    "En el dataset se puede consultar información sobre tiempo funcionando de las luces del vehículo (HEADLAMP_ON_DURATION) y aire acondicionado (AC_ON_DURATION). Existen dos variables complementarias que en teoría mostrarían la información en porcentaje del trayecto, pero lamentablemente aparecen como valores perdidos (AC_ON_PCT y HEADLAMP_ON_PCT). NO_PASSENGERS muestra el número de pasajeros del vehículo durante su uso, la cual se usará como predictor. La variable ACCESORIES indica si durante el trayecto se hace uso de calefacción, aire acondicionado y luces del vehículo. Esta información no aporta nada nuevo a priori, ya que mediante los campos anteriores se tiene el tiempo de consumo de estos accesorios.\n",
    "\n",
    "La variable TEMPERATURE, que mostraría la temperatura exterior, lamentablemente aparece como un valor perdido en todos los casos."
   ]
  },
  {
   "cell_type": "markdown",
   "metadata": {},
   "source": [
    "#### 3.2.4 Información de carga de la batería"
   ]
  },
  {
   "cell_type": "code",
   "execution_count": 12,
   "metadata": {},
   "outputs": [
    {
     "data": {
      "text/html": [
       "<div>\n",
       "<style scoped>\n",
       "    .dataframe tbody tr th:only-of-type {\n",
       "        vertical-align: middle;\n",
       "    }\n",
       "\n",
       "    .dataframe tbody tr th {\n",
       "        vertical-align: top;\n",
       "    }\n",
       "\n",
       "    .dataframe thead th {\n",
       "        text-align: right;\n",
       "    }\n",
       "</style>\n",
       "<table border=\"1\" class=\"dataframe\">\n",
       "  <thead>\n",
       "    <tr style=\"text-align: right;\">\n",
       "      <th></th>\n",
       "      <th>CHARGE_TYPE</th>\n",
       "      <th>CONNECT_START</th>\n",
       "      <th>CHARGE_START</th>\n",
       "      <th>CONNECT_END</th>\n",
       "      <th>CHARGE_END</th>\n",
       "      <th>CHARGE_AMOUNT</th>\n",
       "      <th>FULLCHARGEFLAG</th>\n",
       "      <th>CHARGING_OCCURRENCES</th>\n",
       "      <th>UNACCOUNTED_KM</th>\n",
       "      <th>FULLCHARGE_KMSPAN</th>\n",
       "      <th>FULLCHARGE_EFFICIENCY</th>\n",
       "    </tr>\n",
       "  </thead>\n",
       "  <tbody>\n",
       "    <tr>\n",
       "      <td>0</td>\n",
       "      <td>NaN</td>\n",
       "      <td>NaN</td>\n",
       "      <td>NaN</td>\n",
       "      <td>NaN</td>\n",
       "      <td>NaN</td>\n",
       "      <td>NaN</td>\n",
       "      <td>1</td>\n",
       "      <td>0</td>\n",
       "      <td>0.0</td>\n",
       "      <td>9.0</td>\n",
       "      <td>0.0</td>\n",
       "    </tr>\n",
       "    <tr>\n",
       "      <td>1</td>\n",
       "      <td>NaN</td>\n",
       "      <td>NaN</td>\n",
       "      <td>NaN</td>\n",
       "      <td>NaN</td>\n",
       "      <td>NaN</td>\n",
       "      <td>NaN</td>\n",
       "      <td>0</td>\n",
       "      <td>0</td>\n",
       "      <td>0.0</td>\n",
       "      <td>NaN</td>\n",
       "      <td>NaN</td>\n",
       "    </tr>\n",
       "    <tr>\n",
       "      <td>2</td>\n",
       "      <td>NaN</td>\n",
       "      <td>NaN</td>\n",
       "      <td>NaN</td>\n",
       "      <td>NaN</td>\n",
       "      <td>NaN</td>\n",
       "      <td>NaN</td>\n",
       "      <td>0</td>\n",
       "      <td>0</td>\n",
       "      <td>0.0</td>\n",
       "      <td>NaN</td>\n",
       "      <td>NaN</td>\n",
       "    </tr>\n",
       "    <tr>\n",
       "      <td>3</td>\n",
       "      <td>NaN</td>\n",
       "      <td>NaN</td>\n",
       "      <td>NaN</td>\n",
       "      <td>NaN</td>\n",
       "      <td>NaN</td>\n",
       "      <td>NaN</td>\n",
       "      <td>0</td>\n",
       "      <td>0</td>\n",
       "      <td>0.0</td>\n",
       "      <td>NaN</td>\n",
       "      <td>NaN</td>\n",
       "    </tr>\n",
       "    <tr>\n",
       "      <td>4</td>\n",
       "      <td>NaN</td>\n",
       "      <td>NaN</td>\n",
       "      <td>NaN</td>\n",
       "      <td>NaN</td>\n",
       "      <td>NaN</td>\n",
       "      <td>NaN</td>\n",
       "      <td>0</td>\n",
       "      <td>0</td>\n",
       "      <td>0.0</td>\n",
       "      <td>NaN</td>\n",
       "      <td>NaN</td>\n",
       "    </tr>\n",
       "  </tbody>\n",
       "</table>\n",
       "</div>"
      ],
      "text/plain": [
       "  CHARGE_TYPE CONNECT_START CHARGE_START CONNECT_END CHARGE_END  \\\n",
       "0         NaN           NaN          NaN         NaN        NaN   \n",
       "1         NaN           NaN          NaN         NaN        NaN   \n",
       "2         NaN           NaN          NaN         NaN        NaN   \n",
       "3         NaN           NaN          NaN         NaN        NaN   \n",
       "4         NaN           NaN          NaN         NaN        NaN   \n",
       "\n",
       "   CHARGE_AMOUNT  FULLCHARGEFLAG  CHARGING_OCCURRENCES  UNACCOUNTED_KM  \\\n",
       "0            NaN               1                     0             0.0   \n",
       "1            NaN               0                     0             0.0   \n",
       "2            NaN               0                     0             0.0   \n",
       "3            NaN               0                     0             0.0   \n",
       "4            NaN               0                     0             0.0   \n",
       "\n",
       "   FULLCHARGE_KMSPAN  FULLCHARGE_EFFICIENCY  \n",
       "0                9.0                    0.0  \n",
       "1                NaN                    NaN  \n",
       "2                NaN                    NaN  \n",
       "3                NaN                    NaN  \n",
       "4                NaN                    NaN  "
      ]
     },
     "execution_count": 12,
     "metadata": {},
     "output_type": "execute_result"
    }
   ],
   "source": [
    "df_EV_raw.iloc[:,14:25].head()"
   ]
  },
  {
   "cell_type": "code",
   "execution_count": 13,
   "metadata": {},
   "outputs": [
    {
     "data": {
      "text/html": [
       "<div>\n",
       "<style scoped>\n",
       "    .dataframe tbody tr th:only-of-type {\n",
       "        vertical-align: middle;\n",
       "    }\n",
       "\n",
       "    .dataframe tbody tr th {\n",
       "        vertical-align: top;\n",
       "    }\n",
       "\n",
       "    .dataframe thead th {\n",
       "        text-align: right;\n",
       "    }\n",
       "</style>\n",
       "<table border=\"1\" class=\"dataframe\">\n",
       "  <thead>\n",
       "    <tr style=\"text-align: right;\">\n",
       "      <th></th>\n",
       "      <th>END_BAT_EST</th>\n",
       "      <th>END_BAT_ACTUAL</th>\n",
       "    </tr>\n",
       "  </thead>\n",
       "  <tbody>\n",
       "    <tr>\n",
       "      <td>0</td>\n",
       "      <td>NaN</td>\n",
       "      <td>NaN</td>\n",
       "    </tr>\n",
       "    <tr>\n",
       "      <td>1</td>\n",
       "      <td>NaN</td>\n",
       "      <td>NaN</td>\n",
       "    </tr>\n",
       "    <tr>\n",
       "      <td>2</td>\n",
       "      <td>13.0</td>\n",
       "      <td>12.0</td>\n",
       "    </tr>\n",
       "    <tr>\n",
       "      <td>3</td>\n",
       "      <td>11.0</td>\n",
       "      <td>11.0</td>\n",
       "    </tr>\n",
       "    <tr>\n",
       "      <td>4</td>\n",
       "      <td>11.0</td>\n",
       "      <td>13.0</td>\n",
       "    </tr>\n",
       "  </tbody>\n",
       "</table>\n",
       "</div>"
      ],
      "text/plain": [
       "   END_BAT_EST  END_BAT_ACTUAL\n",
       "0          NaN             NaN\n",
       "1          NaN             NaN\n",
       "2         13.0            12.0\n",
       "3         11.0            11.0\n",
       "4         11.0            13.0"
      ]
     },
     "execution_count": 13,
     "metadata": {},
     "output_type": "execute_result"
    }
   ],
   "source": [
    "df_EV_raw.iloc[:, [38,39]].head()"
   ]
  },
  {
   "cell_type": "markdown",
   "metadata": {},
   "source": [
    "Existe un buen número de campos que muestran datos sobre la recarga del vehículo, incluyendo tiempos de inicio y fin de carga, indicador de carga completa, eficiencia, etc. Esta información no resulta relevante para este paso del estudio, ya que se pretende medir el consumo energético del vehículo para un determinado trayecto y bajo determinadas condiciones. En consecuencia, las variables de esta sección serán eliminadas para el análisis posterior."
   ]
  },
  {
   "cell_type": "markdown",
   "metadata": {},
   "source": [
    "#### 3.2.5 Variable Objetivo - estado de carga de la batería"
   ]
  },
  {
   "cell_type": "code",
   "execution_count": 14,
   "metadata": {},
   "outputs": [
    {
     "data": {
      "text/html": [
       "<div>\n",
       "<style scoped>\n",
       "    .dataframe tbody tr th:only-of-type {\n",
       "        vertical-align: middle;\n",
       "    }\n",
       "\n",
       "    .dataframe tbody tr th {\n",
       "        vertical-align: top;\n",
       "    }\n",
       "\n",
       "    .dataframe thead th {\n",
       "        text-align: right;\n",
       "    }\n",
       "</style>\n",
       "<table border=\"1\" class=\"dataframe\">\n",
       "  <thead>\n",
       "    <tr style=\"text-align: right;\">\n",
       "      <th></th>\n",
       "      <th>TEL_SOC_START</th>\n",
       "      <th>TEL_SOC_END</th>\n",
       "    </tr>\n",
       "  </thead>\n",
       "  <tbody>\n",
       "    <tr>\n",
       "      <td>0</td>\n",
       "      <td>86.0</td>\n",
       "      <td>86.0</td>\n",
       "    </tr>\n",
       "    <tr>\n",
       "      <td>1</td>\n",
       "      <td>79.0</td>\n",
       "      <td>77.0</td>\n",
       "    </tr>\n",
       "    <tr>\n",
       "      <td>2</td>\n",
       "      <td>78.0</td>\n",
       "      <td>74.0</td>\n",
       "    </tr>\n",
       "    <tr>\n",
       "      <td>3</td>\n",
       "      <td>97.0</td>\n",
       "      <td>69.0</td>\n",
       "    </tr>\n",
       "    <tr>\n",
       "      <td>4</td>\n",
       "      <td>103.0</td>\n",
       "      <td>78.0</td>\n",
       "    </tr>\n",
       "  </tbody>\n",
       "</table>\n",
       "</div>"
      ],
      "text/plain": [
       "   TEL_SOC_START  TEL_SOC_END\n",
       "0           86.0         86.0\n",
       "1           79.0         77.0\n",
       "2           78.0         74.0\n",
       "3           97.0         69.0\n",
       "4          103.0         78.0"
      ]
     },
     "execution_count": 14,
     "metadata": {},
     "output_type": "execute_result"
    }
   ],
   "source": [
    "df_EV_raw.iloc[:, [4,5]].head()"
   ]
  },
  {
   "cell_type": "markdown",
   "metadata": {},
   "source": [
    "Como ya se ha indicado anteriormente, en este estudio se presente medir el consumo energético del vehículo en un conjunto de trayectos determinado. Las variables TEL_SOC_START y TEL_SOC_END muestran el estado de carga al inicio y final del trayecto por parte del vehículo, medido en porcentaje. La diferencia de estos dos campos será la variable objetivo de este estudio."
   ]
  },
  {
   "cell_type": "markdown",
   "metadata": {},
   "source": [
    "### 3.3 Limpieza y enriquecimiento del Dataset"
   ]
  },
  {
   "cell_type": "markdown",
   "metadata": {},
   "source": [
    "Una vez descritas las variables a utilizar, se comenzará la limpieza del dataset y el cálculo de la información adicional necesaria. "
   ]
  },
  {
   "cell_type": "markdown",
   "metadata": {},
   "source": [
    "##### Selección de variables"
   ]
  },
  {
   "cell_type": "markdown",
   "metadata": {},
   "source": [
    "Comenzaremos filtrando el conjunto de datos únicamente por las variables candidatas seleccionadas en el punto anterior."
   ]
  },
  {
   "cell_type": "code",
   "execution_count": 15,
   "metadata": {},
   "outputs": [],
   "source": [
    "df_EV_filtered = df_EV_raw.iloc[:, [26,28,1,3,40,6,46,7,9,44,4,5]]"
   ]
  },
  {
   "cell_type": "markdown",
   "metadata": {},
   "source": [
    "Las variables seleccionadas en este primer cribado son las siguientes:"
   ]
  },
  {
   "cell_type": "code",
   "execution_count": 16,
   "metadata": {},
   "outputs": [
    {
     "name": "stdout",
     "output_type": "stream",
     "text": [
      "TRIP_ID\n",
      "VEHICLE_ID\n",
      "TEL_STARTODO\n",
      "TEL_ENDODO\n",
      "TRIP_DISTANCE\n",
      "TEL_AVG_VELOCITY\n",
      "LOG_AVG_VELOCITY\n",
      "AC_ON_DURATION\n",
      "HEADLAMP_ON_DURATION\n",
      "NO_PASSENGERS\n",
      "TEL_SOC_START\n",
      "TEL_SOC_END\n"
     ]
    }
   ],
   "source": [
    "for c in df_EV_filtered.columns:\n",
    "    print(c)"
   ]
  },
  {
   "cell_type": "markdown",
   "metadata": {},
   "source": [
    "##### Eliminación de valores perdidos"
   ]
  },
  {
   "cell_type": "markdown",
   "metadata": {},
   "source": [
    "Esta tabla contiene muchos datos empíricos procedentes de telemetrías, por tanto es de esperar que existan valores perdidos en las variables. Se comprueba este aspecto a continuación."
   ]
  },
  {
   "cell_type": "code",
   "execution_count": 17,
   "metadata": {},
   "outputs": [
    {
     "data": {
      "text/plain": [
       "TRIP_ID                     0\n",
       "VEHICLE_ID                  0\n",
       "TEL_STARTODO             4553\n",
       "TEL_ENDODO               4553\n",
       "TRIP_DISTANCE            9954\n",
       "TEL_AVG_VELOCITY         4553\n",
       "LOG_AVG_VELOCITY         9817\n",
       "AC_ON_DURATION           4553\n",
       "HEADLAMP_ON_DURATION     4553\n",
       "NO_PASSENGERS           13102\n",
       "TEL_SOC_START            4553\n",
       "TEL_SOC_END              4553\n",
       "dtype: int64"
      ]
     },
     "execution_count": 17,
     "metadata": {},
     "output_type": "execute_result"
    }
   ],
   "source": [
    "df_EV_filtered.isnull().sum()"
   ]
  },
  {
   "cell_type": "markdown",
   "metadata": {},
   "source": [
    "Efectivamente el número de valores perdidos es considerable. Algunos de ellos es posible que puedan corregirse con estimaciones o combinación de campos. Sin embargo, aquellos que tengan las variables objetivos como valor perdido no pueden incluirse en el análisis. Estos registros quedan excluidos."
   ]
  },
  {
   "cell_type": "code",
   "execution_count": 18,
   "metadata": {},
   "outputs": [],
   "source": [
    "df_EV_filtered = df_EV_filtered.dropna(subset=df_EV_filtered.columns[[11]])"
   ]
  },
  {
   "cell_type": "code",
   "execution_count": 19,
   "metadata": {},
   "outputs": [
    {
     "data": {
      "text/plain": [
       "TRIP_ID                     0\n",
       "VEHICLE_ID                  0\n",
       "TEL_STARTODO                0\n",
       "TEL_ENDODO                  0\n",
       "TRIP_DISTANCE            9954\n",
       "TEL_AVG_VELOCITY            0\n",
       "LOG_AVG_VELOCITY         9817\n",
       "AC_ON_DURATION              0\n",
       "HEADLAMP_ON_DURATION        0\n",
       "NO_PASSENGERS           12090\n",
       "TEL_SOC_START               0\n",
       "TEL_SOC_END                 0\n",
       "dtype: int64"
      ]
     },
     "execution_count": 19,
     "metadata": {},
     "output_type": "execute_result"
    }
   ],
   "source": [
    "df_EV_filtered.isnull().sum()"
   ]
  },
  {
   "cell_type": "markdown",
   "metadata": {},
   "source": [
    "Quedan tres importantes fuentes de valores perdidos: distancia del trayecto, velocidad media y número de pasajeros.\n",
    "\n",
    "- **Distancia de trayecto:** La variable trip distance tiene un gran número de valores perdidos. Dado que tanto TEL_STARTODO como TEL_ENDODO están disponibles, se calculará la distancia total recorrida restando ambos valores, presciendo por tanto de TRIP_DISTANCE.\n",
    "- **Velocidad promedio:** LOG_AVG_VELOCITY tiene alto número de valores perdidos, por lo que se usará TEL_AVG_VELOCITY como variable predictora y se eliminará el campo anterior.\n",
    "- **Número de pasajeros:** A pesar de ser una variable candidata para tener relevancia en el análisis, el alto número de valores perdidos puede empeorar la calidad del mismo. Se realizará la estimación de consumo energético con y sin esta variable."
   ]
  },
  {
   "cell_type": "markdown",
   "metadata": {},
   "source": [
    "##### Filtrado de valores anómalos"
   ]
  },
  {
   "cell_type": "code",
   "execution_count": 20,
   "metadata": {},
   "outputs": [
    {
     "name": "stdout",
     "output_type": "stream",
     "text": [
      "Tras el filtrado previo, el numero de filas del dataset es: 21602\n"
     ]
    }
   ],
   "source": [
    "print('Tras el filtrado previo, el numero de filas del dataset es: %d' % (df_EV_filtered.shape[0]))"
   ]
  },
  {
   "cell_type": "markdown",
   "metadata": {},
   "source": [
    "Para detectar valores anómalos en alguna de las variables, se estudian diferentes estadísticos de cada una de ellas: media,desviación estándar,percentiles y valores máximos y mínimos."
   ]
  },
  {
   "cell_type": "code",
   "execution_count": 21,
   "metadata": {},
   "outputs": [
    {
     "data": {
      "text/html": [
       "<div>\n",
       "<style scoped>\n",
       "    .dataframe tbody tr th:only-of-type {\n",
       "        vertical-align: middle;\n",
       "    }\n",
       "\n",
       "    .dataframe tbody tr th {\n",
       "        vertical-align: top;\n",
       "    }\n",
       "\n",
       "    .dataframe thead th {\n",
       "        text-align: right;\n",
       "    }\n",
       "</style>\n",
       "<table border=\"1\" class=\"dataframe\">\n",
       "  <thead>\n",
       "    <tr style=\"text-align: right;\">\n",
       "      <th></th>\n",
       "      <th>TRIP_ID</th>\n",
       "      <th>VEHICLE_ID</th>\n",
       "      <th>TEL_STARTODO</th>\n",
       "      <th>TEL_ENDODO</th>\n",
       "      <th>TRIP_DISTANCE</th>\n",
       "      <th>TEL_AVG_VELOCITY</th>\n",
       "      <th>LOG_AVG_VELOCITY</th>\n",
       "      <th>AC_ON_DURATION</th>\n",
       "      <th>HEADLAMP_ON_DURATION</th>\n",
       "      <th>NO_PASSENGERS</th>\n",
       "      <th>TEL_SOC_START</th>\n",
       "      <th>TEL_SOC_END</th>\n",
       "    </tr>\n",
       "  </thead>\n",
       "  <tbody>\n",
       "    <tr>\n",
       "      <td>count</td>\n",
       "      <td>21602.000000</td>\n",
       "      <td>21602.000000</td>\n",
       "      <td>21602.000000</td>\n",
       "      <td>21602.000000</td>\n",
       "      <td>11648.000000</td>\n",
       "      <td>21602.000000</td>\n",
       "      <td>11785.000000</td>\n",
       "      <td>21602.000000</td>\n",
       "      <td>21602.000000</td>\n",
       "      <td>9512.000000</td>\n",
       "      <td>21602.000000</td>\n",
       "      <td>21602.000000</td>\n",
       "    </tr>\n",
       "    <tr>\n",
       "      <td>mean</td>\n",
       "      <td>30539.113091</td>\n",
       "      <td>14.321776</td>\n",
       "      <td>12809.174336</td>\n",
       "      <td>12821.914406</td>\n",
       "      <td>13.982658</td>\n",
       "      <td>29.899478</td>\n",
       "      <td>32.350770</td>\n",
       "      <td>6.783752</td>\n",
       "      <td>5.266042</td>\n",
       "      <td>1.446173</td>\n",
       "      <td>81.037080</td>\n",
       "      <td>64.619711</td>\n",
       "    </tr>\n",
       "    <tr>\n",
       "      <td>std</td>\n",
       "      <td>17892.185171</td>\n",
       "      <td>5.785378</td>\n",
       "      <td>6929.661127</td>\n",
       "      <td>6931.234368</td>\n",
       "      <td>13.490516</td>\n",
       "      <td>27.267432</td>\n",
       "      <td>15.142888</td>\n",
       "      <td>12.516848</td>\n",
       "      <td>11.684957</td>\n",
       "      <td>0.754508</td>\n",
       "      <td>242.980047</td>\n",
       "      <td>22.538538</td>\n",
       "    </tr>\n",
       "    <tr>\n",
       "      <td>min</td>\n",
       "      <td>1.000000</td>\n",
       "      <td>5.000000</td>\n",
       "      <td>256.000000</td>\n",
       "      <td>260.000000</td>\n",
       "      <td>1.000000</td>\n",
       "      <td>-1.000000</td>\n",
       "      <td>0.370000</td>\n",
       "      <td>0.000000</td>\n",
       "      <td>0.000000</td>\n",
       "      <td>1.000000</td>\n",
       "      <td>5.000000</td>\n",
       "      <td>-5.000000</td>\n",
       "    </tr>\n",
       "    <tr>\n",
       "      <td>25%</td>\n",
       "      <td>13823.250000</td>\n",
       "      <td>9.000000</td>\n",
       "      <td>7604.500000</td>\n",
       "      <td>7615.750000</td>\n",
       "      <td>5.000000</td>\n",
       "      <td>18.000000</td>\n",
       "      <td>22.500000</td>\n",
       "      <td>0.000000</td>\n",
       "      <td>0.000000</td>\n",
       "      <td>1.000000</td>\n",
       "      <td>65.000000</td>\n",
       "      <td>49.000000</td>\n",
       "    </tr>\n",
       "    <tr>\n",
       "      <td>50%</td>\n",
       "      <td>30848.500000</td>\n",
       "      <td>14.000000</td>\n",
       "      <td>11920.000000</td>\n",
       "      <td>11930.000000</td>\n",
       "      <td>9.000000</td>\n",
       "      <td>26.470000</td>\n",
       "      <td>30.000000</td>\n",
       "      <td>0.000000</td>\n",
       "      <td>0.000000</td>\n",
       "      <td>1.000000</td>\n",
       "      <td>83.000000</td>\n",
       "      <td>68.000000</td>\n",
       "    </tr>\n",
       "    <tr>\n",
       "      <td>75%</td>\n",
       "      <td>44869.750000</td>\n",
       "      <td>19.000000</td>\n",
       "      <td>17103.000000</td>\n",
       "      <td>17114.750000</td>\n",
       "      <td>19.000000</td>\n",
       "      <td>36.000000</td>\n",
       "      <td>40.000000</td>\n",
       "      <td>9.230000</td>\n",
       "      <td>4.027500</td>\n",
       "      <td>2.000000</td>\n",
       "      <td>97.000000</td>\n",
       "      <td>83.000000</td>\n",
       "    </tr>\n",
       "    <tr>\n",
       "      <td>max</td>\n",
       "      <td>61945.000000</td>\n",
       "      <td>24.000000</td>\n",
       "      <td>32920.000000</td>\n",
       "      <td>32922.000000</td>\n",
       "      <td>90.000000</td>\n",
       "      <td>840.000000</td>\n",
       "      <td>109.090000</td>\n",
       "      <td>241.070000</td>\n",
       "      <td>105.700000</td>\n",
       "      <td>4.000000</td>\n",
       "      <td>26853.000000</td>\n",
       "      <td>107.000000</td>\n",
       "    </tr>\n",
       "  </tbody>\n",
       "</table>\n",
       "</div>"
      ],
      "text/plain": [
       "            TRIP_ID    VEHICLE_ID  TEL_STARTODO    TEL_ENDODO  TRIP_DISTANCE  \\\n",
       "count  21602.000000  21602.000000  21602.000000  21602.000000   11648.000000   \n",
       "mean   30539.113091     14.321776  12809.174336  12821.914406      13.982658   \n",
       "std    17892.185171      5.785378   6929.661127   6931.234368      13.490516   \n",
       "min        1.000000      5.000000    256.000000    260.000000       1.000000   \n",
       "25%    13823.250000      9.000000   7604.500000   7615.750000       5.000000   \n",
       "50%    30848.500000     14.000000  11920.000000  11930.000000       9.000000   \n",
       "75%    44869.750000     19.000000  17103.000000  17114.750000      19.000000   \n",
       "max    61945.000000     24.000000  32920.000000  32922.000000      90.000000   \n",
       "\n",
       "       TEL_AVG_VELOCITY  LOG_AVG_VELOCITY  AC_ON_DURATION  \\\n",
       "count      21602.000000      11785.000000    21602.000000   \n",
       "mean          29.899478         32.350770        6.783752   \n",
       "std           27.267432         15.142888       12.516848   \n",
       "min           -1.000000          0.370000        0.000000   \n",
       "25%           18.000000         22.500000        0.000000   \n",
       "50%           26.470000         30.000000        0.000000   \n",
       "75%           36.000000         40.000000        9.230000   \n",
       "max          840.000000        109.090000      241.070000   \n",
       "\n",
       "       HEADLAMP_ON_DURATION  NO_PASSENGERS  TEL_SOC_START   TEL_SOC_END  \n",
       "count          21602.000000    9512.000000   21602.000000  21602.000000  \n",
       "mean               5.266042       1.446173      81.037080     64.619711  \n",
       "std               11.684957       0.754508     242.980047     22.538538  \n",
       "min                0.000000       1.000000       5.000000     -5.000000  \n",
       "25%                0.000000       1.000000      65.000000     49.000000  \n",
       "50%                0.000000       1.000000      83.000000     68.000000  \n",
       "75%                4.027500       2.000000      97.000000     83.000000  \n",
       "max              105.700000       4.000000   26853.000000    107.000000  "
      ]
     },
     "execution_count": 21,
     "metadata": {},
     "output_type": "execute_result"
    }
   ],
   "source": [
    "df_EV_filtered.describe()"
   ]
  },
  {
   "cell_type": "markdown",
   "metadata": {},
   "source": [
    "Los únicos valores que resultan incongruentes en un primer análisis están relacionados con la variable TEL_AVG_VELOCITY. En el valor mínimo se aprecian telemetrías negativas (lo cual es imposible) así como valores de velocidad promedio muy por encima de los límites de cualquier autopista. Se decide eliminar los valores negativos directamente. Respecto a las velocidades elevadas, el límite máximo de velocidad más elevado en Australia se da en determinadas autopistas, siendo de 130 km/h. (Fuente: https://en.wikipedia.org/wiki/Speed_limits_in_Australia#Default_speed_limits_by_state_and_territory). El filtro se establecerá en 130 + un rango de tolerancia de 10 (140 km/h en total)"
   ]
  },
  {
   "cell_type": "code",
   "execution_count": 22,
   "metadata": {},
   "outputs": [],
   "source": [
    "\n",
    "df_EV_filtered = df_EV_filtered[(df_EV_filtered['TEL_AVG_VELOCITY']>0) & (df_EV_filtered['TEL_AVG_VELOCITY']< 140)]\n"
   ]
  },
  {
   "cell_type": "markdown",
   "metadata": {},
   "source": [
    "Revisando los estados de carga de la batería también se detectan valores anómalos. En este caso se observan valores de carga por emcima de 100 y por debajo de 0. Dependiendo de como se haya medido esta variable, es posible que el dato sea ligeramente superior a 100 o ligeramente inferior a 0 tras una carga o descarga completa, se asignará una tolerancia de un 3% tanto por encima de 100 como por debajo de 0. El resto de registros serán eliminados."
   ]
  },
  {
   "cell_type": "code",
   "execution_count": 23,
   "metadata": {},
   "outputs": [],
   "source": [
    "df_EV_filtered = df_EV_filtered[(df_EV_filtered['TEL_SOC_START']>=-3) & (df_EV_filtered['TEL_SOC_START']<= 103)]"
   ]
  },
  {
   "cell_type": "code",
   "execution_count": 24,
   "metadata": {},
   "outputs": [],
   "source": [
    "df_EV_filtered = df_EV_filtered[(df_EV_filtered['TEL_SOC_END']>=-3) & (df_EV_filtered['TEL_SOC_END']<= 103)]"
   ]
  },
  {
   "cell_type": "code",
   "execution_count": 25,
   "metadata": {},
   "outputs": [
    {
     "name": "stdout",
     "output_type": "stream",
     "text": [
      "Tras la eliminación de outliers, el número total de registros es de : 20523\n"
     ]
    }
   ],
   "source": [
    "print('Tras la eliminación de outliers, el número total de registros es de : %d' % (df_EV_filtered.shape[0]))"
   ]
  },
  {
   "cell_type": "code",
   "execution_count": 26,
   "metadata": {},
   "outputs": [
    {
     "data": {
      "text/html": [
       "<div>\n",
       "<style scoped>\n",
       "    .dataframe tbody tr th:only-of-type {\n",
       "        vertical-align: middle;\n",
       "    }\n",
       "\n",
       "    .dataframe tbody tr th {\n",
       "        vertical-align: top;\n",
       "    }\n",
       "\n",
       "    .dataframe thead th {\n",
       "        text-align: right;\n",
       "    }\n",
       "</style>\n",
       "<table border=\"1\" class=\"dataframe\">\n",
       "  <thead>\n",
       "    <tr style=\"text-align: right;\">\n",
       "      <th></th>\n",
       "      <th>TRIP_ID</th>\n",
       "      <th>VEHICLE_ID</th>\n",
       "      <th>TEL_STARTODO</th>\n",
       "      <th>TEL_ENDODO</th>\n",
       "      <th>TRIP_DISTANCE</th>\n",
       "      <th>TEL_AVG_VELOCITY</th>\n",
       "      <th>LOG_AVG_VELOCITY</th>\n",
       "      <th>AC_ON_DURATION</th>\n",
       "      <th>HEADLAMP_ON_DURATION</th>\n",
       "      <th>NO_PASSENGERS</th>\n",
       "      <th>TEL_SOC_START</th>\n",
       "      <th>TEL_SOC_END</th>\n",
       "    </tr>\n",
       "  </thead>\n",
       "  <tbody>\n",
       "    <tr>\n",
       "      <td>count</td>\n",
       "      <td>20523.000000</td>\n",
       "      <td>20523.000000</td>\n",
       "      <td>20523.000000</td>\n",
       "      <td>20523.000000</td>\n",
       "      <td>11042.000000</td>\n",
       "      <td>20523.000000</td>\n",
       "      <td>11177.000000</td>\n",
       "      <td>20523.000000</td>\n",
       "      <td>20523.000000</td>\n",
       "      <td>9026.000000</td>\n",
       "      <td>20523.000000</td>\n",
       "      <td>20523.000000</td>\n",
       "    </tr>\n",
       "    <tr>\n",
       "      <td>mean</td>\n",
       "      <td>30674.892218</td>\n",
       "      <td>14.364323</td>\n",
       "      <td>12825.631340</td>\n",
       "      <td>12838.011109</td>\n",
       "      <td>13.584948</td>\n",
       "      <td>28.281964</td>\n",
       "      <td>31.936034</td>\n",
       "      <td>6.753018</td>\n",
       "      <td>5.243835</td>\n",
       "      <td>1.454465</td>\n",
       "      <td>77.696974</td>\n",
       "      <td>64.438971</td>\n",
       "    </tr>\n",
       "    <tr>\n",
       "      <td>std</td>\n",
       "      <td>17867.952875</td>\n",
       "      <td>5.779544</td>\n",
       "      <td>6847.071245</td>\n",
       "      <td>6848.566077</td>\n",
       "      <td>13.063433</td>\n",
       "      <td>14.078355</td>\n",
       "      <td>14.902453</td>\n",
       "      <td>12.393583</td>\n",
       "      <td>11.607389</td>\n",
       "      <td>0.760360</td>\n",
       "      <td>20.541285</td>\n",
       "      <td>21.628715</td>\n",
       "    </tr>\n",
       "    <tr>\n",
       "      <td>min</td>\n",
       "      <td>1.000000</td>\n",
       "      <td>5.000000</td>\n",
       "      <td>256.000000</td>\n",
       "      <td>260.000000</td>\n",
       "      <td>1.000000</td>\n",
       "      <td>0.360000</td>\n",
       "      <td>0.370000</td>\n",
       "      <td>0.000000</td>\n",
       "      <td>0.000000</td>\n",
       "      <td>1.000000</td>\n",
       "      <td>5.000000</td>\n",
       "      <td>0.000000</td>\n",
       "    </tr>\n",
       "    <tr>\n",
       "      <td>25%</td>\n",
       "      <td>14188.000000</td>\n",
       "      <td>9.000000</td>\n",
       "      <td>7690.500000</td>\n",
       "      <td>7701.000000</td>\n",
       "      <td>5.000000</td>\n",
       "      <td>18.000000</td>\n",
       "      <td>22.040000</td>\n",
       "      <td>0.000000</td>\n",
       "      <td>0.000000</td>\n",
       "      <td>1.000000</td>\n",
       "      <td>64.000000</td>\n",
       "      <td>49.000000</td>\n",
       "    </tr>\n",
       "    <tr>\n",
       "      <td>50%</td>\n",
       "      <td>31074.000000</td>\n",
       "      <td>14.000000</td>\n",
       "      <td>11926.000000</td>\n",
       "      <td>11935.000000</td>\n",
       "      <td>9.000000</td>\n",
       "      <td>26.250000</td>\n",
       "      <td>30.000000</td>\n",
       "      <td>0.000000</td>\n",
       "      <td>0.000000</td>\n",
       "      <td>1.000000</td>\n",
       "      <td>81.000000</td>\n",
       "      <td>67.000000</td>\n",
       "    </tr>\n",
       "    <tr>\n",
       "      <td>75%</td>\n",
       "      <td>44896.500000</td>\n",
       "      <td>19.000000</td>\n",
       "      <td>17062.000000</td>\n",
       "      <td>17068.500000</td>\n",
       "      <td>18.000000</td>\n",
       "      <td>35.290000</td>\n",
       "      <td>40.000000</td>\n",
       "      <td>9.250000</td>\n",
       "      <td>4.080000</td>\n",
       "      <td>2.000000</td>\n",
       "      <td>96.500000</td>\n",
       "      <td>82.000000</td>\n",
       "    </tr>\n",
       "    <tr>\n",
       "      <td>max</td>\n",
       "      <td>61945.000000</td>\n",
       "      <td>24.000000</td>\n",
       "      <td>32920.000000</td>\n",
       "      <td>32922.000000</td>\n",
       "      <td>90.000000</td>\n",
       "      <td>135.000000</td>\n",
       "      <td>109.090000</td>\n",
       "      <td>241.070000</td>\n",
       "      <td>105.700000</td>\n",
       "      <td>4.000000</td>\n",
       "      <td>103.000000</td>\n",
       "      <td>102.000000</td>\n",
       "    </tr>\n",
       "  </tbody>\n",
       "</table>\n",
       "</div>"
      ],
      "text/plain": [
       "            TRIP_ID    VEHICLE_ID  TEL_STARTODO    TEL_ENDODO  TRIP_DISTANCE  \\\n",
       "count  20523.000000  20523.000000  20523.000000  20523.000000   11042.000000   \n",
       "mean   30674.892218     14.364323  12825.631340  12838.011109      13.584948   \n",
       "std    17867.952875      5.779544   6847.071245   6848.566077      13.063433   \n",
       "min        1.000000      5.000000    256.000000    260.000000       1.000000   \n",
       "25%    14188.000000      9.000000   7690.500000   7701.000000       5.000000   \n",
       "50%    31074.000000     14.000000  11926.000000  11935.000000       9.000000   \n",
       "75%    44896.500000     19.000000  17062.000000  17068.500000      18.000000   \n",
       "max    61945.000000     24.000000  32920.000000  32922.000000      90.000000   \n",
       "\n",
       "       TEL_AVG_VELOCITY  LOG_AVG_VELOCITY  AC_ON_DURATION  \\\n",
       "count      20523.000000      11177.000000    20523.000000   \n",
       "mean          28.281964         31.936034        6.753018   \n",
       "std           14.078355         14.902453       12.393583   \n",
       "min            0.360000          0.370000        0.000000   \n",
       "25%           18.000000         22.040000        0.000000   \n",
       "50%           26.250000         30.000000        0.000000   \n",
       "75%           35.290000         40.000000        9.250000   \n",
       "max          135.000000        109.090000      241.070000   \n",
       "\n",
       "       HEADLAMP_ON_DURATION  NO_PASSENGERS  TEL_SOC_START   TEL_SOC_END  \n",
       "count          20523.000000    9026.000000   20523.000000  20523.000000  \n",
       "mean               5.243835       1.454465      77.696974     64.438971  \n",
       "std               11.607389       0.760360      20.541285     21.628715  \n",
       "min                0.000000       1.000000       5.000000      0.000000  \n",
       "25%                0.000000       1.000000      64.000000     49.000000  \n",
       "50%                0.000000       1.000000      81.000000     67.000000  \n",
       "75%                4.080000       2.000000      96.500000     82.000000  \n",
       "max              105.700000       4.000000     103.000000    102.000000  "
      ]
     },
     "execution_count": 26,
     "metadata": {},
     "output_type": "execute_result"
    }
   ],
   "source": [
    "df_EV_filtered.describe()"
   ]
  },
  {
   "cell_type": "markdown",
   "metadata": {},
   "source": [
    "El resto de valores en los campos son, como mínimo, congruentes."
   ]
  },
  {
   "cell_type": "markdown",
   "metadata": {},
   "source": [
    "##### Cálculo de variables adicionales"
   ]
  },
  {
   "cell_type": "code",
   "execution_count": 27,
   "metadata": {},
   "outputs": [],
   "source": [
    "#Calculo de nueva variable de distancia total.\n",
    "df_EV_filtered[\"TOTAL_TRIP_DISTANCE\"] = (df_EV_filtered[\"TEL_ENDODO\"] - df_EV_filtered[\"TEL_STARTODO\"])\n",
    "\n",
    "#Calculo de nueva variable de consumo energético total\n",
    "df_EV_filtered[\"TOTAL_ENERGY_CONSUMPTION\"] = (df_EV_filtered[\"TEL_SOC_START\"] - df_EV_filtered[\"TEL_SOC_END\"])"
   ]
  },
  {
   "cell_type": "code",
   "execution_count": 28,
   "metadata": {},
   "outputs": [],
   "source": [
    "#Se eliminan trayectos inferiores a 2 km para evitar desvirtuar los datos\n",
    "df_EV_filtered = df_EV_filtered[(df_EV_filtered['TOTAL_TRIP_DISTANCE']>2)]"
   ]
  },
  {
   "cell_type": "code",
   "execution_count": 29,
   "metadata": {},
   "outputs": [
    {
     "data": {
      "text/html": [
       "<div>\n",
       "<style scoped>\n",
       "    .dataframe tbody tr th:only-of-type {\n",
       "        vertical-align: middle;\n",
       "    }\n",
       "\n",
       "    .dataframe tbody tr th {\n",
       "        vertical-align: top;\n",
       "    }\n",
       "\n",
       "    .dataframe thead th {\n",
       "        text-align: right;\n",
       "    }\n",
       "</style>\n",
       "<table border=\"1\" class=\"dataframe\">\n",
       "  <thead>\n",
       "    <tr style=\"text-align: right;\">\n",
       "      <th></th>\n",
       "      <th>TRIP_ID</th>\n",
       "      <th>VEHICLE_ID</th>\n",
       "      <th>TEL_STARTODO</th>\n",
       "      <th>TEL_ENDODO</th>\n",
       "      <th>TRIP_DISTANCE</th>\n",
       "      <th>TEL_AVG_VELOCITY</th>\n",
       "      <th>LOG_AVG_VELOCITY</th>\n",
       "      <th>AC_ON_DURATION</th>\n",
       "      <th>HEADLAMP_ON_DURATION</th>\n",
       "      <th>NO_PASSENGERS</th>\n",
       "      <th>TEL_SOC_START</th>\n",
       "      <th>TEL_SOC_END</th>\n",
       "      <th>TOTAL_TRIP_DISTANCE</th>\n",
       "      <th>TOTAL_ENERGY_CONSUMPTION</th>\n",
       "    </tr>\n",
       "  </thead>\n",
       "  <tbody>\n",
       "    <tr>\n",
       "      <td>2</td>\n",
       "      <td>8529</td>\n",
       "      <td>7</td>\n",
       "      <td>9776.0</td>\n",
       "      <td>9782.0</td>\n",
       "      <td>5.0</td>\n",
       "      <td>36.00</td>\n",
       "      <td>37.50</td>\n",
       "      <td>0.00</td>\n",
       "      <td>9.67</td>\n",
       "      <td>1.0</td>\n",
       "      <td>78.0</td>\n",
       "      <td>74.0</td>\n",
       "      <td>6.0</td>\n",
       "      <td>4.0</td>\n",
       "    </tr>\n",
       "    <tr>\n",
       "      <td>3</td>\n",
       "      <td>12108</td>\n",
       "      <td>8</td>\n",
       "      <td>12362.0</td>\n",
       "      <td>12393.0</td>\n",
       "      <td>31.0</td>\n",
       "      <td>56.36</td>\n",
       "      <td>66.43</td>\n",
       "      <td>0.00</td>\n",
       "      <td>0.00</td>\n",
       "      <td>1.0</td>\n",
       "      <td>97.0</td>\n",
       "      <td>69.0</td>\n",
       "      <td>31.0</td>\n",
       "      <td>28.0</td>\n",
       "    </tr>\n",
       "    <tr>\n",
       "      <td>4</td>\n",
       "      <td>39702</td>\n",
       "      <td>17</td>\n",
       "      <td>25665.0</td>\n",
       "      <td>25699.0</td>\n",
       "      <td>33.0</td>\n",
       "      <td>55.14</td>\n",
       "      <td>55.00</td>\n",
       "      <td>0.00</td>\n",
       "      <td>0.00</td>\n",
       "      <td>1.0</td>\n",
       "      <td>103.0</td>\n",
       "      <td>78.0</td>\n",
       "      <td>34.0</td>\n",
       "      <td>25.0</td>\n",
       "    </tr>\n",
       "    <tr>\n",
       "      <td>5</td>\n",
       "      <td>23967</td>\n",
       "      <td>12</td>\n",
       "      <td>14008.0</td>\n",
       "      <td>14025.0</td>\n",
       "      <td>16.0</td>\n",
       "      <td>39.23</td>\n",
       "      <td>38.40</td>\n",
       "      <td>23.32</td>\n",
       "      <td>0.00</td>\n",
       "      <td>1.0</td>\n",
       "      <td>101.0</td>\n",
       "      <td>86.0</td>\n",
       "      <td>17.0</td>\n",
       "      <td>15.0</td>\n",
       "    </tr>\n",
       "    <tr>\n",
       "      <td>6</td>\n",
       "      <td>61141</td>\n",
       "      <td>24</td>\n",
       "      <td>19743.0</td>\n",
       "      <td>19766.0</td>\n",
       "      <td>NaN</td>\n",
       "      <td>30.00</td>\n",
       "      <td>NaN</td>\n",
       "      <td>0.00</td>\n",
       "      <td>0.00</td>\n",
       "      <td>NaN</td>\n",
       "      <td>102.0</td>\n",
       "      <td>75.0</td>\n",
       "      <td>23.0</td>\n",
       "      <td>27.0</td>\n",
       "    </tr>\n",
       "  </tbody>\n",
       "</table>\n",
       "</div>"
      ],
      "text/plain": [
       "   TRIP_ID  VEHICLE_ID  TEL_STARTODO  TEL_ENDODO  TRIP_DISTANCE  \\\n",
       "2     8529           7        9776.0      9782.0            5.0   \n",
       "3    12108           8       12362.0     12393.0           31.0   \n",
       "4    39702          17       25665.0     25699.0           33.0   \n",
       "5    23967          12       14008.0     14025.0           16.0   \n",
       "6    61141          24       19743.0     19766.0            NaN   \n",
       "\n",
       "   TEL_AVG_VELOCITY  LOG_AVG_VELOCITY  AC_ON_DURATION  HEADLAMP_ON_DURATION  \\\n",
       "2             36.00             37.50            0.00                  9.67   \n",
       "3             56.36             66.43            0.00                  0.00   \n",
       "4             55.14             55.00            0.00                  0.00   \n",
       "5             39.23             38.40           23.32                  0.00   \n",
       "6             30.00               NaN            0.00                  0.00   \n",
       "\n",
       "   NO_PASSENGERS  TEL_SOC_START  TEL_SOC_END  TOTAL_TRIP_DISTANCE  \\\n",
       "2            1.0           78.0         74.0                  6.0   \n",
       "3            1.0           97.0         69.0                 31.0   \n",
       "4            1.0          103.0         78.0                 34.0   \n",
       "5            1.0          101.0         86.0                 17.0   \n",
       "6            NaN          102.0         75.0                 23.0   \n",
       "\n",
       "   TOTAL_ENERGY_CONSUMPTION  \n",
       "2                       4.0  \n",
       "3                      28.0  \n",
       "4                      25.0  \n",
       "5                      15.0  \n",
       "6                      27.0  "
      ]
     },
     "execution_count": 29,
     "metadata": {},
     "output_type": "execute_result"
    }
   ],
   "source": [
    "df_EV_filtered.head()"
   ]
  },
  {
   "cell_type": "code",
   "execution_count": 30,
   "metadata": {},
   "outputs": [],
   "source": [
    "df_EV_filtered = df_EV_filtered.iloc[:, [0,1,5,7,8,9,12,13]]"
   ]
  },
  {
   "cell_type": "code",
   "execution_count": 31,
   "metadata": {},
   "outputs": [
    {
     "data": {
      "text/html": [
       "<div>\n",
       "<style scoped>\n",
       "    .dataframe tbody tr th:only-of-type {\n",
       "        vertical-align: middle;\n",
       "    }\n",
       "\n",
       "    .dataframe tbody tr th {\n",
       "        vertical-align: top;\n",
       "    }\n",
       "\n",
       "    .dataframe thead th {\n",
       "        text-align: right;\n",
       "    }\n",
       "</style>\n",
       "<table border=\"1\" class=\"dataframe\">\n",
       "  <thead>\n",
       "    <tr style=\"text-align: right;\">\n",
       "      <th></th>\n",
       "      <th>TRIP_ID</th>\n",
       "      <th>VEHICLE_ID</th>\n",
       "      <th>TEL_AVG_VELOCITY</th>\n",
       "      <th>AC_ON_DURATION</th>\n",
       "      <th>HEADLAMP_ON_DURATION</th>\n",
       "      <th>NO_PASSENGERS</th>\n",
       "      <th>TOTAL_TRIP_DISTANCE</th>\n",
       "      <th>TOTAL_ENERGY_CONSUMPTION</th>\n",
       "    </tr>\n",
       "  </thead>\n",
       "  <tbody>\n",
       "    <tr>\n",
       "      <td>count</td>\n",
       "      <td>16935.000000</td>\n",
       "      <td>16935.000000</td>\n",
       "      <td>16935.000000</td>\n",
       "      <td>16935.000000</td>\n",
       "      <td>16935.000000</td>\n",
       "      <td>8345.000000</td>\n",
       "      <td>16935.000000</td>\n",
       "      <td>16935.000000</td>\n",
       "    </tr>\n",
       "    <tr>\n",
       "      <td>mean</td>\n",
       "      <td>30235.207972</td>\n",
       "      <td>14.214999</td>\n",
       "      <td>30.967474</td>\n",
       "      <td>7.737616</td>\n",
       "      <td>6.130331</td>\n",
       "      <td>1.436669</td>\n",
       "      <td>14.686094</td>\n",
       "      <td>15.614762</td>\n",
       "    </tr>\n",
       "    <tr>\n",
       "      <td>std</td>\n",
       "      <td>17783.432365</td>\n",
       "      <td>5.756322</td>\n",
       "      <td>13.350364</td>\n",
       "      <td>13.329386</td>\n",
       "      <td>12.544361</td>\n",
       "      <td>0.747381</td>\n",
       "      <td>12.704180</td>\n",
       "      <td>13.817388</td>\n",
       "    </tr>\n",
       "    <tr>\n",
       "      <td>min</td>\n",
       "      <td>2.000000</td>\n",
       "      <td>5.000000</td>\n",
       "      <td>0.360000</td>\n",
       "      <td>0.000000</td>\n",
       "      <td>0.000000</td>\n",
       "      <td>1.000000</td>\n",
       "      <td>3.000000</td>\n",
       "      <td>0.000000</td>\n",
       "    </tr>\n",
       "    <tr>\n",
       "      <td>25%</td>\n",
       "      <td>13843.000000</td>\n",
       "      <td>9.000000</td>\n",
       "      <td>22.110000</td>\n",
       "      <td>0.000000</td>\n",
       "      <td>0.000000</td>\n",
       "      <td>1.000000</td>\n",
       "      <td>6.000000</td>\n",
       "      <td>6.000000</td>\n",
       "    </tr>\n",
       "    <tr>\n",
       "      <td>50%</td>\n",
       "      <td>29933.000000</td>\n",
       "      <td>14.000000</td>\n",
       "      <td>28.570000</td>\n",
       "      <td>0.000000</td>\n",
       "      <td>0.000000</td>\n",
       "      <td>1.000000</td>\n",
       "      <td>11.000000</td>\n",
       "      <td>11.000000</td>\n",
       "    </tr>\n",
       "    <tr>\n",
       "      <td>75%</td>\n",
       "      <td>44309.000000</td>\n",
       "      <td>19.000000</td>\n",
       "      <td>36.990000</td>\n",
       "      <td>11.780000</td>\n",
       "      <td>6.180000</td>\n",
       "      <td>2.000000</td>\n",
       "      <td>20.000000</td>\n",
       "      <td>20.000000</td>\n",
       "    </tr>\n",
       "    <tr>\n",
       "      <td>max</td>\n",
       "      <td>61945.000000</td>\n",
       "      <td>24.000000</td>\n",
       "      <td>135.000000</td>\n",
       "      <td>241.070000</td>\n",
       "      <td>105.700000</td>\n",
       "      <td>4.000000</td>\n",
       "      <td>96.000000</td>\n",
       "      <td>103.000000</td>\n",
       "    </tr>\n",
       "  </tbody>\n",
       "</table>\n",
       "</div>"
      ],
      "text/plain": [
       "            TRIP_ID    VEHICLE_ID  TEL_AVG_VELOCITY  AC_ON_DURATION  \\\n",
       "count  16935.000000  16935.000000      16935.000000    16935.000000   \n",
       "mean   30235.207972     14.214999         30.967474        7.737616   \n",
       "std    17783.432365      5.756322         13.350364       13.329386   \n",
       "min        2.000000      5.000000          0.360000        0.000000   \n",
       "25%    13843.000000      9.000000         22.110000        0.000000   \n",
       "50%    29933.000000     14.000000         28.570000        0.000000   \n",
       "75%    44309.000000     19.000000         36.990000       11.780000   \n",
       "max    61945.000000     24.000000        135.000000      241.070000   \n",
       "\n",
       "       HEADLAMP_ON_DURATION  NO_PASSENGERS  TOTAL_TRIP_DISTANCE  \\\n",
       "count          16935.000000    8345.000000         16935.000000   \n",
       "mean               6.130331       1.436669            14.686094   \n",
       "std               12.544361       0.747381            12.704180   \n",
       "min                0.000000       1.000000             3.000000   \n",
       "25%                0.000000       1.000000             6.000000   \n",
       "50%                0.000000       1.000000            11.000000   \n",
       "75%                6.180000       2.000000            20.000000   \n",
       "max              105.700000       4.000000            96.000000   \n",
       "\n",
       "       TOTAL_ENERGY_CONSUMPTION  \n",
       "count              16935.000000  \n",
       "mean                  15.614762  \n",
       "std                   13.817388  \n",
       "min                    0.000000  \n",
       "25%                    6.000000  \n",
       "50%                   11.000000  \n",
       "75%                   20.000000  \n",
       "max                  103.000000  "
      ]
     },
     "execution_count": 31,
     "metadata": {},
     "output_type": "execute_result"
    }
   ],
   "source": [
    "df_EV_filtered.describe()"
   ]
  },
  {
   "cell_type": "markdown",
   "metadata": {},
   "source": [
    "La correlación lineal del uso de los sistemas auxiliares es muy baja con respecto distancia recorrida y velocidad."
   ]
  },
  {
   "cell_type": "markdown",
   "metadata": {},
   "source": [
    "### 3.3 Estimación de consumo energético de las baterías"
   ]
  },
  {
   "cell_type": "markdown",
   "metadata": {},
   "source": [
    "Una vez limpiado y filtrado el conjunto de datos, a continuación se procederá a la estimación del consumo energético a partir de las variables predictoras."
   ]
  },
  {
   "cell_type": "code",
   "execution_count": 32,
   "metadata": {},
   "outputs": [
    {
     "data": {
      "text/html": [
       "<div>\n",
       "<style scoped>\n",
       "    .dataframe tbody tr th:only-of-type {\n",
       "        vertical-align: middle;\n",
       "    }\n",
       "\n",
       "    .dataframe tbody tr th {\n",
       "        vertical-align: top;\n",
       "    }\n",
       "\n",
       "    .dataframe thead th {\n",
       "        text-align: right;\n",
       "    }\n",
       "</style>\n",
       "<table border=\"1\" class=\"dataframe\">\n",
       "  <thead>\n",
       "    <tr style=\"text-align: right;\">\n",
       "      <th></th>\n",
       "      <th>TRIP_ID</th>\n",
       "      <th>VEHICLE_ID</th>\n",
       "      <th>TEL_AVG_VELOCITY</th>\n",
       "      <th>AC_ON_DURATION</th>\n",
       "      <th>HEADLAMP_ON_DURATION</th>\n",
       "      <th>NO_PASSENGERS</th>\n",
       "      <th>TOTAL_TRIP_DISTANCE</th>\n",
       "      <th>TOTAL_ENERGY_CONSUMPTION</th>\n",
       "    </tr>\n",
       "  </thead>\n",
       "  <tbody>\n",
       "    <tr>\n",
       "      <td>TRIP_ID</td>\n",
       "      <td>1.000000</td>\n",
       "      <td>0.998548</td>\n",
       "      <td>-0.142181</td>\n",
       "      <td>-0.076909</td>\n",
       "      <td>-0.017141</td>\n",
       "      <td>0.156083</td>\n",
       "      <td>-0.064767</td>\n",
       "      <td>-0.052687</td>\n",
       "    </tr>\n",
       "    <tr>\n",
       "      <td>VEHICLE_ID</td>\n",
       "      <td>0.998548</td>\n",
       "      <td>1.000000</td>\n",
       "      <td>-0.136633</td>\n",
       "      <td>-0.078420</td>\n",
       "      <td>-0.012715</td>\n",
       "      <td>0.157580</td>\n",
       "      <td>-0.061598</td>\n",
       "      <td>-0.049339</td>\n",
       "    </tr>\n",
       "    <tr>\n",
       "      <td>TEL_AVG_VELOCITY</td>\n",
       "      <td>-0.142181</td>\n",
       "      <td>-0.136633</td>\n",
       "      <td>1.000000</td>\n",
       "      <td>0.015761</td>\n",
       "      <td>0.202673</td>\n",
       "      <td>-0.119577</td>\n",
       "      <td>0.673060</td>\n",
       "      <td>0.624722</td>\n",
       "    </tr>\n",
       "    <tr>\n",
       "      <td>AC_ON_DURATION</td>\n",
       "      <td>-0.076909</td>\n",
       "      <td>-0.078420</td>\n",
       "      <td>0.015761</td>\n",
       "      <td>1.000000</td>\n",
       "      <td>-0.016330</td>\n",
       "      <td>-0.033729</td>\n",
       "      <td>0.216325</td>\n",
       "      <td>0.225145</td>\n",
       "    </tr>\n",
       "    <tr>\n",
       "      <td>HEADLAMP_ON_DURATION</td>\n",
       "      <td>-0.017141</td>\n",
       "      <td>-0.012715</td>\n",
       "      <td>0.202673</td>\n",
       "      <td>-0.016330</td>\n",
       "      <td>1.000000</td>\n",
       "      <td>-0.024509</td>\n",
       "      <td>0.346453</td>\n",
       "      <td>0.344498</td>\n",
       "    </tr>\n",
       "    <tr>\n",
       "      <td>NO_PASSENGERS</td>\n",
       "      <td>0.156083</td>\n",
       "      <td>0.157580</td>\n",
       "      <td>-0.119577</td>\n",
       "      <td>-0.033729</td>\n",
       "      <td>-0.024509</td>\n",
       "      <td>1.000000</td>\n",
       "      <td>-0.134215</td>\n",
       "      <td>-0.114726</td>\n",
       "    </tr>\n",
       "    <tr>\n",
       "      <td>TOTAL_TRIP_DISTANCE</td>\n",
       "      <td>-0.064767</td>\n",
       "      <td>-0.061598</td>\n",
       "      <td>0.673060</td>\n",
       "      <td>0.216325</td>\n",
       "      <td>0.346453</td>\n",
       "      <td>-0.134215</td>\n",
       "      <td>1.000000</td>\n",
       "      <td>0.943900</td>\n",
       "    </tr>\n",
       "    <tr>\n",
       "      <td>TOTAL_ENERGY_CONSUMPTION</td>\n",
       "      <td>-0.052687</td>\n",
       "      <td>-0.049339</td>\n",
       "      <td>0.624722</td>\n",
       "      <td>0.225145</td>\n",
       "      <td>0.344498</td>\n",
       "      <td>-0.114726</td>\n",
       "      <td>0.943900</td>\n",
       "      <td>1.000000</td>\n",
       "    </tr>\n",
       "  </tbody>\n",
       "</table>\n",
       "</div>"
      ],
      "text/plain": [
       "                           TRIP_ID  VEHICLE_ID  TEL_AVG_VELOCITY  \\\n",
       "TRIP_ID                   1.000000    0.998548         -0.142181   \n",
       "VEHICLE_ID                0.998548    1.000000         -0.136633   \n",
       "TEL_AVG_VELOCITY         -0.142181   -0.136633          1.000000   \n",
       "AC_ON_DURATION           -0.076909   -0.078420          0.015761   \n",
       "HEADLAMP_ON_DURATION     -0.017141   -0.012715          0.202673   \n",
       "NO_PASSENGERS             0.156083    0.157580         -0.119577   \n",
       "TOTAL_TRIP_DISTANCE      -0.064767   -0.061598          0.673060   \n",
       "TOTAL_ENERGY_CONSUMPTION -0.052687   -0.049339          0.624722   \n",
       "\n",
       "                          AC_ON_DURATION  HEADLAMP_ON_DURATION  NO_PASSENGERS  \\\n",
       "TRIP_ID                        -0.076909             -0.017141       0.156083   \n",
       "VEHICLE_ID                     -0.078420             -0.012715       0.157580   \n",
       "TEL_AVG_VELOCITY                0.015761              0.202673      -0.119577   \n",
       "AC_ON_DURATION                  1.000000             -0.016330      -0.033729   \n",
       "HEADLAMP_ON_DURATION           -0.016330              1.000000      -0.024509   \n",
       "NO_PASSENGERS                  -0.033729             -0.024509       1.000000   \n",
       "TOTAL_TRIP_DISTANCE             0.216325              0.346453      -0.134215   \n",
       "TOTAL_ENERGY_CONSUMPTION        0.225145              0.344498      -0.114726   \n",
       "\n",
       "                          TOTAL_TRIP_DISTANCE  TOTAL_ENERGY_CONSUMPTION  \n",
       "TRIP_ID                             -0.064767                 -0.052687  \n",
       "VEHICLE_ID                          -0.061598                 -0.049339  \n",
       "TEL_AVG_VELOCITY                     0.673060                  0.624722  \n",
       "AC_ON_DURATION                       0.216325                  0.225145  \n",
       "HEADLAMP_ON_DURATION                 0.346453                  0.344498  \n",
       "NO_PASSENGERS                       -0.134215                 -0.114726  \n",
       "TOTAL_TRIP_DISTANCE                  1.000000                  0.943900  \n",
       "TOTAL_ENERGY_CONSUMPTION             0.943900                  1.000000  "
      ]
     },
     "execution_count": 32,
     "metadata": {},
     "output_type": "execute_result"
    }
   ],
   "source": [
    "corr = df_EV_filtered.corr(method = 'pearson')\n",
    "corr"
   ]
  },
  {
   "cell_type": "markdown",
   "metadata": {},
   "source": [
    "Eliminamos NO_PASSENGERS dada su baja correlación lineal y alto número de valores vacíos."
   ]
  },
  {
   "cell_type": "code",
   "execution_count": 33,
   "metadata": {},
   "outputs": [],
   "source": [
    "df_EV_filtered = df_EV_filtered.drop('NO_PASSENGERS',axis=1)"
   ]
  },
  {
   "cell_type": "markdown",
   "metadata": {},
   "source": [
    "## 4. Construcción del modelo de predicción de consumo energético"
   ]
  },
  {
   "cell_type": "markdown",
   "metadata": {},
   "source": [
    "Se crean dos subconjuntos de datos: Uno con las variables predictoras seleccionadas y otro con la variable objetivo"
   ]
  },
  {
   "cell_type": "markdown",
   "metadata": {},
   "source": [
    "##### Modelo de regresión lineal"
   ]
  },
  {
   "cell_type": "code",
   "execution_count": null,
   "metadata": {},
   "outputs": [],
   "source": [
    "df_EV_filtered.iloc[:,[2,3,4,5]]"
   ]
  },
  {
   "cell_type": "code",
   "execution_count": 34,
   "metadata": {},
   "outputs": [],
   "source": [
    "x = df_EV_filtered.iloc[:,[2,3,4,5]]\n",
    "#separte the predicting attribute into Y for model training \n",
    "y = df_EV_filtered['TOTAL_ENERGY_CONSUMPTION']\n",
    "x_train, x_test, y_train, y_test = train_test_split(x, y, test_size=0.30, shuffle=False)"
   ]
  },
  {
   "cell_type": "code",
   "execution_count": 35,
   "metadata": {},
   "outputs": [],
   "source": [
    "lm = LinearRegression()\n",
    "lm.fit(x_train, y_train)\n",
    "y_pred_lm = lm.predict(x_test)\n",
    "r2_score_lm = sklearn.metrics.r2_score(y_test,y_pred_lm)\n",
    "MAE_score_lm = sklearn.metrics.mean_absolute_error(y_test, y_pred_lm)\n",
    "RMSE_score_lm = sklearn.metrics.mean_squared_error(y_test, y_pred_lm, squared=False)\n",
    "metrics_lm = np.array([MAE_score_lm, RMSE_score_lm, r2_score_lm])"
   ]
  },
  {
   "cell_type": "code",
   "execution_count": 36,
   "metadata": {},
   "outputs": [
    {
     "data": {
      "text/plain": [
       "array([2.5026235 , 4.3706815 , 0.89383737])"
      ]
     },
     "execution_count": 36,
     "metadata": {},
     "output_type": "execute_result"
    }
   ],
   "source": [
    "metrics_lm"
   ]
  },
  {
   "cell_type": "code",
   "execution_count": 37,
   "metadata": {},
   "outputs": [
    {
     "name": "stdout",
     "output_type": "stream",
     "text": [
      "X=[30, 87, 5, 70], Predicted=73.89612899989874\n"
     ]
    },
    {
     "name": "stderr",
     "output_type": "stream",
     "text": [
      "C:\\Users\\Usuario\\AppData\\Roaming\\Python\\Python37\\site-packages\\sklearn\\base.py:446: UserWarning: X does not have valid feature names, but LinearRegression was fitted with feature names\n",
      "  \"X does not have valid feature names, but\"\n"
     ]
    }
   ],
   "source": [
    "# Prueba de cálculo de una instancia\n",
    "x_pred = [[30,87,5,70]]\n",
    "# Hacer una predicción\n",
    "y_pred = lm.predict(x_pred)\n",
    "# show the inputs and predicted outputs\n",
    "for i in range(len(x_pred)):\n",
    "    print(\"X=%s, Predicted=%s\" % (x_pred[i], y_pred[i]))"
   ]
  },
  {
   "cell_type": "markdown",
   "metadata": {},
   "source": [
    "##### Red neuronal"
   ]
  },
  {
   "cell_type": "code",
   "execution_count": 38,
   "metadata": {},
   "outputs": [
    {
     "name": "stdout",
     "output_type": "stream",
     "text": [
      "Model: \"sequential\"\n",
      "_________________________________________________________________\n",
      "Layer (type)                 Output Shape              Param #   \n",
      "=================================================================\n",
      "dense (Dense)                (None, 128)               640       \n",
      "_________________________________________________________________\n",
      "dense_1 (Dense)              (None, 256)               33024     \n",
      "_________________________________________________________________\n",
      "dense_2 (Dense)              (None, 256)               65792     \n",
      "_________________________________________________________________\n",
      "dense_3 (Dense)              (None, 256)               65792     \n",
      "_________________________________________________________________\n",
      "dense_4 (Dense)              (None, 1)                 257       \n",
      "=================================================================\n",
      "Total params: 165,505\n",
      "Trainable params: 165,505\n",
      "Non-trainable params: 0\n",
      "_________________________________________________________________\n"
     ]
    }
   ],
   "source": [
    "NN_model = Sequential()\n",
    "\n",
    "# Se define una capa de entrada :\n",
    "NN_model.add(Dense(128, kernel_initializer='normal',input_dim = x_train.shape[1], activation='relu'))\n",
    "\n",
    "# Tres capas ocultas:\n",
    "NN_model.add(Dense(256, kernel_initializer='normal',activation='relu'))\n",
    "NN_model.add(Dense(256, kernel_initializer='normal',activation='relu'))\n",
    "NN_model.add(Dense(256, kernel_initializer='normal',activation='relu'))\n",
    "\n",
    "# Capa de salida :\n",
    "NN_model.add(Dense(1, kernel_initializer='normal',activation='linear'))\n",
    "\n",
    "# Compilar el modelo :\n",
    "NN_model.compile(loss='mean_squared_error', optimizer='adam', metrics=['mean_squared_error'])\n",
    "NN_model.summary()"
   ]
  },
  {
   "cell_type": "code",
   "execution_count": 39,
   "metadata": {},
   "outputs": [
    {
     "name": "stdout",
     "output_type": "stream",
     "text": [
      "Epoch 1/100\n",
      "297/297 [==============================] - 1s 3ms/step - loss: 81.2285 - mean_squared_error: 81.2285 - val_loss: 13.3702 - val_mean_squared_error: 13.3702\n",
      "Epoch 2/100\n",
      "297/297 [==============================] - 1s 2ms/step - loss: 25.9874 - mean_squared_error: 25.9874 - val_loss: 13.2002 - val_mean_squared_error: 13.2002\n",
      "Epoch 3/100\n",
      "297/297 [==============================] - 0s 2ms/step - loss: 25.1951 - mean_squared_error: 25.1951 - val_loss: 26.8980 - val_mean_squared_error: 26.8980\n",
      "Epoch 4/100\n",
      "297/297 [==============================] - 0s 2ms/step - loss: 26.4470 - mean_squared_error: 26.4470 - val_loss: 18.5809 - val_mean_squared_error: 18.5809\n",
      "Epoch 5/100\n",
      "297/297 [==============================] - 0s 2ms/step - loss: 25.0297 - mean_squared_error: 25.0297 - val_loss: 13.1741 - val_mean_squared_error: 13.1741\n",
      "Epoch 6/100\n",
      "297/297 [==============================] - 0s 2ms/step - loss: 23.4428 - mean_squared_error: 23.4428 - val_loss: 14.3747 - val_mean_squared_error: 14.3747\n",
      "Epoch 7/100\n",
      "297/297 [==============================] - 0s 2ms/step - loss: 24.0772 - mean_squared_error: 24.0772 - val_loss: 16.2476 - val_mean_squared_error: 16.2476\n",
      "Epoch 8/100\n",
      "297/297 [==============================] - 0s 2ms/step - loss: 27.9916 - mean_squared_error: 27.9916 - val_loss: 13.6284 - val_mean_squared_error: 13.6284\n",
      "Epoch 9/100\n",
      "297/297 [==============================] - 0s 2ms/step - loss: 25.2482 - mean_squared_error: 25.2482 - val_loss: 12.4614 - val_mean_squared_error: 12.4614\n",
      "Epoch 10/100\n",
      "297/297 [==============================] - 0s 2ms/step - loss: 23.1567 - mean_squared_error: 23.1567 - val_loss: 14.4621 - val_mean_squared_error: 14.4621\n",
      "Epoch 11/100\n",
      "297/297 [==============================] - 0s 2ms/step - loss: 25.3845 - mean_squared_error: 25.3845 - val_loss: 14.4640 - val_mean_squared_error: 14.4640\n",
      "Epoch 12/100\n",
      "297/297 [==============================] - 0s 2ms/step - loss: 25.7069 - mean_squared_error: 25.7069 - val_loss: 16.7037 - val_mean_squared_error: 16.7037\n",
      "Epoch 13/100\n",
      "297/297 [==============================] - 0s 2ms/step - loss: 26.0155 - mean_squared_error: 26.0155 - val_loss: 16.1016 - val_mean_squared_error: 16.1016\n",
      "Epoch 14/100\n",
      "297/297 [==============================] - 0s 2ms/step - loss: 21.7873 - mean_squared_error: 21.7873 - val_loss: 13.0022 - val_mean_squared_error: 13.0022\n",
      "Epoch 15/100\n",
      "297/297 [==============================] - 0s 2ms/step - loss: 22.2557 - mean_squared_error: 22.2557 - val_loss: 12.9519 - val_mean_squared_error: 12.9519\n",
      "Epoch 16/100\n",
      "297/297 [==============================] - 1s 2ms/step - loss: 22.3983 - mean_squared_error: 22.3983 - val_loss: 16.3102 - val_mean_squared_error: 16.3102\n",
      "Epoch 17/100\n",
      "297/297 [==============================] - 0s 2ms/step - loss: 26.5991 - mean_squared_error: 26.5991 - val_loss: 12.8254 - val_mean_squared_error: 12.8254\n",
      "Epoch 18/100\n",
      "297/297 [==============================] - 0s 2ms/step - loss: 25.3643 - mean_squared_error: 25.3643 - val_loss: 13.7577 - val_mean_squared_error: 13.7577\n",
      "Epoch 19/100\n",
      "297/297 [==============================] - 0s 2ms/step - loss: 21.1513 - mean_squared_error: 21.1513 - val_loss: 13.7254 - val_mean_squared_error: 13.7254\n",
      "Epoch 20/100\n",
      "297/297 [==============================] - 0s 2ms/step - loss: 22.9781 - mean_squared_error: 22.9781 - val_loss: 18.3930 - val_mean_squared_error: 18.3930\n",
      "Epoch 21/100\n",
      "297/297 [==============================] - 0s 2ms/step - loss: 25.0395 - mean_squared_error: 25.0395 - val_loss: 13.0556 - val_mean_squared_error: 13.0556\n",
      "Epoch 22/100\n",
      "297/297 [==============================] - 0s 2ms/step - loss: 24.0337 - mean_squared_error: 24.0337 - val_loss: 17.6946 - val_mean_squared_error: 17.6946\n",
      "Epoch 23/100\n",
      "297/297 [==============================] - 0s 2ms/step - loss: 25.6227 - mean_squared_error: 25.6227 - val_loss: 13.6916 - val_mean_squared_error: 13.6916\n",
      "Epoch 24/100\n",
      "297/297 [==============================] - 0s 2ms/step - loss: 20.7748 - mean_squared_error: 20.7748 - val_loss: 12.5753 - val_mean_squared_error: 12.5753\n",
      "Epoch 25/100\n",
      "297/297 [==============================] - 0s 2ms/step - loss: 21.2413 - mean_squared_error: 21.2413 - val_loss: 12.6665 - val_mean_squared_error: 12.6665\n",
      "Epoch 26/100\n",
      "297/297 [==============================] - 0s 2ms/step - loss: 20.1119 - mean_squared_error: 20.1119 - val_loss: 13.3723 - val_mean_squared_error: 13.3723\n",
      "Epoch 27/100\n",
      "297/297 [==============================] - 0s 2ms/step - loss: 23.4817 - mean_squared_error: 23.4817 - val_loss: 12.4656 - val_mean_squared_error: 12.4656\n",
      "Epoch 28/100\n",
      "297/297 [==============================] - 0s 2ms/step - loss: 23.9075 - mean_squared_error: 23.9075 - val_loss: 13.7493 - val_mean_squared_error: 13.7493\n",
      "Epoch 29/100\n",
      "297/297 [==============================] - 0s 2ms/step - loss: 25.2179 - mean_squared_error: 25.2179 - val_loss: 12.7082 - val_mean_squared_error: 12.7082\n",
      "Restoring model weights from the end of the best epoch.\n",
      "Epoch 00029: early stopping\n"
     ]
    },
    {
     "data": {
      "text/plain": [
       "<tensorflow.python.keras.callbacks.History at 0x17b2686bb88>"
      ]
     },
     "execution_count": 39,
     "metadata": {},
     "output_type": "execute_result"
    }
   ],
   "source": [
    "ea_st = EarlyStopping(monitor='val_loss', mode='min', verbose=1, patience=20,restore_best_weights = True)\n",
    "NN_model.fit(x_train, y_train, epochs=100, batch_size=32, validation_split = 0.2,callbacks=[ea_st])"
   ]
  },
  {
   "cell_type": "code",
   "execution_count": 40,
   "metadata": {},
   "outputs": [],
   "source": [
    "y_pred_nn = NN_model.predict(x=x_test)\n",
    "r2_score_nn = sklearn.metrics.r2_score(y_test,y_pred_nn)\n",
    "MAE_score_nn = sklearn.metrics.mean_absolute_error(y_test, y_pred_nn)\n",
    "RMSE_score_nn = sklearn.metrics.mean_squared_error(y_test, y_pred_nn, squared=False)\n",
    "metrics_nn = np.array([MAE_score_nn, RMSE_score_nn, r2_score_nn])"
   ]
  },
  {
   "cell_type": "code",
   "execution_count": 41,
   "metadata": {},
   "outputs": [
    {
     "data": {
      "text/plain": [
       "array([2.45198817, 4.32466868, 0.89606088])"
      ]
     },
     "execution_count": 41,
     "metadata": {},
     "output_type": "execute_result"
    }
   ],
   "source": [
    "metrics_nn"
   ]
  },
  {
   "cell_type": "markdown",
   "metadata": {},
   "source": [
    "##### Random forest regressor"
   ]
  },
  {
   "cell_type": "code",
   "execution_count": 42,
   "metadata": {},
   "outputs": [
    {
     "name": "stdout",
     "output_type": "stream",
     "text": [
      "{'bootstrap': [True, False],\n",
      " 'max_depth': array([ 1,  2,  3,  4,  5,  6,  7,  8,  9, 10, 11, 12, 13, 14]),\n",
      " 'max_features': ['auto', 'sqrt'],\n",
      " 'min_samples_leaf': [1, 2, 3],\n",
      " 'min_samples_split': [2, 3, 4, 5, 6],\n",
      " 'n_estimators': [900, 922, 944, 966, 988, 1011, 1033, 1055, 1077, 1100]}\n"
     ]
    }
   ],
   "source": [
    "from sklearn.model_selection import RandomizedSearchCV\n",
    "from pprint import pprint\n",
    "\n",
    "n_estimators = [int(x) for x in np.linspace(start = 900, stop = 1100, num = 10)]\n",
    "\n",
    "max_features = ['auto', 'sqrt']\n",
    "\n",
    "max_depth = np.arange(1,15)\n",
    "\n",
    "min_samples_split = [2, 3,4,5,6]\n",
    "\n",
    "min_samples_leaf = [1,2,3]\n",
    "\n",
    "bootstrap = [True, False]\n",
    "\n",
    "random_grid = {'n_estimators': n_estimators,\n",
    "               'max_features': max_features,\n",
    "               'max_depth': max_depth,\n",
    "               'min_samples_split': min_samples_split,\n",
    "               'min_samples_leaf': min_samples_leaf,\n",
    "               'bootstrap': bootstrap}\n",
    "pprint(random_grid)"
   ]
  },
  {
   "cell_type": "code",
   "execution_count": 43,
   "metadata": {},
   "outputs": [
    {
     "name": "stdout",
     "output_type": "stream",
     "text": [
      "Fitting 3 folds for each of 100 candidates, totalling 300 fits\n"
     ]
    },
    {
     "data": {
      "text/plain": [
       "RandomizedSearchCV(cv=3, estimator=RandomForestRegressor(), n_iter=100,\n",
       "                   n_jobs=-1,\n",
       "                   param_distributions={'bootstrap': [True, False],\n",
       "                                        'max_depth': array([ 1,  2,  3,  4,  5,  6,  7,  8,  9, 10, 11, 12, 13, 14]),\n",
       "                                        'max_features': ['auto', 'sqrt'],\n",
       "                                        'min_samples_leaf': [1, 2, 3],\n",
       "                                        'min_samples_split': [2, 3, 4, 5, 6],\n",
       "                                        'n_estimators': [900, 922, 944, 966,\n",
       "                                                         988, 1011, 1033, 1055,\n",
       "                                                         1077, 1100]},\n",
       "                   random_state=42, verbose=2)"
      ]
     },
     "execution_count": 43,
     "metadata": {},
     "output_type": "execute_result"
    }
   ],
   "source": [
    "\n",
    "rf = RandomForestRegressor()\n",
    "\n",
    "rf_random = RandomizedSearchCV(estimator = rf, param_distributions = random_grid, n_iter = 100, cv = 3, verbose=2, random_state=42, n_jobs = -1)\n",
    "\n",
    "rf_random.fit(x_train, y_train)"
   ]
  },
  {
   "cell_type": "code",
   "execution_count": 44,
   "metadata": {},
   "outputs": [
    {
     "data": {
      "text/plain": [
       "{'n_estimators': 944,\n",
       " 'min_samples_split': 5,\n",
       " 'min_samples_leaf': 2,\n",
       " 'max_features': 'sqrt',\n",
       " 'max_depth': 10,\n",
       " 'bootstrap': True}"
      ]
     },
     "execution_count": 44,
     "metadata": {},
     "output_type": "execute_result"
    }
   ],
   "source": [
    "rf_random.best_params_"
   ]
  },
  {
   "cell_type": "code",
   "execution_count": 46,
   "metadata": {},
   "outputs": [
    {
     "data": {
      "text/plain": [
       "RandomForestRegressor(max_depth=10, max_features='sqrt', min_samples_leaf=2,\n",
       "                      min_samples_split=5, n_estimators=944, random_state=7)"
      ]
     },
     "execution_count": 46,
     "metadata": {},
     "output_type": "execute_result"
    }
   ],
   "source": [
    "regressor = RandomForestRegressor(n_estimators = 944,bootstrap = True,min_samples_split = 5\n",
    "                                  ,min_samples_leaf = 2,max_features = 'sqrt',max_depth = 10 ,random_state = 7)\n",
    "regressor.fit(x_train, y_train)"
   ]
  },
  {
   "cell_type": "code",
   "execution_count": 47,
   "metadata": {},
   "outputs": [],
   "source": [
    "y_pred_rr = regressor.predict(x_test)\n",
    "r2_score_rr = sklearn.metrics.r2_score(y_test,y_pred_rr)\n",
    "MAE_score_rr = sklearn.metrics.mean_absolute_error(y_test, y_pred_rr)\n",
    "RMSE_score_rr = sklearn.metrics.mean_squared_error(y_test, y_pred_rr, squared=False)\n",
    "metrics_rr = np.array([MAE_score_rr, RMSE_score_rr, r2_score_rr])"
   ]
  },
  {
   "cell_type": "code",
   "execution_count": 48,
   "metadata": {},
   "outputs": [],
   "source": [
    "metrics_list = [metrics_lm, metrics_nn,metrics_rr]\n",
    "df_metrics = pd.DataFrame(metrics_list, index=[\"linear regression\", \"fully connected Neural network\",\"Random Forest\"],\n",
    "                  columns=[\"MAE\",\"RMSE\",\"r2\"])"
   ]
  },
  {
   "cell_type": "code",
   "execution_count": 49,
   "metadata": {},
   "outputs": [
    {
     "data": {
      "text/html": [
       "<div>\n",
       "<style scoped>\n",
       "    .dataframe tbody tr th:only-of-type {\n",
       "        vertical-align: middle;\n",
       "    }\n",
       "\n",
       "    .dataframe tbody tr th {\n",
       "        vertical-align: top;\n",
       "    }\n",
       "\n",
       "    .dataframe thead th {\n",
       "        text-align: right;\n",
       "    }\n",
       "</style>\n",
       "<table border=\"1\" class=\"dataframe\">\n",
       "  <thead>\n",
       "    <tr style=\"text-align: right;\">\n",
       "      <th></th>\n",
       "      <th>MAE</th>\n",
       "      <th>RMSE</th>\n",
       "      <th>r2</th>\n",
       "    </tr>\n",
       "  </thead>\n",
       "  <tbody>\n",
       "    <tr>\n",
       "      <td>linear regression</td>\n",
       "      <td>2.502623</td>\n",
       "      <td>4.370681</td>\n",
       "      <td>0.893837</td>\n",
       "    </tr>\n",
       "    <tr>\n",
       "      <td>fully connected Neural network</td>\n",
       "      <td>2.451988</td>\n",
       "      <td>4.324669</td>\n",
       "      <td>0.896061</td>\n",
       "    </tr>\n",
       "    <tr>\n",
       "      <td>Random Forest</td>\n",
       "      <td>2.332579</td>\n",
       "      <td>4.098110</td>\n",
       "      <td>0.906666</td>\n",
       "    </tr>\n",
       "  </tbody>\n",
       "</table>\n",
       "</div>"
      ],
      "text/plain": [
       "                                     MAE      RMSE        r2\n",
       "linear regression               2.502623  4.370681  0.893837\n",
       "fully connected Neural network  2.451988  4.324669  0.896061\n",
       "Random Forest                   2.332579  4.098110  0.906666"
      ]
     },
     "execution_count": 49,
     "metadata": {},
     "output_type": "execute_result"
    }
   ],
   "source": [
    "df_metrics"
   ]
  },
  {
   "cell_type": "markdown",
   "metadata": {},
   "source": [
    "El modelo que proporciona una mayor precisión es el Random Forest."
   ]
  },
  {
   "cell_type": "code",
   "execution_count": 50,
   "metadata": {},
   "outputs": [
    {
     "data": {
      "text/html": [
       "<div>\n",
       "<style scoped>\n",
       "    .dataframe tbody tr th:only-of-type {\n",
       "        vertical-align: middle;\n",
       "    }\n",
       "\n",
       "    .dataframe tbody tr th {\n",
       "        vertical-align: top;\n",
       "    }\n",
       "\n",
       "    .dataframe thead th {\n",
       "        text-align: right;\n",
       "    }\n",
       "</style>\n",
       "<table border=\"1\" class=\"dataframe\">\n",
       "  <thead>\n",
       "    <tr style=\"text-align: right;\">\n",
       "      <th></th>\n",
       "      <th>index</th>\n",
       "      <th>TEL_AVG_VELOCITY</th>\n",
       "      <th>AC_ON_DURATION</th>\n",
       "      <th>HEADLAMP_ON_DURATION</th>\n",
       "      <th>TOTAL_TRIP_DISTANCE</th>\n",
       "      <th>PREDICTED_ENERGY_CONSUMPTION</th>\n",
       "      <th>ACTUAL_ENERGY_CONSUMPTION</th>\n",
       "    </tr>\n",
       "  </thead>\n",
       "  <tbody>\n",
       "    <tr>\n",
       "      <td>0</td>\n",
       "      <td>18225</td>\n",
       "      <td>30.00</td>\n",
       "      <td>0.00</td>\n",
       "      <td>0.0</td>\n",
       "      <td>3.0</td>\n",
       "      <td>3.747771</td>\n",
       "      <td>2.0</td>\n",
       "    </tr>\n",
       "    <tr>\n",
       "      <td>1</td>\n",
       "      <td>18226</td>\n",
       "      <td>28.57</td>\n",
       "      <td>0.00</td>\n",
       "      <td>0.0</td>\n",
       "      <td>10.0</td>\n",
       "      <td>10.296481</td>\n",
       "      <td>8.0</td>\n",
       "    </tr>\n",
       "    <tr>\n",
       "      <td>2</td>\n",
       "      <td>18228</td>\n",
       "      <td>27.91</td>\n",
       "      <td>32.77</td>\n",
       "      <td>0.0</td>\n",
       "      <td>20.0</td>\n",
       "      <td>24.143940</td>\n",
       "      <td>24.0</td>\n",
       "    </tr>\n",
       "    <tr>\n",
       "      <td>3</td>\n",
       "      <td>18229</td>\n",
       "      <td>18.00</td>\n",
       "      <td>10.28</td>\n",
       "      <td>0.0</td>\n",
       "      <td>3.0</td>\n",
       "      <td>4.098529</td>\n",
       "      <td>5.0</td>\n",
       "    </tr>\n",
       "    <tr>\n",
       "      <td>4</td>\n",
       "      <td>18230</td>\n",
       "      <td>22.50</td>\n",
       "      <td>16.10</td>\n",
       "      <td>0.0</td>\n",
       "      <td>6.0</td>\n",
       "      <td>7.263055</td>\n",
       "      <td>9.0</td>\n",
       "    </tr>\n",
       "    <tr>\n",
       "      <td>...</td>\n",
       "      <td>...</td>\n",
       "      <td>...</td>\n",
       "      <td>...</td>\n",
       "      <td>...</td>\n",
       "      <td>...</td>\n",
       "      <td>...</td>\n",
       "      <td>...</td>\n",
       "    </tr>\n",
       "    <tr>\n",
       "      <td>5076</td>\n",
       "      <td>26140</td>\n",
       "      <td>24.62</td>\n",
       "      <td>38.73</td>\n",
       "      <td>0.0</td>\n",
       "      <td>16.0</td>\n",
       "      <td>16.665875</td>\n",
       "      <td>15.0</td>\n",
       "    </tr>\n",
       "    <tr>\n",
       "      <td>5077</td>\n",
       "      <td>26141</td>\n",
       "      <td>28.70</td>\n",
       "      <td>20.78</td>\n",
       "      <td>0.0</td>\n",
       "      <td>22.0</td>\n",
       "      <td>24.669506</td>\n",
       "      <td>22.0</td>\n",
       "    </tr>\n",
       "    <tr>\n",
       "      <td>5078</td>\n",
       "      <td>26142</td>\n",
       "      <td>16.36</td>\n",
       "      <td>19.30</td>\n",
       "      <td>0.0</td>\n",
       "      <td>12.0</td>\n",
       "      <td>14.670406</td>\n",
       "      <td>10.0</td>\n",
       "    </tr>\n",
       "    <tr>\n",
       "      <td>5079</td>\n",
       "      <td>26143</td>\n",
       "      <td>36.00</td>\n",
       "      <td>0.00</td>\n",
       "      <td>0.0</td>\n",
       "      <td>3.0</td>\n",
       "      <td>3.886667</td>\n",
       "      <td>3.0</td>\n",
       "    </tr>\n",
       "    <tr>\n",
       "      <td>5080</td>\n",
       "      <td>26148</td>\n",
       "      <td>26.15</td>\n",
       "      <td>38.80</td>\n",
       "      <td>0.0</td>\n",
       "      <td>17.0</td>\n",
       "      <td>17.789842</td>\n",
       "      <td>17.0</td>\n",
       "    </tr>\n",
       "  </tbody>\n",
       "</table>\n",
       "<p>5081 rows × 7 columns</p>\n",
       "</div>"
      ],
      "text/plain": [
       "      index  TEL_AVG_VELOCITY  AC_ON_DURATION  HEADLAMP_ON_DURATION  \\\n",
       "0     18225             30.00            0.00                   0.0   \n",
       "1     18226             28.57            0.00                   0.0   \n",
       "2     18228             27.91           32.77                   0.0   \n",
       "3     18229             18.00           10.28                   0.0   \n",
       "4     18230             22.50           16.10                   0.0   \n",
       "...     ...               ...             ...                   ...   \n",
       "5076  26140             24.62           38.73                   0.0   \n",
       "5077  26141             28.70           20.78                   0.0   \n",
       "5078  26142             16.36           19.30                   0.0   \n",
       "5079  26143             36.00            0.00                   0.0   \n",
       "5080  26148             26.15           38.80                   0.0   \n",
       "\n",
       "      TOTAL_TRIP_DISTANCE  PREDICTED_ENERGY_CONSUMPTION  \\\n",
       "0                     3.0                      3.747771   \n",
       "1                    10.0                     10.296481   \n",
       "2                    20.0                     24.143940   \n",
       "3                     3.0                      4.098529   \n",
       "4                     6.0                      7.263055   \n",
       "...                   ...                           ...   \n",
       "5076                 16.0                     16.665875   \n",
       "5077                 22.0                     24.669506   \n",
       "5078                 12.0                     14.670406   \n",
       "5079                  3.0                      3.886667   \n",
       "5080                 17.0                     17.789842   \n",
       "\n",
       "      ACTUAL_ENERGY_CONSUMPTION  \n",
       "0                           2.0  \n",
       "1                           8.0  \n",
       "2                          24.0  \n",
       "3                           5.0  \n",
       "4                           9.0  \n",
       "...                         ...  \n",
       "5076                       15.0  \n",
       "5077                       22.0  \n",
       "5078                       10.0  \n",
       "5079                        3.0  \n",
       "5080                       17.0  \n",
       "\n",
       "[5081 rows x 7 columns]"
      ]
     },
     "execution_count": 50,
     "metadata": {},
     "output_type": "execute_result"
    }
   ],
   "source": [
    "df_final_test = x_test\n",
    "df_final_test = df_final_test.reset_index()\n",
    "#df_final_test = df_final_test.iloc[:, [1,2,3,4,5,6]]\n",
    "df_final_test['PREDICTED_ENERGY_CONSUMPTION'] = y_pred_rr\n",
    "\n",
    "actual_value = y_test.reset_index()\n",
    "actual_value = actual_value.iloc[:, [1]]\n",
    "\n",
    "\n",
    "df_final_test['ACTUAL_ENERGY_CONSUMPTION'] = actual_value\n",
    "df_final_test"
   ]
  },
  {
   "cell_type": "code",
   "execution_count": 51,
   "metadata": {},
   "outputs": [
    {
     "data": {
      "image/png": "[encoded data removed]",
      "text/plain": [
       "<Figure size 720x504 with 1 Axes>"
      ]
     },
     "metadata": {
      "needs_background": "light"
     },
     "output_type": "display_data"
    }
   ],
   "source": [
    "plt.figure(figsize=(10,7))\n",
    "plt.scatter(y_test, y_pred_rr, c='darkblue')\n",
    "plt.title(\"Modelo de predicción de valores - Random Forest (R2 = 0.907)\",\n",
    "          fontsize = 17)\n",
    "rango_1 = max(max(y_pred_rr), max(y_test))\n",
    "rango_2 = min(min(y_pred_rr), min(y_test))\n",
    "plt.plot([rango_1, rango_2], [rango_1, rango_2], 'r-')\n",
    "plt.xlabel('y_test', fontsize=15)\n",
    "plt.ylabel('y_pred', fontsize=15)\n",
    "plt.show()"
   ]
  },
  {
   "cell_type": "code",
   "execution_count": 52,
   "metadata": {},
   "outputs": [
    {
     "data": {
      "image/png": "[encoded data removed]",
      "text/plain": [
       "<Figure size 720x504 with 1 Axes>"
      ]
     },
     "metadata": {
      "needs_background": "light"
     },
     "output_type": "display_data"
    }
   ],
   "source": [
    "y_train_pred = regressor.predict(x_train)\n",
    "plt.figure(figsize=(10,7))\n",
    "plt.scatter(y_train, y_train_pred, c='darkblue')\n",
    "plt.title(\"Modelo de predicción de valores - Random Forest (R2 = 0.907)\",\n",
    "          fontsize = 17)\n",
    "rango_1 = max(max(y_train_pred), max(y_test))\n",
    "rango_2 = min(min(y_train_pred), min(y_test))\n",
    "plt.plot([rango_1, rango_2], [rango_1, rango_2], 'r-')\n",
    "plt.xlabel('y_train', fontsize=15)\n",
    "plt.ylabel('y_pred', fontsize=15)\n",
    "plt.show()"
   ]
  },
  {
   "cell_type": "code",
   "execution_count": 53,
   "metadata": {},
   "outputs": [],
   "source": [
    "df_final_test.to_csv('df_final_test.csv',index=False)"
   ]
  },
  {
   "cell_type": "markdown",
   "metadata": {},
   "source": [
    "Finalmente, se procede a almacenar el mejor modelo ajustado, en este caso un modelo basado en Random Forest."
   ]
  },
  {
   "cell_type": "code",
   "execution_count": 54,
   "metadata": {},
   "outputs": [],
   "source": [
    "import os\n",
    "import joblib"
   ]
  },
  {
   "cell_type": "code",
   "execution_count": 55,
   "metadata": {},
   "outputs": [
    {
     "data": {
      "text/plain": [
       "['./random_forest_EV.joblib']"
      ]
     },
     "execution_count": 55,
     "metadata": {},
     "output_type": "execute_result"
    }
   ],
   "source": [
    "joblib.dump(regressor, \"./random_forest_EV.joblib\")"
   ]
  },
  {
   "cell_type": "code",
   "execution_count": null,
   "metadata": {},
   "outputs": [],
   "source": []
  }
 ],
 "metadata": {
  "kernelspec": {
   "display_name": "Python 3",
   "language": "python",
   "name": "python3"
  },
  "language_info": {
   "codemirror_mode": {
    "name": "ipython",
    "version": 3
   },
   "file_extension": ".py",
   "mimetype": "text/x-python",
   "name": "python",
   "nbconvert_exporter": "python",
   "pygments_lexer": "ipython3",
   "version": "3.7.4"
  }
 },
 "nbformat": 4,
 "nbformat_minor": 2
}
