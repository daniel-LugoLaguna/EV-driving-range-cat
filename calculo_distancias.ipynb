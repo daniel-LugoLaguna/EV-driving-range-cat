{
 "cells": [
  {
   "cell_type": "markdown",
   "metadata": {},
   "source": [
    "# Conexión con API de Google Maps - Cálculo de distancias entre estaciones de carga de vehículo eléctrico en Cataluña"
   ]
  },
  {
   "cell_type": "markdown",
   "metadata": {},
   "source": [
    "El objetivo de este notebook es calcular la distancia en coche, a través de la red de carreteras existente, entre los puntos de recarga de vehículo eléctrico presentes en Cataluña. La localización exacta de cada punto de recarga en Cataluña, está disponible como información abierta en el siguiente enlace: https://datos.gob.es/es/catalogo/a09002970-estaciones-de-recarga-para-vehiculos-electricos-en-cataluna\n",
    "\n",
    "A la hora de calcular la distancia entre puntos, es importante tener en cuenta que se quiere medir la autonomía del coche eléctrico y su consum. No sería realista para esta casuística calcular simplemente la distancia en línea entre dos puntos del globo terráqueo (lo cual se puede calcular matemáticamente mediante la fórmula del semiverseno: https://es.wikipedia.org/wiki/F%C3%B3rmula_del_semiverseno) \n",
    "\n",
    "Para poder calcular adecuadamente la distancia real entre pares de puntos y sus coordenadas (LATITUD,LONGITUD) se hará uso de la API disponible de Google Maps."
   ]
  },
  {
   "cell_type": "markdown",
   "metadata": {},
   "source": [
    "Se importan las librerías necesarias, y se carga el fichero .csv con la información de cada uno de los puntos de carga. Se define también la clave API personal para poder conectar apropiadamente con los servicios de Google."
   ]
  },
  {
   "cell_type": "code",
   "execution_count": 134,
   "metadata": {},
   "outputs": [],
   "source": [
    "import requests\n",
    "import json\n",
    "import googlemaps\n",
    "from datetime import datetime\n",
    "from itertools import combinations\n",
    "import pandas as pd\n",
    "import time\n",
    "api_key = \"YOUR_API_KEY\""
   ]
  },
  {
   "cell_type": "markdown",
   "metadata": {},
   "source": [
    "df_pc_cat = pd.read_csv(r'C:\\Users\\Usuario\\Desktop\\Master UOC\\Master ciencia de datos\\TFM\\Estacions_de_rec_rrega_per_a_vehicle_el_ctric_a_Catalunya.csv',\n",
    "                        delimiter=\";\")"
   ]
  },
  {
   "cell_type": "markdown",
   "metadata": {},
   "source": [
    "Se muestra la estructura del fichero de puntos de recarga, así como las dimensiones del mismo."
   ]
  },
  {
   "cell_type": "code",
   "execution_count": 96,
   "metadata": {},
   "outputs": [
    {
     "data": {
      "text/html": [
       "<div>\n",
       "<style scoped>\n",
       "    .dataframe tbody tr th:only-of-type {\n",
       "        vertical-align: middle;\n",
       "    }\n",
       "\n",
       "    .dataframe tbody tr th {\n",
       "        vertical-align: top;\n",
       "    }\n",
       "\n",
       "    .dataframe thead th {\n",
       "        text-align: right;\n",
       "    }\n",
       "</style>\n",
       "<table border=\"1\" class=\"dataframe\">\n",
       "  <thead>\n",
       "    <tr style=\"text-align: right;\">\n",
       "      <th></th>\n",
       "      <th>PROMOTOR-GESTOR</th>\n",
       "      <th>ACCES</th>\n",
       "      <th>TIPUS VELOCITAT</th>\n",
       "      <th>TIPUS CONNEXIÓ</th>\n",
       "      <th>LATITUD</th>\n",
       "      <th>LONGITUD</th>\n",
       "      <th>DESIGNACIÓ-DESCRIPTIVA</th>\n",
       "      <th>POTENCIA</th>\n",
       "      <th>TIPUS DE CORRENT</th>\n",
       "      <th>INDENTIFICADOR</th>\n",
       "      <th>ADREÇA</th>\n",
       "      <th>PROVINCIA</th>\n",
       "      <th>CODIPROV</th>\n",
       "      <th>MUNICIPI</th>\n",
       "      <th>NPLACES ESTACIÓ</th>\n",
       "      <th>TIPUS VEHICLE</th>\n",
       "      <th>Columna amb georeferència</th>\n",
       "    </tr>\n",
       "  </thead>\n",
       "  <tbody>\n",
       "    <tr>\n",
       "      <td>0</td>\n",
       "      <td>CC ALDI</td>\n",
       "      <td>APARCAMENT CC</td>\n",
       "      <td>NORMAL</td>\n",
       "      <td>MENNEKES.F</td>\n",
       "      <td>41.321165</td>\n",
       "      <td>2.027702</td>\n",
       "      <td>CC ALDI</td>\n",
       "      <td>NaN</td>\n",
       "      <td>NaN</td>\n",
       "      <td>NaN</td>\n",
       "      <td>Carretera Barcelona, 84</td>\n",
       "      <td>Barcelona</td>\n",
       "      <td>8</td>\n",
       "      <td>Viladecans</td>\n",
       "      <td>4</td>\n",
       "      <td>cotxe</td>\n",
       "      <td>POINT (2.027702 41.321165)</td>\n",
       "    </tr>\n",
       "    <tr>\n",
       "      <td>1</td>\n",
       "      <td>NaN</td>\n",
       "      <td>NaN</td>\n",
       "      <td>semiRAPID</td>\n",
       "      <td>NaN</td>\n",
       "      <td>40.807620</td>\n",
       "      <td>0.520070</td>\n",
       "      <td>EdRsR Tortosa (AC22kW) PIRVEC-24</td>\n",
       "      <td>22.0</td>\n",
       "      <td>AC</td>\n",
       "      <td>PIRVEC-24</td>\n",
       "      <td>Carrer d'Alcanyís, 9</td>\n",
       "      <td>Tarragona</td>\n",
       "      <td>43</td>\n",
       "      <td>Tortosa</td>\n",
       "      <td>NaN</td>\n",
       "      <td>NaN</td>\n",
       "      <td>POINT (0.52007 40.80762)</td>\n",
       "    </tr>\n",
       "    <tr>\n",
       "      <td>2</td>\n",
       "      <td>HOTEL NH CONSTANZA</td>\n",
       "      <td>HOTEL</td>\n",
       "      <td>NORMAL</td>\n",
       "      <td>Schuko</td>\n",
       "      <td>41.384550</td>\n",
       "      <td>2.137671</td>\n",
       "      <td>HOTEL NH NUMANCIA</td>\n",
       "      <td>NaN</td>\n",
       "      <td>NaN</td>\n",
       "      <td>NaN</td>\n",
       "      <td>Carrer de Numància, 74</td>\n",
       "      <td>Barcelona</td>\n",
       "      <td>8</td>\n",
       "      <td>Barcelona</td>\n",
       "      <td>1</td>\n",
       "      <td>NaN</td>\n",
       "      <td>POINT (2.1376712999999654 41.38455)</td>\n",
       "    </tr>\n",
       "    <tr>\n",
       "      <td>3</td>\n",
       "      <td>B:SM Serveis Municipals</td>\n",
       "      <td>APARCAMENT PUBLIC</td>\n",
       "      <td>NORMAL</td>\n",
       "      <td>MENNEKES.F+Schuko</td>\n",
       "      <td>41.394009</td>\n",
       "      <td>2.115265</td>\n",
       "      <td>B:SM 20 - Marques de Mulhacen</td>\n",
       "      <td>NaN</td>\n",
       "      <td>NaN</td>\n",
       "      <td>BSM015</td>\n",
       "      <td>Carrer de Marquès de Mulhacén, 49-51</td>\n",
       "      <td>Barcelona</td>\n",
       "      <td>8</td>\n",
       "      <td>Barcelona</td>\n",
       "      <td>6+2</td>\n",
       "      <td>cotxe i moto</td>\n",
       "      <td>POINT (2.115265 41.394009)</td>\n",
       "    </tr>\n",
       "    <tr>\n",
       "      <td>4</td>\n",
       "      <td>B:SM Serveis Municipals</td>\n",
       "      <td>APARCAMENT PUBLIC</td>\n",
       "      <td>NORMAL</td>\n",
       "      <td>Schuko</td>\n",
       "      <td>41.404700</td>\n",
       "      <td>2.189600</td>\n",
       "      <td>B:SM 24 - Ona Glòries</td>\n",
       "      <td>NaN</td>\n",
       "      <td>NaN</td>\n",
       "      <td>BSM037</td>\n",
       "      <td>Carrer de la Ciutat de Granada, 173-175</td>\n",
       "      <td>Barcelona</td>\n",
       "      <td>8</td>\n",
       "      <td>Barcelona</td>\n",
       "      <td>4</td>\n",
       "      <td>cotxe</td>\n",
       "      <td>POINT (2.1896 41.4047)</td>\n",
       "    </tr>\n",
       "  </tbody>\n",
       "</table>\n",
       "</div>"
      ],
      "text/plain": [
       "           PROMOTOR-GESTOR              ACCES TIPUS VELOCITAT  \\\n",
       "0                  CC ALDI      APARCAMENT CC          NORMAL   \n",
       "1                      NaN                NaN       semiRAPID   \n",
       "2       HOTEL NH CONSTANZA              HOTEL          NORMAL   \n",
       "3  B:SM Serveis Municipals  APARCAMENT PUBLIC          NORMAL   \n",
       "4  B:SM Serveis Municipals  APARCAMENT PUBLIC          NORMAL   \n",
       "\n",
       "      TIPUS CONNEXIÓ    LATITUD  LONGITUD            DESIGNACIÓ-DESCRIPTIVA  \\\n",
       "0         MENNEKES.F  41.321165  2.027702                           CC ALDI   \n",
       "1                NaN  40.807620  0.520070  EdRsR Tortosa (AC22kW) PIRVEC-24   \n",
       "2             Schuko  41.384550  2.137671                 HOTEL NH NUMANCIA   \n",
       "3  MENNEKES.F+Schuko  41.394009  2.115265     B:SM 20 - Marques de Mulhacen   \n",
       "4             Schuko  41.404700  2.189600             B:SM 24 - Ona Glòries   \n",
       "\n",
       "   POTENCIA TIPUS DE CORRENT INDENTIFICADOR  \\\n",
       "0       NaN              NaN            NaN   \n",
       "1      22.0               AC      PIRVEC-24   \n",
       "2       NaN              NaN            NaN   \n",
       "3       NaN              NaN         BSM015   \n",
       "4       NaN              NaN         BSM037   \n",
       "\n",
       "                                    ADREÇA  PROVINCIA  CODIPROV    MUNICIPI  \\\n",
       "0                  Carretera Barcelona, 84  Barcelona         8  Viladecans   \n",
       "1                     Carrer d'Alcanyís, 9  Tarragona        43     Tortosa   \n",
       "2                   Carrer de Numància, 74  Barcelona         8   Barcelona   \n",
       "3     Carrer de Marquès de Mulhacén, 49-51  Barcelona         8   Barcelona   \n",
       "4  Carrer de la Ciutat de Granada, 173-175  Barcelona         8   Barcelona   \n",
       "\n",
       "  NPLACES ESTACIÓ TIPUS VEHICLE            Columna amb georeferència  \n",
       "0               4         cotxe           POINT (2.027702 41.321165)  \n",
       "1             NaN           NaN             POINT (0.52007 40.80762)  \n",
       "2               1           NaN  POINT (2.1376712999999654 41.38455)  \n",
       "3             6+2  cotxe i moto           POINT (2.115265 41.394009)  \n",
       "4               4         cotxe               POINT (2.1896 41.4047)  "
      ]
     },
     "execution_count": 96,
     "metadata": {},
     "output_type": "execute_result"
    }
   ],
   "source": [
    "df_pc_cat.head()"
   ]
  },
  {
   "cell_type": "code",
   "execution_count": 138,
   "metadata": {},
   "outputs": [
    {
     "name": "stdout",
     "output_type": "stream",
     "text": [
      "El numero de filas del dataset es: 418\n",
      "El numero de columnas del dataset es: 17\n"
     ]
    }
   ],
   "source": [
    "shape = df_pc_cat.shape\n",
    "print('El numero de filas del dataset es: %d' % (shape[0]))\n",
    "print('El numero de columnas del dataset es: %d' % (shape[1]))"
   ]
  },
  {
   "cell_type": "markdown",
   "metadata": {},
   "source": [
    "Como se puede comprobar, cada registro muestra el detalle de cada uno de los puntos de recarga disponibles (localización, designación, tipo vehículo, potencia). Existen 418 puntos en el registro."
   ]
  },
  {
   "cell_type": "markdown",
   "metadata": {},
   "source": [
    "La distancia en coche debe calcularse entre todos los pares (LATITUD,LONGITUD) presentes en el dataset, es decir, entre todas las estaciones de carga presentes en Cataluña a fecha de última actualización del fichero (Mayo de 2021). Se genera por tanto una lista de tuplas con todos los pares de puntos presentes en el dataset."
   ]
  },
  {
   "cell_type": "code",
   "execution_count": 97,
   "metadata": {},
   "outputs": [],
   "source": [
    "lista_coord = []\n",
    "for index, row in df_pc_cat.iterrows():\n",
    "    elem = (row['LATITUD'],row['LONGITUD'])\n",
    "    lista_coord.append(elem)"
   ]
  },
  {
   "cell_type": "markdown",
   "metadata": {},
   "source": [
    "A continuación es necesario obtener una lista con todas las combinaciones de pares de puntos posibles. Es decir, se calcularán todas las posibles combinaciones sin repetición en conjuntos de 2 elementos. La librería itertools dispone de una función específica para esta tarea: la función **combinations**. De esta forma se genera una lista de tuplas con la información anterior."
   ]
  },
  {
   "cell_type": "code",
   "execution_count": 117,
   "metadata": {},
   "outputs": [],
   "source": [
    "lista_combo = []\n",
    "for combo in combinations(lista_coord, 2):\n",
    "    lista_combo.append(combo)"
   ]
  },
  {
   "cell_type": "code",
   "execution_count": 118,
   "metadata": {},
   "outputs": [
    {
     "data": {
      "text/plain": [
       "87153"
      ]
     },
     "execution_count": 118,
     "metadata": {},
     "output_type": "execute_result"
    }
   ],
   "source": [
    "len(lista_combo)"
   ]
  },
  {
   "cell_type": "markdown",
   "metadata": {},
   "source": [
    "Existen 87153 combinaciones de 2 elementos sin repetición. Se muestra a continuación uno de los elementos para comprobar su estructura."
   ]
  },
  {
   "cell_type": "code",
   "execution_count": 137,
   "metadata": {},
   "outputs": [
    {
     "data": {
      "text/plain": [
       "((41.321165, 2.027702), (41.38455, 2.1376713))"
      ]
     },
     "execution_count": 137,
     "metadata": {},
     "output_type": "execute_result"
    }
   ],
   "source": [
    "lista_combo[1]"
   ]
  },
  {
   "cell_type": "markdown",
   "metadata": {},
   "source": [
    "A continuación se realizará la llamada a la API de Google Maps. Se iterará para cada elemento de la tupla, siendo cada elemento un par latitud, longitud de dos puntos geográficos. En cada iteración se obtiene la distancia de conducción con vehículo terrestre y la duración del trayecto, a fecha 09/12/2021 a las 19:00 pm. Se ha seleccionado esta hora para evitar más o menos tráfico del habitual por festivos, horas punta, etc. Se aplica un retardo de 1 segundo por cada 100 iteraciones para evitar bloqueos de la API."
   ]
  },
  {
   "cell_type": "code",
   "execution_count": 129,
   "metadata": {},
   "outputs": [],
   "source": [
    "lista_distancia = []\n",
    "lista_duracion = []\n",
    "i = 0\n",
    "#Se itera para cada tupla de la lista. En cada iteración se llama a la API para cada par de puntos contenidos en la tupla.\n",
    "#Se calculan distancias y duraciones de trayecto en el tiempo de la ejecución del algoritmo.\n",
    "for index, tuple in enumerate(lista_combo):\n",
    "    gmaps = googlemaps.Client(key=api_key)\n",
    "    now = datetime.now()\n",
    "    direcciones = gmaps.directions(tuple[0],\n",
    "                                     tuple[1],\n",
    "                                     mode=\"driving\",\n",
    "                                     departure_time=now\n",
    "                                    )\n",
    "    lista_distancia.append(direcciones[0]['legs'][0]['distance']['text'])\n",
    "    lista_duracion.append(direcciones[0]['legs'][0]['duration']['text'])\n",
    "    #Se añade un pequeño retardo de un segundo cada 100 iteraciones, para evitar saturar la API.\n",
    "    i = i + 1\n",
    "    if i % 100 == 0:\n",
    "        time.sleep(1)"
   ]
  },
  {
   "cell_type": "markdown",
   "metadata": {},
   "source": [
    "Se crea una nueva tupla con la distancia y la duración para cada combinación de puntos  Se unen posteriormente las dos tuplas en un Dataframe, el cual se limpia de columnas innecesarias."
   ]
  },
  {
   "cell_type": "code",
   "execution_count": 130,
   "metadata": {},
   "outputs": [],
   "source": [
    "data_tuples = list(zip(lista_distancia,lista_duracion))"
   ]
  },
  {
   "cell_type": "code",
   "execution_count": 141,
   "metadata": {},
   "outputs": [],
   "source": [
    "df_salida = pd.DataFrame(data_tuples, columns=['distancia','duracion'])\n",
    "destinos = pd.DataFrame(lista_combo, columns=['inicio','final'])\n",
    "df_destinos = df_destinos.iloc[:, [1,2]]\n",
    "df_grafo = pd.concat([df_destinos, df_distancias], axis=1, join=\"inner\")\n",
    "df_grafo = df_grafo.iloc[:, [0,1,3,4]]"
   ]
  },
  {
   "cell_type": "markdown",
   "metadata": {},
   "source": [
    "Se muestra a continuación la estructura del Dataframe construido"
   ]
  },
  {
   "cell_type": "code",
   "execution_count": 142,
   "metadata": {},
   "outputs": [
    {
     "data": {
      "text/html": [
       "<div>\n",
       "<style scoped>\n",
       "    .dataframe tbody tr th:only-of-type {\n",
       "        vertical-align: middle;\n",
       "    }\n",
       "\n",
       "    .dataframe tbody tr th {\n",
       "        vertical-align: top;\n",
       "    }\n",
       "\n",
       "    .dataframe thead th {\n",
       "        text-align: right;\n",
       "    }\n",
       "</style>\n",
       "<table border=\"1\" class=\"dataframe\">\n",
       "  <thead>\n",
       "    <tr style=\"text-align: right;\">\n",
       "      <th></th>\n",
       "      <th>inicio</th>\n",
       "      <th>final</th>\n",
       "      <th>distancia</th>\n",
       "      <th>duracion</th>\n",
       "    </tr>\n",
       "  </thead>\n",
       "  <tbody>\n",
       "    <tr>\n",
       "      <td>0</td>\n",
       "      <td>(41.321165, 2.027702)</td>\n",
       "      <td>(40.80762, 0.52007)</td>\n",
       "      <td>164 km</td>\n",
       "      <td>1 hour 42 mins</td>\n",
       "    </tr>\n",
       "    <tr>\n",
       "      <td>1</td>\n",
       "      <td>(41.321165, 2.027702)</td>\n",
       "      <td>(41.38455, 2.1376713)</td>\n",
       "      <td>15.1 km</td>\n",
       "      <td>19 mins</td>\n",
       "    </tr>\n",
       "    <tr>\n",
       "      <td>2</td>\n",
       "      <td>(41.321165, 2.027702)</td>\n",
       "      <td>(41.394009000000004, 2.115265)</td>\n",
       "      <td>13.8 km</td>\n",
       "      <td>16 mins</td>\n",
       "    </tr>\n",
       "    <tr>\n",
       "      <td>3</td>\n",
       "      <td>(41.321165, 2.027702)</td>\n",
       "      <td>(41.4047, 2.1896)</td>\n",
       "      <td>22.5 km</td>\n",
       "      <td>27 mins</td>\n",
       "    </tr>\n",
       "    <tr>\n",
       "      <td>4</td>\n",
       "      <td>(41.321165, 2.027702)</td>\n",
       "      <td>(41.66519, 1.86011)</td>\n",
       "      <td>52.1 km</td>\n",
       "      <td>42 mins</td>\n",
       "    </tr>\n",
       "    <tr>\n",
       "      <td>...</td>\n",
       "      <td>...</td>\n",
       "      <td>...</td>\n",
       "      <td>...</td>\n",
       "      <td>...</td>\n",
       "    </tr>\n",
       "    <tr>\n",
       "      <td>87148</td>\n",
       "      <td>(41.613690000000005, 2.3454900000000003)</td>\n",
       "      <td>(41.389255, 2.161321)</td>\n",
       "      <td>41.7 km</td>\n",
       "      <td>39 mins</td>\n",
       "    </tr>\n",
       "    <tr>\n",
       "      <td>87149</td>\n",
       "      <td>(41.613690000000005, 2.3454900000000003)</td>\n",
       "      <td>(41.56064, 2.0059)</td>\n",
       "      <td>37.7 km</td>\n",
       "      <td>36 mins</td>\n",
       "    </tr>\n",
       "    <tr>\n",
       "      <td>87150</td>\n",
       "      <td>(41.372299, 2.153134)</td>\n",
       "      <td>(41.389255, 2.161321)</td>\n",
       "      <td>40.8 km</td>\n",
       "      <td>33 mins</td>\n",
       "    </tr>\n",
       "    <tr>\n",
       "      <td>87151</td>\n",
       "      <td>(41.372299, 2.153134)</td>\n",
       "      <td>(41.56064, 2.0059)</td>\n",
       "      <td>3.3 km</td>\n",
       "      <td>13 mins</td>\n",
       "    </tr>\n",
       "    <tr>\n",
       "      <td>87152</td>\n",
       "      <td>(41.389255, 2.161321)</td>\n",
       "      <td>(41.56064, 2.0059)</td>\n",
       "      <td>41.2 km</td>\n",
       "      <td>39 mins</td>\n",
       "    </tr>\n",
       "  </tbody>\n",
       "</table>\n",
       "<p>87153 rows × 4 columns</p>\n",
       "</div>"
      ],
      "text/plain": [
       "                                         inicio  \\\n",
       "0                         (41.321165, 2.027702)   \n",
       "1                         (41.321165, 2.027702)   \n",
       "2                         (41.321165, 2.027702)   \n",
       "3                         (41.321165, 2.027702)   \n",
       "4                         (41.321165, 2.027702)   \n",
       "...                                         ...   \n",
       "87148  (41.613690000000005, 2.3454900000000003)   \n",
       "87149  (41.613690000000005, 2.3454900000000003)   \n",
       "87150                     (41.372299, 2.153134)   \n",
       "87151                     (41.372299, 2.153134)   \n",
       "87152                     (41.389255, 2.161321)   \n",
       "\n",
       "                                final distancia        duracion  \n",
       "0                 (40.80762, 0.52007)    164 km  1 hour 42 mins  \n",
       "1               (41.38455, 2.1376713)   15.1 km         19 mins  \n",
       "2      (41.394009000000004, 2.115265)   13.8 km         16 mins  \n",
       "3                   (41.4047, 2.1896)   22.5 km         27 mins  \n",
       "4                 (41.66519, 1.86011)   52.1 km         42 mins  \n",
       "...                               ...       ...             ...  \n",
       "87148           (41.389255, 2.161321)   41.7 km         39 mins  \n",
       "87149              (41.56064, 2.0059)   37.7 km         36 mins  \n",
       "87150           (41.389255, 2.161321)   40.8 km         33 mins  \n",
       "87151              (41.56064, 2.0059)    3.3 km         13 mins  \n",
       "87152              (41.56064, 2.0059)   41.2 km         39 mins  \n",
       "\n",
       "[87153 rows x 4 columns]"
      ]
     },
     "execution_count": 142,
     "metadata": {},
     "output_type": "execute_result"
    }
   ],
   "source": [
    "df_grafo"
   ]
  },
  {
   "cell_type": "markdown",
   "metadata": {},
   "source": [
    "Por último, se aplicará un proceso similar al anterior para obtener las designaciones de cada uno de los puntos origen y destino, de forma que se puedan identificar a posteriori."
   ]
  },
  {
   "cell_type": "code",
   "execution_count": 143,
   "metadata": {},
   "outputs": [],
   "source": [
    "lista_denom= []\n",
    "for index, row in df_pc_cat.iterrows():\n",
    "    elem = row['DESIGNACIÓ-DESCRIPTIVA']\n",
    "    lista_denom.append(elem)\n",
    "\n",
    "lista_combo_denom = []\n",
    "for combo_denom in combinations(lista_denom, 2):  # 2 for pairs, 3 for triplets, etc\n",
    "    lista_combo_denom.append(combo_denom)"
   ]
  },
  {
   "cell_type": "code",
   "execution_count": 144,
   "metadata": {},
   "outputs": [],
   "source": [
    "df_denom = pd.DataFrame(lista_combo_denom, columns=['denom_ini','denom_fin'])\n",
    "df_grafo_desc = pd.concat([df_grafo,df_denom],axis=1, join=\"inner\")"
   ]
  },
  {
   "cell_type": "markdown",
   "metadata": {},
   "source": [
    "Se muestra el resultado con las nuevas columnas añadidas (denom_ini y denom_fin) y se exporta a un fichero csv para posteriores análisis."
   ]
  },
  {
   "cell_type": "code",
   "execution_count": 145,
   "metadata": {},
   "outputs": [
    {
     "data": {
      "text/html": [
       "<div>\n",
       "<style scoped>\n",
       "    .dataframe tbody tr th:only-of-type {\n",
       "        vertical-align: middle;\n",
       "    }\n",
       "\n",
       "    .dataframe tbody tr th {\n",
       "        vertical-align: top;\n",
       "    }\n",
       "\n",
       "    .dataframe thead th {\n",
       "        text-align: right;\n",
       "    }\n",
       "</style>\n",
       "<table border=\"1\" class=\"dataframe\">\n",
       "  <thead>\n",
       "    <tr style=\"text-align: right;\">\n",
       "      <th></th>\n",
       "      <th>inicio</th>\n",
       "      <th>final</th>\n",
       "      <th>distancia</th>\n",
       "      <th>duracion</th>\n",
       "      <th>denom_ini</th>\n",
       "      <th>denom_fin</th>\n",
       "    </tr>\n",
       "  </thead>\n",
       "  <tbody>\n",
       "    <tr>\n",
       "      <td>0</td>\n",
       "      <td>(41.321165, 2.027702)</td>\n",
       "      <td>(40.80762, 0.52007)</td>\n",
       "      <td>164 km</td>\n",
       "      <td>1 hour 42 mins</td>\n",
       "      <td>CC ALDI</td>\n",
       "      <td>EdRsR Tortosa (AC22kW) PIRVEC-24</td>\n",
       "    </tr>\n",
       "    <tr>\n",
       "      <td>1</td>\n",
       "      <td>(41.321165, 2.027702)</td>\n",
       "      <td>(41.38455, 2.1376713)</td>\n",
       "      <td>15.1 km</td>\n",
       "      <td>19 mins</td>\n",
       "      <td>CC ALDI</td>\n",
       "      <td>HOTEL NH NUMANCIA</td>\n",
       "    </tr>\n",
       "    <tr>\n",
       "      <td>2</td>\n",
       "      <td>(41.321165, 2.027702)</td>\n",
       "      <td>(41.394009000000004, 2.115265)</td>\n",
       "      <td>13.8 km</td>\n",
       "      <td>16 mins</td>\n",
       "      <td>CC ALDI</td>\n",
       "      <td>B:SM 20 - Marques de Mulhacen</td>\n",
       "    </tr>\n",
       "    <tr>\n",
       "      <td>3</td>\n",
       "      <td>(41.321165, 2.027702)</td>\n",
       "      <td>(41.4047, 2.1896)</td>\n",
       "      <td>22.5 km</td>\n",
       "      <td>27 mins</td>\n",
       "      <td>CC ALDI</td>\n",
       "      <td>B:SM 24 - Ona Glòries</td>\n",
       "    </tr>\n",
       "    <tr>\n",
       "      <td>4</td>\n",
       "      <td>(41.321165, 2.027702)</td>\n",
       "      <td>(41.66519, 1.86011)</td>\n",
       "      <td>52.1 km</td>\n",
       "      <td>42 mins</td>\n",
       "      <td>CC ALDI</td>\n",
       "      <td>EdRsR Sant Vicenç de Castellet (AC22kW)</td>\n",
       "    </tr>\n",
       "    <tr>\n",
       "      <td>...</td>\n",
       "      <td>...</td>\n",
       "      <td>...</td>\n",
       "      <td>...</td>\n",
       "      <td>...</td>\n",
       "      <td>...</td>\n",
       "      <td>...</td>\n",
       "    </tr>\n",
       "    <tr>\n",
       "      <td>87148</td>\n",
       "      <td>(41.613690000000005, 2.3454900000000003)</td>\n",
       "      <td>(41.389255, 2.161321)</td>\n",
       "      <td>41.7 km</td>\n",
       "      <td>39 mins</td>\n",
       "      <td>CC La Roca Village Aparcament (11kW)</td>\n",
       "      <td>28 AjBCN-Endesa-Aragó-Pl.Letamendi</td>\n",
       "    </tr>\n",
       "    <tr>\n",
       "      <td>87149</td>\n",
       "      <td>(41.613690000000005, 2.3454900000000003)</td>\n",
       "      <td>(41.56064, 2.0059)</td>\n",
       "      <td>37.7 km</td>\n",
       "      <td>36 mins</td>\n",
       "      <td>CC La Roca Village Aparcament (11kW)</td>\n",
       "      <td>Aparcament Plaça Progrés</td>\n",
       "    </tr>\n",
       "    <tr>\n",
       "      <td>87150</td>\n",
       "      <td>(41.372299, 2.153134)</td>\n",
       "      <td>(41.389255, 2.161321)</td>\n",
       "      <td>40.8 km</td>\n",
       "      <td>33 mins</td>\n",
       "      <td>B:SM 35 - Rius i Taulet</td>\n",
       "      <td>28 AjBCN-Endesa-Aragó-Pl.Letamendi</td>\n",
       "    </tr>\n",
       "    <tr>\n",
       "      <td>87151</td>\n",
       "      <td>(41.372299, 2.153134)</td>\n",
       "      <td>(41.56064, 2.0059)</td>\n",
       "      <td>3.3 km</td>\n",
       "      <td>13 mins</td>\n",
       "      <td>B:SM 35 - Rius i Taulet</td>\n",
       "      <td>Aparcament Plaça Progrés</td>\n",
       "    </tr>\n",
       "    <tr>\n",
       "      <td>87152</td>\n",
       "      <td>(41.389255, 2.161321)</td>\n",
       "      <td>(41.56064, 2.0059)</td>\n",
       "      <td>41.2 km</td>\n",
       "      <td>39 mins</td>\n",
       "      <td>28 AjBCN-Endesa-Aragó-Pl.Letamendi</td>\n",
       "      <td>Aparcament Plaça Progrés</td>\n",
       "    </tr>\n",
       "  </tbody>\n",
       "</table>\n",
       "<p>87153 rows × 6 columns</p>\n",
       "</div>"
      ],
      "text/plain": [
       "                                         inicio  \\\n",
       "0                         (41.321165, 2.027702)   \n",
       "1                         (41.321165, 2.027702)   \n",
       "2                         (41.321165, 2.027702)   \n",
       "3                         (41.321165, 2.027702)   \n",
       "4                         (41.321165, 2.027702)   \n",
       "...                                         ...   \n",
       "87148  (41.613690000000005, 2.3454900000000003)   \n",
       "87149  (41.613690000000005, 2.3454900000000003)   \n",
       "87150                     (41.372299, 2.153134)   \n",
       "87151                     (41.372299, 2.153134)   \n",
       "87152                     (41.389255, 2.161321)   \n",
       "\n",
       "                                final distancia        duracion  \\\n",
       "0                 (40.80762, 0.52007)    164 km  1 hour 42 mins   \n",
       "1               (41.38455, 2.1376713)   15.1 km         19 mins   \n",
       "2      (41.394009000000004, 2.115265)   13.8 km         16 mins   \n",
       "3                   (41.4047, 2.1896)   22.5 km         27 mins   \n",
       "4                 (41.66519, 1.86011)   52.1 km         42 mins   \n",
       "...                               ...       ...             ...   \n",
       "87148           (41.389255, 2.161321)   41.7 km         39 mins   \n",
       "87149              (41.56064, 2.0059)   37.7 km         36 mins   \n",
       "87150           (41.389255, 2.161321)   40.8 km         33 mins   \n",
       "87151              (41.56064, 2.0059)    3.3 km         13 mins   \n",
       "87152              (41.56064, 2.0059)   41.2 km         39 mins   \n",
       "\n",
       "                                  denom_ini  \\\n",
       "0                                   CC ALDI   \n",
       "1                                   CC ALDI   \n",
       "2                                   CC ALDI   \n",
       "3                                   CC ALDI   \n",
       "4                                   CC ALDI   \n",
       "...                                     ...   \n",
       "87148  CC La Roca Village Aparcament (11kW)   \n",
       "87149  CC La Roca Village Aparcament (11kW)   \n",
       "87150               B:SM 35 - Rius i Taulet   \n",
       "87151               B:SM 35 - Rius i Taulet   \n",
       "87152    28 AjBCN-Endesa-Aragó-Pl.Letamendi   \n",
       "\n",
       "                                     denom_fin  \n",
       "0             EdRsR Tortosa (AC22kW) PIRVEC-24  \n",
       "1                            HOTEL NH NUMANCIA  \n",
       "2                B:SM 20 - Marques de Mulhacen  \n",
       "3                        B:SM 24 - Ona Glòries  \n",
       "4      EdRsR Sant Vicenç de Castellet (AC22kW)  \n",
       "...                                        ...  \n",
       "87148       28 AjBCN-Endesa-Aragó-Pl.Letamendi  \n",
       "87149                 Aparcament Plaça Progrés  \n",
       "87150       28 AjBCN-Endesa-Aragó-Pl.Letamendi  \n",
       "87151                 Aparcament Plaça Progrés  \n",
       "87152                 Aparcament Plaça Progrés  \n",
       "\n",
       "[87153 rows x 6 columns]"
      ]
     },
     "execution_count": 145,
     "metadata": {},
     "output_type": "execute_result"
    }
   ],
   "source": [
    "df_grafo_desc"
   ]
  },
  {
   "cell_type": "code",
   "execution_count": 146,
   "metadata": {},
   "outputs": [],
   "source": [
    "df_grafo_desc.to_csv('df_grafo_desc.csv',index=False)"
   ]
  }
 ],
 "metadata": {
  "kernelspec": {
   "display_name": "Python 3",
   "language": "python",
   "name": "python3"
  },
  "language_info": {
   "codemirror_mode": {
    "name": "ipython",
    "version": 3
   },
   "file_extension": ".py",
   "mimetype": "text/x-python",
   "name": "python",
   "nbconvert_exporter": "python",
   "pygments_lexer": "ipython3",
   "version": "3.7.4"
  }
 },
 "nbformat": 4,
 "nbformat_minor": 2
}
